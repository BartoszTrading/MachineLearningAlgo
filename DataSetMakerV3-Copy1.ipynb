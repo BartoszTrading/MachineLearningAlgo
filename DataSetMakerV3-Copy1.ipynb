{
 "cells": [
  {
   "cell_type": "code",
   "execution_count": 11,
   "id": "inappropriate-coverage",
   "metadata": {},
   "outputs": [
    {
     "name": "stdout",
     "output_type": "stream",
     "text": [
      "START:  AAPLTRENDS.csv\n",
      "4338\n"
     ]
    },
    {
     "name": "stderr",
     "output_type": "stream",
     "text": [
      "<ipython-input-11-af95e93b2310>:17: SettingWithCopyWarning: \n",
      "A value is trying to be set on a copy of a slice from a DataFrame\n",
      "\n",
      "See the caveats in the documentation: https://pandas.pydata.org/pandas-docs/stable/user_guide/indexing.html#returning-a-view-versus-a-copy\n",
      "  ticker['change'][x]= change_m\n"
     ]
    },
    {
     "name": "stdout",
     "output_type": "stream",
     "text": [
      "DONE:  AAPLTRENDS.csv\n",
      "START:  AIGTRENDS.csv\n",
      "4338\n",
      "DONE:  AIGTRENDS.csv\n",
      "START:  AONTRENDS.csv\n",
      "4338\n",
      "DONE:  AONTRENDS.csv\n",
      "START:  BAXTRENDS.csv\n",
      "4338\n",
      "DONE:  BAXTRENDS.csv\n",
      "START:  CBTRENDS.csv\n",
      "4338\n",
      "DONE:  CBTRENDS.csv\n",
      "START:  CNCTRENDS.csv\n",
      "4338\n",
      "DONE:  CNCTRENDS.csv\n",
      "START:  CTRENDS.csv\n",
      "4338\n",
      "DONE:  CTRENDS.csv\n",
      "START:  DHRTRENDS.csv\n",
      "4338\n",
      "DONE:  DHRTRENDS.csv\n",
      "START:  EATRENDS.csv\n",
      "4338\n",
      "DONE:  EATRENDS.csv\n",
      "START:  FBTRENDS.csv\n",
      "2229\n",
      "DONE:  FBTRENDS.csv\n",
      "START:  GLWTRENDS.csv\n",
      "4338\n",
      "DONE:  GLWTRENDS.csv\n",
      "START:  HPQTRENDS.csv\n",
      "4338\n",
      "DONE:  HPQTRENDS.csv\n",
      "START:  IQVTRENDS.csv\n",
      "1956\n",
      "DONE:  IQVTRENDS.csv\n",
      "START:  KMITRENDS.csv\n",
      "2547\n",
      "DONE:  KMITRENDS.csv\n",
      "START:  LVSTRENDS.csv\n",
      "4098\n",
      "DONE:  LVSTRENDS.csv\n",
      "START:  MMCTRENDS.csv\n",
      "4338\n",
      "DONE:  MMCTRENDS.csv\n",
      "START:  MTCHTRENDS.csv\n",
      "1346\n",
      "DONE:  MTCHTRENDS.csv\n",
      "START:  ORCLTRENDS.csv\n",
      "4333\n",
      "DONE:  ORCLTRENDS.csv\n",
      "START:  PLDTRENDS.csv\n",
      "4338\n",
      "DONE:  PLDTRENDS.csv\n",
      "START:  ROPTRENDS.csv\n",
      "4338\n",
      "DONE:  ROPTRENDS.csv\n",
      "START:  SPGTRENDS.csv\n",
      "4338\n",
      "DONE:  SPGTRENDS.csv\n",
      "START:  TJXTRENDS.csv\n",
      "4338\n",
      "DONE:  TJXTRENDS.csv\n",
      "START:  TXNTRENDS.csv\n",
      "4338\n",
      "DONE:  TXNTRENDS.csv\n",
      "START:  WBATRENDS.csv\n",
      "4338\n",
      "DONE:  WBATRENDS.csv\n",
      "START:  ZTSTRENDS.csv\n",
      "2053\n",
      "DONE:  ZTSTRENDS.csv\n"
     ]
    }
   ],
   "source": [
    "import pandas as pd\n",
    "import os\n",
    "gg = []\n",
    "import numpy as np\n",
    "def makeSet(file):\n",
    "    ticker = pd.read_csv('Trends-GooglTrends/'+file)\n",
    "    print(len(ticker))\n",
    "    for x in range(len(ticker)):\n",
    "        if x != len(ticker)-32:\n",
    "            first_m= ticker['Close'][x]\n",
    "            second_m = ticker['Close'][x+5]\n",
    "            change = (second_m - first_m)\n",
    "            if change > 0:\n",
    "                change_m = 1\n",
    "            else:\n",
    "                change_m = 0\n",
    "            ticker['change'][x]= change_m\n",
    "            ticker.to_csv('Trends-GooglTrends/'+file)\n",
    "        else:\n",
    "            break\n",
    "#df_6 = pd.read_csv('nasdaq-100.csv')\n",
    "#spolki = df_6['Symbol'].to_list()\n",
    "spolki = os.listdir('Trends-GooglTrends')\n",
    "spolki = spolki[1::10]\n",
    "for x in spolki:\n",
    "    print('START: ',x)\n",
    "    makeSet(x)\n",
    "    print('DONE: ',x)"
   ]
  },
  {
   "cell_type": "code",
   "execution_count": null,
   "id": "technological-chambers",
   "metadata": {},
   "outputs": [],
   "source": []
  },
  {
   "cell_type": "code",
   "execution_count": null,
   "id": "fleet-surname",
   "metadata": {},
   "outputs": [],
   "source": []
  },
  {
   "cell_type": "code",
   "execution_count": null,
   "id": "critical-uncertainty",
   "metadata": {},
   "outputs": [],
   "source": []
  },
  {
   "cell_type": "code",
   "execution_count": null,
   "id": "ambient-concentration",
   "metadata": {},
   "outputs": [],
   "source": []
  },
  {
   "cell_type": "code",
   "execution_count": 10,
   "id": "applied-production",
   "metadata": {},
   "outputs": [
    {
     "name": "stdout",
     "output_type": "stream",
     "text": [
      "['AAPLTRENDS.csv', 'ABBVTRENDS.csv', 'ABTTRENDS.csv', 'ACNTRENDS.csv', 'ADBETRENDS.csv', 'ADITRENDS.csv', 'ADPTRENDS.csv', 'ADSKTRENDS.csv', 'AEPTRENDS.csv', 'AFLTRENDS.csv', 'AIGTRENDS.csv', 'ALGNTRENDS.csv', 'ALLTRENDS.csv', 'ALXNTRENDS.csv', 'AMATTRENDS.csv', 'AMDTRENDS.csv', 'AMGNTRENDS.csv', 'AMTTRENDS.csv', 'AMZNTRENDS.csv', 'ANTMTRENDS.csv', 'AONTRENDS.csv', 'APDTRENDS.csv', 'APHTRENDS.csv', 'APTVTRENDS.csv', 'ATRENDS.csv', 'ATVITRENDS.csv', 'AVGOTRENDS.csv', 'AXPTRENDS.csv', 'BACTRENDS.csv', 'BATRENDS.csv', 'BAXTRENDS.csv', 'BDXTRENDS.csv', 'BIIBTRENDS.csv', 'BKNGTRENDS.csv', 'BKTRENDS.csv', 'BLKTRENDS.csv', 'BMYTRENDS.csv', 'BSXTRENDS.csv', 'CARRTRENDS.csv', 'CATTRENDS.csv', 'CBTRENDS.csv', 'CCITRENDS.csv', 'CDNSTRENDS.csv', 'CHTRTRENDS.csv', 'CITRENDS.csv', 'CLTRENDS.csv', 'CMCSATRENDS.csv', 'CMETRENDS.csv', 'CMGTRENDS.csv', 'CMITRENDS.csv', 'CNCTRENDS.csv', 'COFTRENDS.csv', 'COPTRENDS.csv', 'COSTTRENDS.csv', 'CRMTRENDS.csv', 'CRWDTRENDS.csv', 'CSCOTRENDS.csv', 'CSGPTRENDS.csv', 'CSXTRENDS.csv', 'CTASTRENDS.csv', 'CTRENDS.csv', 'CTSHTRENDS.csv', 'CTVATRENDS.csv', 'CVSTRENDS.csv', 'CVXTRENDS.csv', 'DDTRENDS.csv', 'DELLTRENDS.csv', 'DETRENDS.csv', 'DGTRENDS.csv', 'DHITRENDS.csv', 'DHRTRENDS.csv', 'DISCATRENDS.csv', 'DISCKTRENDS.csv', 'DISTRENDS.csv', 'DLRTRENDS.csv', 'DOCUTRENDS.csv', 'DOWTRENDS.csv', 'DTRENDS.csv', 'DUKTRENDS.csv', 'DXCMTRENDS.csv', 'EATRENDS.csv', 'EBAYTRENDS.csv', 'ECLTRENDS.csv', 'ELTRENDS.csv', 'EMRTRENDS.csv', 'EOGTRENDS.csv', 'EQIXTRENDS.csv', 'ETNTRENDS.csv', 'EWTRENDS.csv', 'EXCTRENDS.csv', 'FBTRENDS.csv', 'FCXTRENDS.csv', 'FDXTRENDS.csv', 'FISTRENDS.csv', 'FISVTRENDS.csv', 'FTRENDS.csv', 'GDTRENDS.csv', 'GETRENDS.csv', 'GILDTRENDS.csv', 'GISTRENDS.csv', 'GLWTRENDS.csv', 'GMTRENDS.csv', 'GOOGLTRENDS.csv', 'GOOGTRENDS.csv', 'GPNTRENDS.csv', 'GSTRENDS.csv', 'HCATRENDS.csv', 'HDTRENDS.csv', 'HLTTRENDS.csv', 'HONTRENDS.csv', 'HPQTRENDS.csv', 'HUMTRENDS.csv', 'IBMTRENDS.csv', 'ICETRENDS.csv', 'IDXXTRENDS.csv', 'IFFTRENDS.csv', 'ILMNTRENDS.csv', 'INFOTRENDS.csv', 'INTCTRENDS.csv', 'INTUTRENDS.csv', 'IQVTRENDS.csv', 'ISRGTRENDS.csv', 'ITWTRENDS.csv', 'JCITRENDS.csv', 'JNJTRENDS.csv', 'JPMTRENDS.csv', 'KDPTRENDS.csv', 'KHCTRENDS.csv', 'KLACTRENDS.csv', 'KMBTRENDS.csv', 'KMITRENDS.csv', 'KOTRENDS.csv', 'LHXTRENDS.csv', 'LINTRENDS.csv', 'LLYTRENDS.csv', 'LMTTRENDS.csv', 'LOWTRENDS.csv', 'LRCXTRENDS.csv', 'LULUTRENDS.csv', 'LUVTRENDS.csv', 'LVSTRENDS.csv', 'LYBTRENDS.csv', 'MARTRENDS.csv', 'MATRENDS.csv', 'MCDTRENDS.csv', 'MCHPTRENDS.csv', 'MCOTRENDS.csv', 'MDLZTRENDS.csv', 'MDTTRENDS.csv', 'METTRENDS.csv', 'MMCTRENDS.csv', 'MMMTRENDS.csv', 'MNSTTRENDS.csv', 'MOTRENDS.csv', 'MPCTRENDS.csv', 'MRKTRENDS.csv', 'MRNATRENDS.csv', 'MSCITRENDS.csv', 'MSFTTRENDS.csv', 'MSTRENDS.csv', 'MTCHTRENDS.csv', 'MUTRENDS.csv', 'NEETRENDS.csv', 'NEMTRENDS.csv', 'NFLXTRENDS.csv', 'NKETRENDS.csv', 'NOCTRENDS.csv', 'NOWTRENDS.csv', 'NSCTRENDS.csv', 'NVDATRENDS.csv', 'ORCLTRENDS.csv', 'ORLYTRENDS.csv', 'PANWTRENDS.csv', 'PAYXTRENDS.csv', 'PEPTRENDS.csv', 'PFETRENDS.csv', 'PGRTRENDS.csv', 'PGTRENDS.csv', 'PHTRENDS.csv', 'PINSTRENDS.csv', 'PLDTRENDS.csv', 'PMTRENDS.csv', 'PNCTRENDS.csv', 'PPGTRENDS.csv', 'PRUTRENDS.csv', 'PSATRENDS.csv', 'PYPLTRENDS.csv', 'QCOMTRENDS.csv', 'REGNTRENDS.csv', 'ROKUTRENDS.csv', 'ROPTRENDS.csv', 'ROSTTRENDS.csv', 'RTXTRENDS.csv', 'SBUXTRENDS.csv', 'SCCOTRENDS.csv', 'SCHWTRENDS.csv', 'SLBTRENDS.csv', 'SNPSTRENDS.csv', 'SOTRENDS.csv', 'SPGITRENDS.csv', 'SPGTRENDS.csv', 'SPOTTRENDS.csv', 'SQTRENDS.csv', 'SRETRENDS.csv', 'STZTRENDS.csv', 'SYKTRENDS.csv', 'SYYTRENDS.csv', 'TEAMTRENDS.csv', 'TFCTRENDS.csv', 'TGTTRENDS.csv', 'TJXTRENDS.csv', 'TMOTRENDS.csv', 'TMUSTRENDS.csv', 'TROWTRENDS.csv', 'TRVTRENDS.csv', 'TSLATRENDS.csv', 'TTRENDS.csv', 'TTTRENDS.csv', 'TWLOTRENDS.csv', 'TWTRTRENDS.csv', 'TXNTRENDS.csv', 'UBERTRENDS.csv', 'UNHTRENDS.csv', 'UNPTRENDS.csv', 'UPSTRENDS.csv', 'USBTRENDS.csv', 'VEEVTRENDS.csv', 'VRTXTRENDS.csv', 'VTRENDS.csv', 'VZTRENDS.csv', 'WBATRENDS.csv', 'WDAYTRENDS.csv', 'WFCTRENDS.csv', 'WMTRENDS.csv', 'WMTTRENDS.csv', 'XELTRENDS.csv', 'XOMTRENDS.csv', 'YUMTRENDS.csv', 'ZBHTRENDS.csv', 'ZMTRENDS.csv', 'ZTSTRENDS.csv']\n",
      "AAPLTRENDS.csv\n",
      "ABBVTRENDS.csv\n",
      "ABTTRENDS.csv\n",
      "ACNTRENDS.csv\n",
      "ADBETRENDS.csv\n",
      "ADITRENDS.csv\n",
      "ADPTRENDS.csv\n",
      "ADSKTRENDS.csv\n",
      "AEPTRENDS.csv\n",
      "AFLTRENDS.csv\n",
      "AIGTRENDS.csv\n",
      "ALGNTRENDS.csv\n",
      "ALLTRENDS.csv\n",
      "ALXNTRENDS.csv\n",
      "AMATTRENDS.csv\n",
      "AMDTRENDS.csv\n",
      "AMGNTRENDS.csv\n",
      "AMTTRENDS.csv\n",
      "AMZNTRENDS.csv\n",
      "ANTMTRENDS.csv\n",
      "AONTRENDS.csv\n",
      "APDTRENDS.csv\n",
      "APHTRENDS.csv\n",
      "APTVTRENDS.csv\n",
      "ATRENDS.csv\n",
      "ATVITRENDS.csv\n",
      "AVGOTRENDS.csv\n",
      "AXPTRENDS.csv\n",
      "BACTRENDS.csv\n",
      "BATRENDS.csv\n",
      "BAXTRENDS.csv\n",
      "BDXTRENDS.csv\n",
      "BIIBTRENDS.csv\n",
      "BKNGTRENDS.csv\n",
      "BKTRENDS.csv\n",
      "BLKTRENDS.csv\n",
      "BMYTRENDS.csv\n",
      "BSXTRENDS.csv\n",
      "CARRTRENDS.csv\n",
      "CATTRENDS.csv\n",
      "CBTRENDS.csv\n",
      "CCITRENDS.csv\n",
      "CDNSTRENDS.csv\n",
      "CHTRTRENDS.csv\n",
      "CITRENDS.csv\n",
      "CLTRENDS.csv\n",
      "CMCSATRENDS.csv\n",
      "CMETRENDS.csv\n",
      "CMGTRENDS.csv\n",
      "CMITRENDS.csv\n",
      "CNCTRENDS.csv\n",
      "COFTRENDS.csv\n",
      "COPTRENDS.csv\n",
      "COSTTRENDS.csv\n",
      "CRMTRENDS.csv\n",
      "CRWDTRENDS.csv\n",
      "CSCOTRENDS.csv\n",
      "CSGPTRENDS.csv\n",
      "CSXTRENDS.csv\n",
      "CTASTRENDS.csv\n",
      "CTRENDS.csv\n",
      "CTSHTRENDS.csv\n",
      "CTVATRENDS.csv\n",
      "CVSTRENDS.csv\n",
      "CVXTRENDS.csv\n",
      "DDTRENDS.csv\n",
      "DELLTRENDS.csv\n",
      "DETRENDS.csv\n",
      "DGTRENDS.csv\n",
      "DHITRENDS.csv\n",
      "DHRTRENDS.csv\n",
      "DISCATRENDS.csv\n",
      "DISCKTRENDS.csv\n",
      "DISTRENDS.csv\n",
      "DLRTRENDS.csv\n",
      "DOCUTRENDS.csv\n",
      "DOWTRENDS.csv\n",
      "DTRENDS.csv\n",
      "DUKTRENDS.csv\n",
      "DXCMTRENDS.csv\n",
      "EATRENDS.csv\n",
      "EBAYTRENDS.csv\n",
      "ECLTRENDS.csv\n",
      "ELTRENDS.csv\n",
      "EMRTRENDS.csv\n",
      "EOGTRENDS.csv\n",
      "EQIXTRENDS.csv\n",
      "ETNTRENDS.csv\n",
      "EWTRENDS.csv\n",
      "EXCTRENDS.csv\n",
      "FBTRENDS.csv\n",
      "FCXTRENDS.csv\n",
      "FDXTRENDS.csv\n",
      "FISTRENDS.csv\n",
      "FISVTRENDS.csv\n",
      "FTRENDS.csv\n",
      "GDTRENDS.csv\n",
      "GETRENDS.csv\n",
      "GILDTRENDS.csv\n",
      "GISTRENDS.csv\n",
      "GLWTRENDS.csv\n",
      "GMTRENDS.csv\n",
      "GOOGLTRENDS.csv\n",
      "GOOGTRENDS.csv\n",
      "GPNTRENDS.csv\n",
      "GSTRENDS.csv\n",
      "HCATRENDS.csv\n",
      "HDTRENDS.csv\n",
      "HLTTRENDS.csv\n",
      "HONTRENDS.csv\n",
      "HPQTRENDS.csv\n",
      "HUMTRENDS.csv\n",
      "IBMTRENDS.csv\n",
      "ICETRENDS.csv\n",
      "IDXXTRENDS.csv\n",
      "IFFTRENDS.csv\n",
      "ILMNTRENDS.csv\n",
      "INFOTRENDS.csv\n",
      "INTCTRENDS.csv\n",
      "INTUTRENDS.csv\n",
      "IQVTRENDS.csv\n",
      "ISRGTRENDS.csv\n",
      "ITWTRENDS.csv\n",
      "JCITRENDS.csv\n",
      "JNJTRENDS.csv\n",
      "JPMTRENDS.csv\n",
      "KDPTRENDS.csv\n",
      "KHCTRENDS.csv\n",
      "KLACTRENDS.csv\n",
      "KMBTRENDS.csv\n",
      "KMITRENDS.csv\n",
      "KOTRENDS.csv\n",
      "LHXTRENDS.csv\n",
      "LINTRENDS.csv\n",
      "LLYTRENDS.csv\n",
      "LMTTRENDS.csv\n",
      "LOWTRENDS.csv\n",
      "LRCXTRENDS.csv\n",
      "LULUTRENDS.csv\n",
      "LUVTRENDS.csv\n",
      "LVSTRENDS.csv\n",
      "LYBTRENDS.csv\n",
      "MARTRENDS.csv\n",
      "MATRENDS.csv\n",
      "MCDTRENDS.csv\n",
      "MCHPTRENDS.csv\n",
      "MCOTRENDS.csv\n",
      "MDLZTRENDS.csv\n",
      "MDTTRENDS.csv\n",
      "METTRENDS.csv\n",
      "MMCTRENDS.csv\n",
      "MMMTRENDS.csv\n",
      "MNSTTRENDS.csv\n",
      "MOTRENDS.csv\n",
      "MPCTRENDS.csv\n",
      "MRKTRENDS.csv\n",
      "MRNATRENDS.csv\n",
      "MSCITRENDS.csv\n",
      "MSFTTRENDS.csv\n",
      "MSTRENDS.csv\n",
      "MTCHTRENDS.csv\n",
      "MUTRENDS.csv\n",
      "NEETRENDS.csv\n",
      "NEMTRENDS.csv\n",
      "NFLXTRENDS.csv\n",
      "NKETRENDS.csv\n",
      "NOCTRENDS.csv\n",
      "NOWTRENDS.csv\n",
      "NSCTRENDS.csv\n",
      "NVDATRENDS.csv\n",
      "ORCLTRENDS.csv\n",
      "ORLYTRENDS.csv\n",
      "PANWTRENDS.csv\n",
      "PAYXTRENDS.csv\n",
      "PEPTRENDS.csv\n",
      "PFETRENDS.csv\n",
      "PGRTRENDS.csv\n",
      "PGTRENDS.csv\n",
      "PHTRENDS.csv\n",
      "PINSTRENDS.csv\n",
      "PLDTRENDS.csv\n",
      "PMTRENDS.csv\n",
      "PNCTRENDS.csv\n",
      "PPGTRENDS.csv\n",
      "PRUTRENDS.csv\n",
      "PSATRENDS.csv\n",
      "PYPLTRENDS.csv\n",
      "QCOMTRENDS.csv\n",
      "REGNTRENDS.csv\n",
      "ROKUTRENDS.csv\n",
      "ROPTRENDS.csv\n",
      "ROSTTRENDS.csv\n",
      "RTXTRENDS.csv\n",
      "SBUXTRENDS.csv\n",
      "SCCOTRENDS.csv\n",
      "SCHWTRENDS.csv\n",
      "SLBTRENDS.csv\n",
      "SNPSTRENDS.csv\n",
      "SOTRENDS.csv\n",
      "SPGITRENDS.csv\n",
      "SPGTRENDS.csv\n",
      "SPOTTRENDS.csv\n",
      "SQTRENDS.csv\n",
      "SRETRENDS.csv\n",
      "STZTRENDS.csv\n",
      "SYKTRENDS.csv\n",
      "SYYTRENDS.csv\n",
      "TEAMTRENDS.csv\n",
      "TFCTRENDS.csv\n",
      "TGTTRENDS.csv\n",
      "TJXTRENDS.csv\n",
      "TMOTRENDS.csv\n",
      "TMUSTRENDS.csv\n",
      "TROWTRENDS.csv\n",
      "TRVTRENDS.csv\n",
      "TSLATRENDS.csv\n",
      "TTRENDS.csv\n",
      "TTTRENDS.csv\n",
      "TWLOTRENDS.csv\n",
      "TWTRTRENDS.csv\n",
      "TXNTRENDS.csv\n",
      "UBERTRENDS.csv\n",
      "UNHTRENDS.csv\n",
      "UNPTRENDS.csv\n",
      "UPSTRENDS.csv\n",
      "USBTRENDS.csv\n",
      "VEEVTRENDS.csv\n",
      "VRTXTRENDS.csv\n",
      "VTRENDS.csv\n",
      "VZTRENDS.csv\n",
      "WBATRENDS.csv\n",
      "WDAYTRENDS.csv\n",
      "WFCTRENDS.csv\n",
      "WMTRENDS.csv\n",
      "WMTTRENDS.csv\n",
      "XELTRENDS.csv\n",
      "XOMTRENDS.csv\n",
      "YUMTRENDS.csv\n",
      "ZBHTRENDS.csv\n",
      "ZMTRENDS.csv\n",
      "ZTSTRENDS.csv\n"
     ]
    }
   ],
   "source": [
    "import os\n",
    "import pandas as pd\n",
    "import numpy as np\n",
    "spolki = os.listdir('Trends-GooglTrends')\n",
    "spolki.pop(0)\n",
    "print(spolki)\n",
    "for x in spolki:\n",
    "    ticker = pd.read_csv('Trends-GooglTrends/'+x)\n",
    "    ticker['change'] = np.nan\n",
    "    ticker.to_csv('Trends-GooglTrends/'+x)\n",
    "    print(x)"
   ]
  },
  {
   "cell_type": "code",
   "execution_count": null,
   "id": "killing-invention",
   "metadata": {},
   "outputs": [],
   "source": []
  },
  {
   "cell_type": "code",
   "execution_count": null,
   "id": "sticky-driver",
   "metadata": {},
   "outputs": [],
   "source": []
  },
  {
   "cell_type": "code",
   "execution_count": null,
   "id": "higher-validity",
   "metadata": {},
   "outputs": [],
   "source": []
  },
  {
   "cell_type": "code",
   "execution_count": null,
   "id": "killing-first",
   "metadata": {},
   "outputs": [],
   "source": []
  },
  {
   "cell_type": "code",
   "execution_count": null,
   "id": "underlying-headset",
   "metadata": {},
   "outputs": [],
   "source": []
  },
  {
   "cell_type": "code",
   "execution_count": null,
   "id": "rational-sperm",
   "metadata": {},
   "outputs": [],
   "source": []
  },
  {
   "cell_type": "code",
   "execution_count": null,
   "id": "excess-stevens",
   "metadata": {},
   "outputs": [],
   "source": []
  },
  {
   "cell_type": "code",
   "execution_count": null,
   "id": "black-double",
   "metadata": {},
   "outputs": [],
   "source": []
  },
  {
   "cell_type": "code",
   "execution_count": null,
   "id": "requested-genesis",
   "metadata": {},
   "outputs": [],
   "source": []
  },
  {
   "cell_type": "code",
   "execution_count": null,
   "id": "surface-relief",
   "metadata": {},
   "outputs": [],
   "source": []
  },
  {
   "cell_type": "code",
   "execution_count": null,
   "id": "fiscal-madness",
   "metadata": {},
   "outputs": [],
   "source": []
  },
  {
   "cell_type": "code",
   "execution_count": null,
   "id": "religious-luther",
   "metadata": {},
   "outputs": [],
   "source": []
  },
  {
   "cell_type": "code",
   "execution_count": null,
   "id": "entertaining-award",
   "metadata": {},
   "outputs": [],
   "source": []
  },
  {
   "cell_type": "code",
   "execution_count": null,
   "id": "subjective-booth",
   "metadata": {},
   "outputs": [],
   "source": [
    "spolki = os.listdir('TrendsV3_L')\n",
    "spolki.pop(0)\n",
    "for x in spolki:\n",
    "    df = pd.read_csv()\n",
    "    "
   ]
  },
  {
   "cell_type": "code",
   "execution_count": null,
   "id": "sixth-pierre",
   "metadata": {},
   "outputs": [],
   "source": []
  },
  {
   "cell_type": "code",
   "execution_count": 3,
   "id": "fourth-frank",
   "metadata": {},
   "outputs": [
    {
     "data": {
      "text/html": [
       "<div>\n",
       "<style scoped>\n",
       "    .dataframe tbody tr th:only-of-type {\n",
       "        vertical-align: middle;\n",
       "    }\n",
       "\n",
       "    .dataframe tbody tr th {\n",
       "        vertical-align: top;\n",
       "    }\n",
       "\n",
       "    .dataframe thead th {\n",
       "        text-align: right;\n",
       "    }\n",
       "</style>\n",
       "<table border=\"1\" class=\"dataframe\">\n",
       "  <thead>\n",
       "    <tr style=\"text-align: right;\">\n",
       "      <th></th>\n",
       "      <th>Unnamed: 0</th>\n",
       "      <th>Unnamed: 0.1</th>\n",
       "      <th>Date</th>\n",
       "      <th>Open</th>\n",
       "      <th>High</th>\n",
       "      <th>Low</th>\n",
       "      <th>Close</th>\n",
       "      <th>Adjusted_close</th>\n",
       "      <th>Volume</th>\n",
       "      <th>change</th>\n",
       "    </tr>\n",
       "  </thead>\n",
       "  <tbody>\n",
       "    <tr>\n",
       "      <th>0</th>\n",
       "      <td>0</td>\n",
       "      <td>5819</td>\n",
       "      <td>2004-01-02</td>\n",
       "      <td>21.55</td>\n",
       "      <td>21.75</td>\n",
       "      <td>21.18</td>\n",
       "      <td>21.28</td>\n",
       "      <td>0.0</td>\n",
       "      <td>2583378.0</td>\n",
       "      <td>NaN</td>\n",
       "    </tr>\n",
       "    <tr>\n",
       "      <th>1</th>\n",
       "      <td>1</td>\n",
       "      <td>5820</td>\n",
       "      <td>2004-01-05</td>\n",
       "      <td>21.42</td>\n",
       "      <td>22.39</td>\n",
       "      <td>21.42</td>\n",
       "      <td>22.17</td>\n",
       "      <td>0.0</td>\n",
       "      <td>7060234.0</td>\n",
       "      <td>NaN</td>\n",
       "    </tr>\n",
       "    <tr>\n",
       "      <th>2</th>\n",
       "      <td>2</td>\n",
       "      <td>5821</td>\n",
       "      <td>2004-01-06</td>\n",
       "      <td>22.25</td>\n",
       "      <td>22.42</td>\n",
       "      <td>21.71</td>\n",
       "      <td>22.09</td>\n",
       "      <td>0.0</td>\n",
       "      <td>9101133.0</td>\n",
       "      <td>NaN</td>\n",
       "    </tr>\n",
       "    <tr>\n",
       "      <th>3</th>\n",
       "      <td>3</td>\n",
       "      <td>5822</td>\n",
       "      <td>2004-01-07</td>\n",
       "      <td>22.10</td>\n",
       "      <td>22.83</td>\n",
       "      <td>21.93</td>\n",
       "      <td>22.59</td>\n",
       "      <td>0.0</td>\n",
       "      <td>10481444.0</td>\n",
       "      <td>NaN</td>\n",
       "    </tr>\n",
       "    <tr>\n",
       "      <th>4</th>\n",
       "      <td>4</td>\n",
       "      <td>5823</td>\n",
       "      <td>2004-01-08</td>\n",
       "      <td>22.84</td>\n",
       "      <td>23.73</td>\n",
       "      <td>22.65</td>\n",
       "      <td>23.36</td>\n",
       "      <td>0.0</td>\n",
       "      <td>8220176.0</td>\n",
       "      <td>NaN</td>\n",
       "    </tr>\n",
       "  </tbody>\n",
       "</table>\n",
       "</div>"
      ],
      "text/plain": [
       "   Unnamed: 0  Unnamed: 0.1        Date   Open   High    Low  Close  \\\n",
       "0           0          5819  2004-01-02  21.55  21.75  21.18  21.28   \n",
       "1           1          5820  2004-01-05  21.42  22.39  21.42  22.17   \n",
       "2           2          5821  2004-01-06  22.25  22.42  21.71  22.09   \n",
       "3           3          5822  2004-01-07  22.10  22.83  21.93  22.59   \n",
       "4           4          5823  2004-01-08  22.84  23.73  22.65  23.36   \n",
       "\n",
       "   Adjusted_close      Volume  change  \n",
       "0             0.0   2583378.0     NaN  \n",
       "1             0.0   7060234.0     NaN  \n",
       "2             0.0   9101133.0     NaN  \n",
       "3             0.0  10481444.0     NaN  \n",
       "4             0.0   8220176.0     NaN  "
      ]
     },
     "execution_count": 3,
     "metadata": {},
     "output_type": "execute_result"
    }
   ],
   "source": [
    "ticker = pd.read_csv('Trends-GooglTrends/AAPLTRENDS.csv')\n",
    "ticker.head()"
   ]
  },
  {
   "cell_type": "code",
   "execution_count": null,
   "id": "grateful-junior",
   "metadata": {},
   "outputs": [],
   "source": []
  },
  {
   "cell_type": "code",
   "execution_count": null,
   "id": "prospective-coordinate",
   "metadata": {},
   "outputs": [],
   "source": []
  },
  {
   "cell_type": "code",
   "execution_count": null,
   "id": "specific-ukraine",
   "metadata": {},
   "outputs": [],
   "source": []
  },
  {
   "cell_type": "code",
   "execution_count": null,
   "id": "devoted-wings",
   "metadata": {},
   "outputs": [],
   "source": []
  },
  {
   "cell_type": "code",
   "execution_count": null,
   "id": "offensive-education",
   "metadata": {},
   "outputs": [],
   "source": []
  },
  {
   "cell_type": "code",
   "execution_count": null,
   "id": "crude-fifth",
   "metadata": {},
   "outputs": [],
   "source": []
  },
  {
   "cell_type": "code",
   "execution_count": null,
   "id": "charitable-discovery",
   "metadata": {},
   "outputs": [],
   "source": []
  },
  {
   "cell_type": "code",
   "execution_count": 21,
   "id": "south-correction",
   "metadata": {},
   "outputs": [
    {
     "data": {
      "text/plain": [
       "<AxesSubplot:>"
      ]
     },
     "execution_count": 21,
     "metadata": {},
     "output_type": "execute_result"
    },
    {
     "data": {
      "image/png": "[encoded data removed]",
      "text/plain": [
       "<Figure size 432x288 with 1 Axes>"
      ]
     },
     "metadata": {
      "needs_background": "light"
     },
     "output_type": "display_data"
    }
   ],
   "source": [
    "import matplotlib.pyplot as plt\n",
    "%matplotlib inline\n",
    "import pandas as pd\n",
    "df = pd.read_csv('Wykresik2')\n",
    "df1 = pd.read_csv('S1')\n",
    "df2 = pd.read_csv('S2')\n",
    "df3 = pd.read_csv('S3')\n",
    "df4 = pd.read_csv('S4')\n",
    "\n",
    "#df4['0'].plot(color='purple')\n",
    "df['0'].plot()"
   ]
  },
  {
   "cell_type": "code",
   "execution_count": null,
   "id": "handy-parts",
   "metadata": {},
   "outputs": [],
   "source": []
  },
  {
   "cell_type": "code",
   "execution_count": null,
   "id": "eleven-variable",
   "metadata": {},
   "outputs": [],
   "source": []
  },
  {
   "cell_type": "code",
   "execution_count": null,
   "id": "miniature-longer",
   "metadata": {},
   "outputs": [],
   "source": []
  },
  {
   "cell_type": "code",
   "execution_count": null,
   "id": "after-steal",
   "metadata": {},
   "outputs": [],
   "source": []
  },
  {
   "cell_type": "code",
   "execution_count": null,
   "id": "initial-cargo",
   "metadata": {},
   "outputs": [],
   "source": []
  },
  {
   "cell_type": "code",
   "execution_count": null,
   "id": "coated-cooler",
   "metadata": {},
   "outputs": [],
   "source": []
  },
  {
   "cell_type": "code",
   "execution_count": null,
   "id": "continuing-least",
   "metadata": {},
   "outputs": [],
   "source": []
  },
  {
   "cell_type": "code",
   "execution_count": null,
   "id": "exposed-stanley",
   "metadata": {},
   "outputs": [],
   "source": []
  },
  {
   "cell_type": "code",
   "execution_count": null,
   "id": "answering-restoration",
   "metadata": {},
   "outputs": [],
   "source": []
  },
  {
   "cell_type": "code",
   "execution_count": null,
   "id": "frozen-madness",
   "metadata": {},
   "outputs": [],
   "source": []
  },
  {
   "cell_type": "code",
   "execution_count": null,
   "id": "complete-stations",
   "metadata": {},
   "outputs": [],
   "source": []
  },
  {
   "cell_type": "code",
   "execution_count": null,
   "id": "assumed-stage",
   "metadata": {},
   "outputs": [],
   "source": []
  },
  {
   "cell_type": "code",
   "execution_count": null,
   "id": "likely-bible",
   "metadata": {},
   "outputs": [],
   "source": [
    " "
   ]
  },
  {
   "cell_type": "code",
   "execution_count": null,
   "id": "transsexual-cabinet",
   "metadata": {},
   "outputs": [],
   "source": []
  },
  {
   "cell_type": "code",
   "execution_count": null,
   "id": "under-folks",
   "metadata": {},
   "outputs": [],
   "source": []
  },
  {
   "cell_type": "code",
   "execution_count": null,
   "id": "aging-revolution",
   "metadata": {},
   "outputs": [],
   "source": []
  },
  {
   "cell_type": "code",
   "execution_count": null,
   "id": "advisory-guide",
   "metadata": {},
   "outputs": [],
   "source": []
  },
  {
   "cell_type": "code",
   "execution_count": null,
   "id": "guided-hormone",
   "metadata": {},
   "outputs": [],
   "source": []
  },
  {
   "cell_type": "code",
   "execution_count": null,
   "id": "social-cargo",
   "metadata": {},
   "outputs": [],
   "source": []
  },
  {
   "cell_type": "code",
   "execution_count": null,
   "id": "controlling-frequency",
   "metadata": {},
   "outputs": [],
   "source": []
  },
  {
   "cell_type": "code",
   "execution_count": null,
   "id": "stainless-marketing",
   "metadata": {},
   "outputs": [],
   "source": []
  },
  {
   "cell_type": "code",
   "execution_count": null,
   "id": "unlikely-exhibit",
   "metadata": {},
   "outputs": [],
   "source": []
  },
  {
   "cell_type": "code",
   "execution_count": null,
   "id": "departmental-overhead",
   "metadata": {},
   "outputs": [],
   "source": []
  },
  {
   "cell_type": "code",
   "execution_count": null,
   "id": "polish-screw",
   "metadata": {},
   "outputs": [],
   "source": []
  },
  {
   "cell_type": "code",
   "execution_count": null,
   "id": "falling-spiritual",
   "metadata": {},
   "outputs": [],
   "source": []
  },
  {
   "cell_type": "code",
   "execution_count": null,
   "id": "natural-vocabulary",
   "metadata": {},
   "outputs": [],
   "source": []
  },
  {
   "cell_type": "code",
   "execution_count": null,
   "id": "satellite-beatles",
   "metadata": {},
   "outputs": [],
   "source": []
  },
  {
   "cell_type": "code",
   "execution_count": null,
   "id": "continent-butterfly",
   "metadata": {},
   "outputs": [],
   "source": []
  },
  {
   "cell_type": "code",
   "execution_count": null,
   "id": "early-disclosure",
   "metadata": {},
   "outputs": [],
   "source": []
  },
  {
   "cell_type": "code",
   "execution_count": null,
   "id": "dressed-vulnerability",
   "metadata": {},
   "outputs": [],
   "source": []
  },
  {
   "cell_type": "code",
   "execution_count": null,
   "id": "veterinary-oracle",
   "metadata": {},
   "outputs": [],
   "source": []
  },
  {
   "cell_type": "code",
   "execution_count": null,
   "id": "minor-tennis",
   "metadata": {},
   "outputs": [],
   "source": []
  },
  {
   "cell_type": "code",
   "execution_count": null,
   "id": "efficient-lafayette",
   "metadata": {},
   "outputs": [],
   "source": []
  },
  {
   "cell_type": "code",
   "execution_count": null,
   "id": "yellow-merit",
   "metadata": {},
   "outputs": [],
   "source": []
  },
  {
   "cell_type": "code",
   "execution_count": null,
   "id": "fatty-vacuum",
   "metadata": {},
   "outputs": [],
   "source": []
  },
  {
   "cell_type": "code",
   "execution_count": null,
   "id": "acquired-adams",
   "metadata": {},
   "outputs": [],
   "source": []
  },
  {
   "cell_type": "code",
   "execution_count": null,
   "id": "willing-policy",
   "metadata": {},
   "outputs": [],
   "source": []
  },
  {
   "cell_type": "code",
   "execution_count": null,
   "id": "processed-forge",
   "metadata": {},
   "outputs": [],
   "source": []
  },
  {
   "cell_type": "code",
   "execution_count": null,
   "id": "floral-stupid",
   "metadata": {},
   "outputs": [],
   "source": []
  },
  {
   "cell_type": "code",
   "execution_count": null,
   "id": "studied-accordance",
   "metadata": {},
   "outputs": [],
   "source": []
  },
  {
   "cell_type": "code",
   "execution_count": null,
   "id": "retired-editor",
   "metadata": {},
   "outputs": [],
   "source": []
  },
  {
   "cell_type": "code",
   "execution_count": null,
   "id": "southwest-compact",
   "metadata": {},
   "outputs": [],
   "source": []
  },
  {
   "cell_type": "code",
   "execution_count": null,
   "id": "hawaiian-assignment",
   "metadata": {},
   "outputs": [],
   "source": []
  },
  {
   "cell_type": "code",
   "execution_count": null,
   "id": "medium-camcorder",
   "metadata": {},
   "outputs": [],
   "source": []
  },
  {
   "cell_type": "code",
   "execution_count": null,
   "id": "acceptable-furniture",
   "metadata": {},
   "outputs": [],
   "source": []
  },
  {
   "cell_type": "code",
   "execution_count": 53,
   "id": "worth-tract",
   "metadata": {},
   "outputs": [
    {
     "data": {
      "text/plain": [
       "<AxesSubplot:>"
      ]
     },
     "execution_count": 53,
     "metadata": {},
     "output_type": "execute_result"
    },
    {
     "data": {
      "image/png": "[encoded data removed]",
      "text/plain": [
       "<Figure size 432x288 with 1 Axes>"
      ]
     },
     "metadata": {
      "needs_background": "light"
     },
     "output_type": "display_data"
    }
   ],
   "source": [
    "import matplotlib.pyplot as plt\n",
    "%matplotlib inline\n",
    "import pandas as pd\n",
    "df = pd.read_csv('Wykresik2')\n",
    "df['0'].plot()"
   ]
  },
  {
   "cell_type": "code",
   "execution_count": null,
   "id": "thermal-finding",
   "metadata": {},
   "outputs": [],
   "source": []
  },
  {
   "cell_type": "code",
   "execution_count": null,
   "id": "broke-feeding",
   "metadata": {},
   "outputs": [],
   "source": []
  },
  {
   "cell_type": "code",
   "execution_count": null,
   "id": "plain-control",
   "metadata": {},
   "outputs": [],
   "source": []
  },
  {
   "cell_type": "code",
   "execution_count": null,
   "id": "fourth-reflection",
   "metadata": {},
   "outputs": [],
   "source": []
  },
  {
   "cell_type": "code",
   "execution_count": null,
   "id": "modified-compatibility",
   "metadata": {},
   "outputs": [],
   "source": []
  },
  {
   "cell_type": "code",
   "execution_count": null,
   "id": "embedded-coordinator",
   "metadata": {},
   "outputs": [],
   "source": []
  },
  {
   "cell_type": "code",
   "execution_count": null,
   "id": "athletic-defendant",
   "metadata": {},
   "outputs": [],
   "source": []
  },
  {
   "cell_type": "code",
   "execution_count": null,
   "id": "forbidden-jewelry",
   "metadata": {},
   "outputs": [],
   "source": []
  },
  {
   "cell_type": "code",
   "execution_count": null,
   "id": "unlimited-reaction",
   "metadata": {},
   "outputs": [],
   "source": []
  },
  {
   "cell_type": "code",
   "execution_count": null,
   "id": "natural-macro",
   "metadata": {},
   "outputs": [],
   "source": []
  },
  {
   "cell_type": "code",
   "execution_count": null,
   "id": "interested-republican",
   "metadata": {},
   "outputs": [],
   "source": []
  },
  {
   "cell_type": "code",
   "execution_count": null,
   "id": "quiet-struggle",
   "metadata": {},
   "outputs": [],
   "source": []
  },
  {
   "cell_type": "code",
   "execution_count": null,
   "id": "particular-brother",
   "metadata": {},
   "outputs": [],
   "source": []
  },
  {
   "cell_type": "code",
   "execution_count": null,
   "id": "sharp-sixth",
   "metadata": {},
   "outputs": [],
   "source": []
  },
  {
   "cell_type": "code",
   "execution_count": null,
   "id": "mathematical-judgment",
   "metadata": {},
   "outputs": [],
   "source": []
  },
  {
   "cell_type": "code",
   "execution_count": 2,
   "id": "metallic-tuition",
   "metadata": {},
   "outputs": [
    {
     "data": {
      "image/png": "[encoded data removed]",
      "text/plain": [
       "<Figure size 1224x576 with 2 Axes>"
      ]
     },
     "metadata": {
      "needs_background": "light"
     },
     "output_type": "display_data"
    }
   ],
   "source": [
    "import matplotlib.pyplot as plt\n",
    "%matplotlib inline\n",
    "import pandas as pd\n",
    "df = pd.read_csv('Trends-GooglTrends/AIGTRENDS.csv')\n",
    "import seaborn as sns\n",
    "plt.figure(1 , figsize = (17 , 8))\n",
    "cor = sns.heatmap(df.corr(), annot = True)"
   ]
  },
  {
   "cell_type": "code",
   "execution_count": null,
   "id": "foster-pixel",
   "metadata": {},
   "outputs": [],
   "source": []
  },
  {
   "cell_type": "code",
   "execution_count": null,
   "id": "signed-search",
   "metadata": {},
   "outputs": [],
   "source": []
  },
  {
   "cell_type": "code",
   "execution_count": null,
   "id": "streaming-power",
   "metadata": {},
   "outputs": [],
   "source": []
  },
  {
   "cell_type": "code",
   "execution_count": null,
   "id": "labeled-interval",
   "metadata": {},
   "outputs": [],
   "source": []
  },
  {
   "cell_type": "code",
   "execution_count": null,
   "id": "painful-hughes",
   "metadata": {},
   "outputs": [],
   "source": []
  },
  {
   "cell_type": "code",
   "execution_count": null,
   "id": "subtle-stupid",
   "metadata": {},
   "outputs": [],
   "source": []
  },
  {
   "cell_type": "code",
   "execution_count": null,
   "id": "insured-concrete",
   "metadata": {},
   "outputs": [],
   "source": []
  },
  {
   "cell_type": "code",
   "execution_count": null,
   "id": "headed-friend",
   "metadata": {},
   "outputs": [],
   "source": []
  },
  {
   "cell_type": "code",
   "execution_count": null,
   "id": "cross-karaoke",
   "metadata": {},
   "outputs": [],
   "source": []
  },
  {
   "cell_type": "code",
   "execution_count": null,
   "id": "conscious-exchange",
   "metadata": {},
   "outputs": [],
   "source": []
  },
  {
   "cell_type": "code",
   "execution_count": null,
   "id": "beneficial-monitor",
   "metadata": {},
   "outputs": [],
   "source": []
  },
  {
   "cell_type": "code",
   "execution_count": null,
   "id": "detected-princess",
   "metadata": {},
   "outputs": [],
   "source": []
  },
  {
   "cell_type": "code",
   "execution_count": null,
   "id": "appointed-session",
   "metadata": {},
   "outputs": [],
   "source": [
    " "
   ]
  },
  {
   "cell_type": "code",
   "execution_count": null,
   "id": "bottom-compact",
   "metadata": {},
   "outputs": [],
   "source": []
  },
  {
   "cell_type": "code",
   "execution_count": null,
   "id": "willing-crown",
   "metadata": {},
   "outputs": [],
   "source": []
  },
  {
   "cell_type": "code",
   "execution_count": null,
   "id": "assumed-powder",
   "metadata": {},
   "outputs": [],
   "source": []
  },
  {
   "cell_type": "code",
   "execution_count": null,
   "id": "first-firewall",
   "metadata": {},
   "outputs": [],
   "source": []
  },
  {
   "cell_type": "code",
   "execution_count": null,
   "id": "caring-abraham",
   "metadata": {},
   "outputs": [],
   "source": []
  },
  {
   "cell_type": "code",
   "execution_count": null,
   "id": "entertaining-school",
   "metadata": {},
   "outputs": [],
   "source": []
  },
  {
   "cell_type": "code",
   "execution_count": null,
   "id": "normal-chancellor",
   "metadata": {},
   "outputs": [],
   "source": []
  },
  {
   "cell_type": "code",
   "execution_count": null,
   "id": "organized-enemy",
   "metadata": {},
   "outputs": [],
   "source": []
  },
  {
   "cell_type": "code",
   "execution_count": null,
   "id": "interracial-explanation",
   "metadata": {},
   "outputs": [],
   "source": []
  },
  {
   "cell_type": "code",
   "execution_count": null,
   "id": "framed-cisco",
   "metadata": {},
   "outputs": [],
   "source": []
  },
  {
   "cell_type": "code",
   "execution_count": null,
   "id": "limiting-addition",
   "metadata": {},
   "outputs": [],
   "source": []
  },
  {
   "cell_type": "code",
   "execution_count": null,
   "id": "regulation-degree",
   "metadata": {},
   "outputs": [],
   "source": []
  },
  {
   "cell_type": "code",
   "execution_count": null,
   "id": "moving-blackjack",
   "metadata": {},
   "outputs": [],
   "source": []
  },
  {
   "cell_type": "code",
   "execution_count": null,
   "id": "opening-blend",
   "metadata": {},
   "outputs": [],
   "source": []
  },
  {
   "cell_type": "code",
   "execution_count": null,
   "id": "fifty-pursuit",
   "metadata": {},
   "outputs": [],
   "source": []
  },
  {
   "cell_type": "code",
   "execution_count": null,
   "id": "coated-improvement",
   "metadata": {},
   "outputs": [],
   "source": []
  },
  {
   "cell_type": "code",
   "execution_count": null,
   "id": "monthly-advance",
   "metadata": {},
   "outputs": [],
   "source": []
  },
  {
   "cell_type": "code",
   "execution_count": null,
   "id": "wrapped-illness",
   "metadata": {},
   "outputs": [],
   "source": []
  },
  {
   "cell_type": "code",
   "execution_count": null,
   "id": "characteristic-imagination",
   "metadata": {},
   "outputs": [],
   "source": []
  },
  {
   "cell_type": "code",
   "execution_count": null,
   "id": "premium-material",
   "metadata": {},
   "outputs": [],
   "source": []
  },
  {
   "cell_type": "code",
   "execution_count": null,
   "id": "minor-morning",
   "metadata": {},
   "outputs": [],
   "source": []
  },
  {
   "cell_type": "code",
   "execution_count": null,
   "id": "contemporary-faith",
   "metadata": {},
   "outputs": [],
   "source": []
  },
  {
   "cell_type": "code",
   "execution_count": null,
   "id": "honest-lexington",
   "metadata": {},
   "outputs": [],
   "source": []
  },
  {
   "cell_type": "code",
   "execution_count": null,
   "id": "decreased-facility",
   "metadata": {},
   "outputs": [],
   "source": []
  },
  {
   "cell_type": "code",
   "execution_count": null,
   "id": "sorted-shopping",
   "metadata": {},
   "outputs": [],
   "source": []
  },
  {
   "cell_type": "code",
   "execution_count": null,
   "id": "pediatric-stack",
   "metadata": {},
   "outputs": [],
   "source": []
  },
  {
   "cell_type": "code",
   "execution_count": null,
   "id": "short-invite",
   "metadata": {},
   "outputs": [],
   "source": []
  },
  {
   "cell_type": "code",
   "execution_count": null,
   "id": "false-charlotte",
   "metadata": {},
   "outputs": [],
   "source": []
  },
  {
   "cell_type": "code",
   "execution_count": null,
   "id": "military-master",
   "metadata": {},
   "outputs": [],
   "source": []
  },
  {
   "cell_type": "code",
   "execution_count": null,
   "id": "sapphire-property",
   "metadata": {},
   "outputs": [],
   "source": []
  },
  {
   "cell_type": "code",
   "execution_count": null,
   "id": "comprehensive-dynamics",
   "metadata": {},
   "outputs": [],
   "source": []
  },
  {
   "cell_type": "code",
   "execution_count": null,
   "id": "purple-pride",
   "metadata": {},
   "outputs": [],
   "source": []
  },
  {
   "cell_type": "code",
   "execution_count": null,
   "id": "substantial-machine",
   "metadata": {},
   "outputs": [],
   "source": []
  },
  {
   "cell_type": "code",
   "execution_count": null,
   "id": "fluid-crossing",
   "metadata": {},
   "outputs": [],
   "source": []
  },
  {
   "cell_type": "code",
   "execution_count": null,
   "id": "subjective-sociology",
   "metadata": {},
   "outputs": [],
   "source": []
  },
  {
   "cell_type": "code",
   "execution_count": null,
   "id": "electoral-dialogue",
   "metadata": {},
   "outputs": [],
   "source": []
  },
  {
   "cell_type": "code",
   "execution_count": 16,
   "id": "distributed-display",
   "metadata": {},
   "outputs": [
    {
     "name": "stdout",
     "output_type": "stream",
     "text": [
      "-4\n"
     ]
    }
   ],
   "source": [
    "print(96-100)"
   ]
  },
  {
   "cell_type": "code",
   "execution_count": 7,
   "id": "irish-white",
   "metadata": {},
   "outputs": [
    {
     "name": "stdout",
     "output_type": "stream",
     "text": [
      "1\n",
      "2\n",
      "3\n",
      "4\n",
      "5\n"
     ]
    }
   ],
   "source": [
    "for h in range(1,6):\n",
    "    print(h)"
   ]
  },
  {
   "cell_type": "code",
   "execution_count": null,
   "id": "accompanied-muslim",
   "metadata": {},
   "outputs": [],
   "source": []
  },
  {
   "cell_type": "code",
   "execution_count": null,
   "id": "scientific-thursday",
   "metadata": {},
   "outputs": [],
   "source": []
  },
  {
   "cell_type": "code",
   "execution_count": null,
   "id": "strategic-invalid",
   "metadata": {},
   "outputs": [],
   "source": []
  },
  {
   "cell_type": "code",
   "execution_count": null,
   "id": "standing-liberia",
   "metadata": {},
   "outputs": [],
   "source": []
  },
  {
   "cell_type": "code",
   "execution_count": null,
   "id": "accurate-spoke",
   "metadata": {},
   "outputs": [],
   "source": []
  },
  {
   "cell_type": "code",
   "execution_count": null,
   "id": "bottom-store",
   "metadata": {},
   "outputs": [],
   "source": []
  },
  {
   "cell_type": "code",
   "execution_count": null,
   "id": "tough-cleaning",
   "metadata": {},
   "outputs": [],
   "source": []
  },
  {
   "cell_type": "code",
   "execution_count": null,
   "id": "acknowledged-daily",
   "metadata": {},
   "outputs": [],
   "source": []
  },
  {
   "cell_type": "code",
   "execution_count": null,
   "id": "outstanding-michael",
   "metadata": {},
   "outputs": [],
   "source": []
  },
  {
   "cell_type": "code",
   "execution_count": null,
   "id": "crude-pantyhose",
   "metadata": {},
   "outputs": [],
   "source": []
  },
  {
   "cell_type": "code",
   "execution_count": null,
   "id": "better-immune",
   "metadata": {},
   "outputs": [],
   "source": []
  },
  {
   "cell_type": "code",
   "execution_count": null,
   "id": "colonial-spencer",
   "metadata": {},
   "outputs": [],
   "source": []
  },
  {
   "cell_type": "code",
   "execution_count": null,
   "id": "frequent-murder",
   "metadata": {},
   "outputs": [],
   "source": []
  },
  {
   "cell_type": "code",
   "execution_count": null,
   "id": "hollywood-mouth",
   "metadata": {},
   "outputs": [],
   "source": []
  },
  {
   "cell_type": "code",
   "execution_count": null,
   "id": "plain-compiler",
   "metadata": {},
   "outputs": [],
   "source": []
  },
  {
   "cell_type": "code",
   "execution_count": null,
   "id": "south-honolulu",
   "metadata": {},
   "outputs": [],
   "source": []
  },
  {
   "cell_type": "code",
   "execution_count": null,
   "id": "dominant-visit",
   "metadata": {},
   "outputs": [],
   "source": []
  },
  {
   "cell_type": "code",
   "execution_count": null,
   "id": "simplified-wrapping",
   "metadata": {},
   "outputs": [],
   "source": []
  },
  {
   "cell_type": "code",
   "execution_count": null,
   "id": "lonely-hungary",
   "metadata": {},
   "outputs": [],
   "source": []
  },
  {
   "cell_type": "code",
   "execution_count": null,
   "id": "presidential-peter",
   "metadata": {},
   "outputs": [],
   "source": []
  },
  {
   "cell_type": "code",
   "execution_count": null,
   "id": "dominican-occurrence",
   "metadata": {},
   "outputs": [],
   "source": []
  },
  {
   "cell_type": "code",
   "execution_count": null,
   "id": "handy-arthritis",
   "metadata": {},
   "outputs": [],
   "source": [
    "for y in list_years_v2:\n",
    "            if stock['Date'][x] == y:\n",
    "                first_m = stock['Date'][x]\n",
    "                #index = list_years_v2.index(stock['Date'][x])\n",
    "                #second_m_i = index+1\n",
    "                #second_m_g = y[second_m_i]\n",
    "                print(2)\n",
    "                second_m = stock['Date'][x+5]"
   ]
  },
  {
   "cell_type": "code",
   "execution_count": null,
   "id": "planned-fault",
   "metadata": {},
   "outputs": [],
   "source": []
  },
  {
   "cell_type": "code",
   "execution_count": null,
   "id": "oriented-montana",
   "metadata": {},
   "outputs": [],
   "source": []
  },
  {
   "cell_type": "code",
   "execution_count": null,
   "id": "continued-receptor",
   "metadata": {},
   "outputs": [],
   "source": []
  },
  {
   "cell_type": "code",
   "execution_count": null,
   "id": "shared-stack",
   "metadata": {},
   "outputs": [],
   "source": []
  },
  {
   "cell_type": "code",
   "execution_count": null,
   "id": "interracial-miracle",
   "metadata": {},
   "outputs": [],
   "source": []
  },
  {
   "cell_type": "code",
   "execution_count": null,
   "id": "treated-distinction",
   "metadata": {},
   "outputs": [],
   "source": []
  },
  {
   "cell_type": "code",
   "execution_count": null,
   "id": "collective-preservation",
   "metadata": {},
   "outputs": [],
   "source": []
  },
  {
   "cell_type": "code",
   "execution_count": null,
   "id": "correct-testament",
   "metadata": {},
   "outputs": [],
   "source": []
  },
  {
   "cell_type": "code",
   "execution_count": null,
   "id": "knowing-incidence",
   "metadata": {},
   "outputs": [],
   "source": []
  },
  {
   "cell_type": "code",
   "execution_count": null,
   "id": "computational-swedish",
   "metadata": {},
   "outputs": [],
   "source": [
    "if stock['Date'][x+5] in list_years_v2:\n",
    "                    second_m = stock['Date'][x+5]\n",
    "                    print(3)\n",
    "                elif stock['Date'][x+6] in list_years_v2:\n",
    "                    second_m = stock['Date'][x+6]\n",
    "                    print(4)\n",
    "                elif stock['Date'][x+4] in list_years_v2:\n",
    "                    second_m = stock['Date'][x+4]\n",
    "                    print(5)\n",
    "                elif stock['Date'][x+7] in list_years_v2:\n",
    "                    print(stock['Date'][x+7])\n",
    "                    print('XD')\n",
    "                    second_m = stock['Date'][x+7]\n",
    "                else:\n",
    "                    return('Error')\n",
    "                print(second_m)"
   ]
  },
  {
   "cell_type": "code",
   "execution_count": null,
   "id": "flexible-duration",
   "metadata": {},
   "outputs": [],
   "source": []
  },
  {
   "cell_type": "code",
   "execution_count": null,
   "id": "higher-gospel",
   "metadata": {},
   "outputs": [],
   "source": []
  },
  {
   "cell_type": "code",
   "execution_count": null,
   "id": "coupled-somewhere",
   "metadata": {},
   "outputs": [],
   "source": []
  },
  {
   "cell_type": "code",
   "execution_count": null,
   "id": "coastal-found",
   "metadata": {},
   "outputs": [],
   "source": []
  },
  {
   "cell_type": "code",
   "execution_count": null,
   "id": "first-alpha",
   "metadata": {},
   "outputs": [],
   "source": []
  },
  {
   "cell_type": "code",
   "execution_count": null,
   "id": "impaired-trailer",
   "metadata": {},
   "outputs": [],
   "source": []
  },
  {
   "cell_type": "code",
   "execution_count": null,
   "id": "legal-dispatch",
   "metadata": {},
   "outputs": [],
   "source": []
  },
  {
   "cell_type": "code",
   "execution_count": null,
   "id": "chinese-course",
   "metadata": {},
   "outputs": [],
   "source": []
  },
  {
   "cell_type": "code",
   "execution_count": null,
   "id": "laden-mozambique",
   "metadata": {},
   "outputs": [],
   "source": []
  },
  {
   "cell_type": "code",
   "execution_count": null,
   "id": "reverse-playlist",
   "metadata": {},
   "outputs": [],
   "source": []
  },
  {
   "cell_type": "code",
   "execution_count": null,
   "id": "great-forestry",
   "metadata": {},
   "outputs": [],
   "source": []
  },
  {
   "cell_type": "code",
   "execution_count": null,
   "id": "correct-staff",
   "metadata": {},
   "outputs": [],
   "source": []
  },
  {
   "cell_type": "code",
   "execution_count": null,
   "id": "danish-quest",
   "metadata": {},
   "outputs": [],
   "source": []
  },
  {
   "cell_type": "code",
   "execution_count": null,
   "id": "fallen-robinson",
   "metadata": {},
   "outputs": [],
   "source": []
  },
  {
   "cell_type": "code",
   "execution_count": null,
   "id": "express-freedom",
   "metadata": {},
   "outputs": [],
   "source": []
  },
  {
   "cell_type": "code",
   "execution_count": null,
   "id": "aerial-supervisor",
   "metadata": {},
   "outputs": [],
   "source": []
  },
  {
   "cell_type": "code",
   "execution_count": null,
   "id": "gross-retreat",
   "metadata": {},
   "outputs": [],
   "source": []
  },
  {
   "cell_type": "code",
   "execution_count": null,
   "id": "seeing-broadway",
   "metadata": {},
   "outputs": [],
   "source": []
  }
 ],
 "metadata": {
  "kernelspec": {
   "display_name": "Python 3",
   "language": "python",
   "name": "python3"
  },
  "language_info": {
   "codemirror_mode": {
    "name": "ipython",
    "version": 3
   },
   "file_extension": ".py",
   "mimetype": "text/x-python",
   "name": "python",
   "nbconvert_exporter": "python",
   "pygments_lexer": "ipython3",
   "version": "3.8.8"
  }
 },
 "nbformat": 4,
 "nbformat_minor": 5
}
