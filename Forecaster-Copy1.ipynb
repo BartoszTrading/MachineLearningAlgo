{
 "cells": [
  {
   "cell_type": "code",
   "execution_count": 6,
   "id": "likely-myrtle",
   "metadata": {
    "scrolled": true
   },
   "outputs": [
    {
     "name": "stdout",
     "output_type": "stream",
     "text": [
      "Jaki stoploss?-1\n",
      "Ile akcji4\n",
      "-1\n",
      "4\n",
      "SART\n",
      "8.82357525200821 - 2016-03-11\n",
      "8.487042970952125 - 2016-03-18\n",
      "12.58133394023178 - 2016-03-28\n",
      "13.666439218362502 - 2016-04-04\n",
      "20.982858552319996 - 2016-04-11\n",
      "19.805426812791534 - 2016-04-18\n",
      "17.53120724364791 - 2016-05-02\n",
      "24.150902536755826 - 2016-05-09\n",
      "23.617492511069297 - 2016-05-16\n",
      "25.754965480911306 - 2016-05-23\n",
      "29.8008860677488 - 2016-05-31\n",
      "29.552847191343563 - 2016-06-07\n",
      "30.34138572447161 - 2016-06-14\n",
      "34.98620763111463 - 2016-06-28\n",
      "37.527003503984226 - 2016-07-06\n",
      "36.920725097806255 - 2016-07-13\n",
      "34.6794355059767 - 2016-07-20\n",
      "34.946063956723755 - 2016-07-27\n",
      "34.03611552405643 - 2016-08-03\n",
      "32.80761064684681 - 2016-08-10\n",
      "34.88808305819626 - 2016-08-17\n",
      "34.90632536028781 - 2016-08-24\n",
      "37.30245631422339 - 2016-08-31\n",
      "35.41275444699568 - 2016-09-08\n",
      "44.266527211030315 - 2016-09-15\n",
      "42.686385176340515 - 2016-09-22\n",
      "40.35664806181085 - 2016-09-29\n",
      "38.28582103990617 - 2016-10-06\n",
      "37.068573957570734 - 2016-10-13\n",
      "37.27779984346807 - 2016-10-20\n",
      "35.91697494770385 - 2016-10-27\n",
      "39.87369217432161 - 2016-11-03\n",
      "43.67141673704116 - 2016-11-10\n",
      "46.19429214023233 - 2016-11-17\n",
      "44.23843963190494 - 2016-11-25\n",
      "57.378848672348404 - 2016-12-02\n",
      "58.029102815658376 - 2016-12-09\n",
      "56.819946145472215 - 2016-12-23\n",
      "55.27994886545046 - 2017-01-03\n",
      "54.993850514202585 - 2017-01-10\n",
      "60.091827075510736 - 2017-01-18\n",
      "57.02625252134283 - 2017-01-25\n",
      "57.09084943882409 - 2017-02-01\n",
      "65.62877558028713 - 2017-02-08\n",
      "65.92898233276037 - 2017-02-15\n",
      "67.74187276850901 - 2017-02-23\n",
      "65.8716430181777 - 2017-03-02\n",
      "67.6695540897691 - 2017-03-09\n",
      "66.68771787577944 - 2017-03-16\n",
      "67.57125511101066 - 2017-03-23\n",
      "67.41321626217068 - 2017-03-30\n",
      "66.43074407906091 - 2017-04-06\n",
      "69.10326276631424 - 2017-04-13\n",
      "70.5248946914885 - 2017-04-21\n",
      "68.48462053366548 - 2017-04-28\n",
      "71.01263526639823 - 2017-05-05\n",
      "70.59767402541718 - 2017-05-12\n",
      "73.5557214256842 - 2017-05-19\n",
      "74.12397424846806 - 2017-05-26\n",
      "71.14648937332841 - 2017-06-05\n",
      "76.17400021130888 - 2017-06-12\n",
      "75.77038092307069 - 2017-06-19\n",
      "79.69460190586499 - 2017-06-26\n",
      "78.05657481941245 - 2017-07-03\n",
      "78.02327559472445 - 2017-07-11\n",
      "80.87502509712127 - 2017-07-18\n",
      "82.91406824261085 - 2017-07-25\n",
      "82.87136780637455 - 2017-08-01\n",
      "79.08394550943507 - 2017-08-08\n",
      "78.07449858655606 - 2017-08-15\n",
      "77.69611751122778 - 2017-08-22\n",
      "80.25127251889994 - 2017-08-29\n",
      "84.29852819193464 - 2017-09-06\n",
      "88.1007113456367 - 2017-09-13\n",
      "91.10035830968587 - 2017-09-20\n",
      "92.25729966404356 - 2017-09-27\n",
      "92.40113169952508 - 2017-10-04\n",
      "94.50154668684452 - 2017-10-11\n",
      "94.89842050705433 - 2017-10-18\n",
      "92.77071164755907 - 2017-10-25\n",
      "92.2095439956864 - 2017-11-01\n",
      "91.46788907677814 - 2017-11-08\n",
      "97.36778016125405 - 2017-11-15\n",
      "101.44081259757584 - 2017-11-22\n",
      "102.46151664015034 - 2017-11-30\n",
      "102.06994186108979 - 2017-12-07\n",
      "107.04925071863889 - 2017-12-14\n",
      "107.23769851163014 - 2017-12-21\n",
      "110.31975269005818 - 2017-12-29\n",
      "111.48199562532093 - 2018-01-08\n",
      "113.21433788806212 - 2018-01-16\n",
      "113.65360275156503 - 2018-01-23\n",
      "108.65360275156503 - 2018-01-30\n",
      "108.5860710053111 - 2018-02-06\n",
      "114.46353607116944 - 2018-02-13\n",
      "112.1592593491414 - 2018-02-21\n",
      "112.91630157726566 - 2018-02-28\n",
      "114.44967901401172 - 2018-03-07\n",
      "115.70473544759788 - 2018-03-14\n",
      "112.24773133351425 - 2018-03-21\n",
      "116.40773437827345 - 2018-03-28\n",
      "117.44125242460132 - 2018-04-05\n",
      "119.63074131958489 - 2018-04-12\n",
      "119.48327382980322 - 2018-04-19\n",
      "117.01150583990547 - 2018-04-26\n",
      "121.5242054503905 - 2018-05-03\n",
      "124.73938426129077 - 2018-05-17\n",
      "125.58147117696873 - 2018-05-24\n",
      "128.554837244915 - 2018-06-01\n",
      "127.67923804426634 - 2018-06-08\n",
      "125.16710212193624 - 2018-06-15\n",
      "122.29998767147505 - 2018-06-22\n",
      "126.73285356382063 - 2018-06-29\n",
      "126.06990512154557 - 2018-07-09\n",
      "133.7545476241587 - 2018-07-16\n",
      "129.61574513582278 - 2018-07-23\n",
      "131.72338095285122 - 2018-07-30\n",
      "129.7832072828478 - 2018-08-06\n",
      "133.61181986999827 - 2018-08-13\n",
      "133.05751898370147 - 2018-08-20\n",
      "131.10696102841985 - 2018-08-27\n",
      "135.7711760346666 - 2018-09-04\n",
      "141.38099339294905 - 2018-09-11\n",
      "141.11917615883422 - 2018-09-18\n",
      "138.5529980019411 - 2018-09-25\n",
      "138.6368034795722 - 2018-10-02\n",
      "136.36532990344682 - 2018-10-09\n",
      "136.34749624810587 - 2018-10-16\n",
      "135.90768035665403 - 2018-10-23\n",
      "143.4708100094027 - 2018-10-30\n",
      "141.8863121427295 - 2018-11-06\n",
      "142.04488528515736 - 2018-11-13\n",
      "152.28808031217986 - 2018-11-20\n",
      "149.995324285901 - 2018-11-28\n",
      "147.09605901134572 - 2018-12-06\n",
      "142.09605901134572 - 2018-12-13\n",
      "141.7112222344756 - 2018-12-20\n",
      "141.5950778002128 - 2018-12-28\n",
      "144.69169600237802 - 2019-01-07\n",
      "149.97535761958952 - 2019-01-14\n",
      "153.36206129729223 - 2019-01-22\n",
      "159.15595655312828 - 2019-01-29\n",
      "160.23303091317473 - 2019-02-05\n",
      "161.86845259717168 - 2019-02-12\n",
      "168.96308287969808 - 2019-02-20\n",
      "167.90540119528754 - 2019-02-27\n",
      "173.2680213164795 - 2019-03-06\n",
      "171.4560936874535 - 2019-03-13\n",
      "169.38620591831022 - 2019-03-20\n",
      "178.60248088415116 - 2019-03-27\n",
      "180.8782358126813 - 2019-04-03\n",
      "180.4458301354882 - 2019-04-10\n",
      "187.4912800377634 - 2019-04-17\n",
      "190.03330256855364 - 2019-04-25\n",
      "187.06175823533326 - 2019-05-02\n",
      "187.40181540459722 - 2019-05-09\n",
      "186.146127159628 - 2019-05-16\n",
      "184.3428478692047 - 2019-05-23\n",
      "195.3605918305633 - 2019-05-31\n",
      "196.8871231641057 - 2019-06-07\n",
      "201.1042190928676 - 2019-06-14\n",
      "199.49408995897443 - 2019-06-21\n",
      "203.07691362520572 - 2019-06-28\n",
      "206.14666062187948 - 2019-07-08\n",
      "206.92618330786897 - 2019-07-15\n",
      "207.43244981602862 - 2019-07-22\n",
      "204.59766581554084 - 2019-07-29\n",
      "207.43052388806305 - 2019-08-05\n",
      "211.977188221711 - 2019-08-12\n",
      "208.38664959662242 - 2019-08-19\n",
      "209.53450989533616 - 2019-08-26\n",
      "219.80437154428506 - 2019-09-03\n",
      "218.9298168256987 - 2019-09-10\n",
      "217.7927482641799 - 2019-09-17\n",
      "220.77435172517752 - 2019-09-24\n",
      "216.57799650309528 - 2019-10-01\n",
      "225.9564588748485 - 2019-10-08\n",
      "230.4911259360929 - 2019-10-15\n",
      "234.94079097804902 - 2019-10-22\n",
      "235.74728347700568 - 2019-10-29\n",
      "233.83055757418185 - 2019-11-05\n",
      "242.4822503119981 - 2019-11-12\n",
      "246.03384493981923 - 2019-11-19\n",
      "243.57917844437722 - 2019-11-26\n",
      "245.14512555344103 - 2019-12-04\n",
      "248.73823046742342 - 2019-12-11\n",
      "249.09235149646344 - 2019-12-18\n",
      "249.75564279766124 - 2019-12-26\n",
      "250.7719326134572 - 2020-01-03\n",
      "255.65081617432324 - 2020-01-10\n",
      "250.65081617432324 - 2020-01-17\n",
      "247.5553132853321 - 2020-01-27\n",
      "248.84771852638784 - 2020-02-03\n",
      "250.27390506012676 - 2020-02-10\n",
      "245.27390506012676 - 2020-02-18\n",
      "240.27390506012676 - 2020-02-25\n",
      "235.27390506012676 - 2020-03-03\n",
      "232.54265132084603 - 2020-03-10\n",
      "233.3782213326739 - 2020-03-17\n",
      "243.8881269190319 - 2020-03-24\n",
      "255.57438937517222 - 2020-03-31\n",
      "254.27858916777507 - 2020-04-07\n",
      "251.62418883211274 - 2020-04-15\n",
      "284.77954426725404 - 2020-04-22\n",
      "281.0539493923303 - 2020-04-29\n",
      "278.3248996922601 - 2020-05-06\n",
      "301.8978616904293 - 2020-05-13\n",
      "314.28984804841775 - 2020-05-20\n",
      "327.3509501349306 - 2020-05-28\n",
      "322.6307291935281 - 2020-06-04\n",
      "325.7746319247935 - 2020-06-11\n",
      "323.02062546962014 - 2020-06-18\n",
      "331.26665955955224 - 2020-06-25\n",
      "330.3375530881038 - 2020-07-02\n",
      "340.8827773216178 - 2020-07-10\n",
      "345.8454636739807 - 2020-07-17\n",
      "360.662307294227 - 2020-07-24\n",
      "375.0062596704424 - 2020-07-31\n",
      "378.7450451079649 - 2020-08-07\n",
      "382.81055438182585 - 2020-08-14\n",
      "396.7250325848331 - 2020-08-21\n",
      "401.3935780572985 - 2020-08-28\n",
      "407.32784645545695 - 2020-09-04\n",
      "403.9727533723232 - 2020-09-14\n",
      "404.96413070173554 - 2020-09-21\n",
      "409.85571770309457 - 2020-09-28\n",
      "415.98280656399294 - 2020-10-05\n",
      "416.91664991156466 - 2020-10-12\n",
      "417.37705395384876 - 2020-10-19\n",
      "416.17164989773744 - 2020-10-26\n",
      "424.46160726664516 - 2020-11-02\n",
      "427.2294647773459 - 2020-11-09\n",
      "429.5595777690163 - 2020-11-16\n",
      "431.6451695057238 - 2020-11-23\n",
      "438.89206694174936 - 2020-12-01\n",
      "438.2891055639682 - 2020-12-08\n",
      "434.5592994250344 - 2020-12-15\n",
      "434.77247341987743 - 2020-12-22\n",
      "448.7121765878925 - 2020-12-30\n",
      "448.18284308741164 - 2021-01-07\n",
      "444.715901811535 - 2021-01-14\n",
      "441.68112444099506 - 2021-01-22\n",
      "446.44530376019145 - 2021-01-29\n",
      "447.87780515855843 - 2021-02-05\n",
      "443.7112764749787 - 2021-02-12\n",
      "449.15524254116076 - 2021-02-22\n",
      "451.68753060424893 - 2021-03-01\n",
      "453.37945448250116 - 2021-03-08\n",
      "453.37945448250116\n",
      "FAILED:  443\n",
      "WIN:  549\n"
     ]
    }
   ],
   "source": [
    "import pandas as pd\n",
    "from sklearn import model_selection\n",
    "from sklearn.linear_model import LogisticRegression\n",
    "import pickle\n",
    "import os\n",
    "from sklearn.ensemble import RandomForestRegressor\n",
    "from sklearn.model_selection import train_test_split\n",
    "import numpy as np\n",
    "from sklearn.model_selection import GridSearchCV\n",
    "from sklearn.ensemble import RandomForestClassifier\n",
    "from sklearn.metrics import accuracy_score\n",
    "from statistics import mean \n",
    "import warnings\n",
    "warnings.filterwarnings('ignore')\n",
    "score=0\n",
    "listt = []\n",
    "y=[]\n",
    "\n",
    "listt2 = []\n",
    "pred_list = []\n",
    "pred_pob_list = []\n",
    "pred_ticker = []\n",
    "date = '2020-1-1'\n",
    "files = os.listdir('trends5daysModel')\n",
    "files.pop(0)\n",
    "def machine():\n",
    "    \n",
    "    for x in files:\n",
    "        df = pd.read_csv('trends5days/'+x)\n",
    "        number = files.index(x)\n",
    "        ml = 'ML'+str(number)+'.sav'\n",
    "        loaded_model = pickle.load(open('trends5daysModel/'+x[:-4]+'.sav', 'rb'))\n",
    "        X = df[['Open', 'High', 'Low', 'Close', 'Adjusted_close', 'Volume','rsi', 'ema', 'Open1', 'High1', 'Low1', 'Close1', 'Adjusted_close1', 'Volume1', 'rsi1', 'ema1', 'Open2', 'High2', 'Low2', 'Close2', 'Adjusted_close2', 'Volume2', 'rsi2', 'ema2', 'Open3', 'High3', 'Low3', 'Close3', 'Adjusted_close3', 'Volume3', 'rsi3', 'ema3', 'Open4', 'High4', 'Low4', 'Close4', 'Adjusted_close4', 'Volume4', 'rsi4', 'ema4', 'Open5', 'High5', 'Low5', 'Close5', 'Adjusted_close5', 'Volume5', 'rsi5', 'ema5', 'Open6', 'High6', 'Low6', 'Close6', 'Adjusted_close6', 'Volume6', 'rsi6', 'ema6', 'Open7', 'High7', 'Low7', 'Close7', 'Adjusted_close7', 'Volume7', 'rsi7', 'ema7', 'Open8', 'High8', 'Low8', 'Close8', 'Adjusted_close8', 'Volume8', 'rsi8', 'ema8', 'Open9', 'High9', 'Low9', 'Close9', 'Adjusted_close9', 'Volume9', 'rsi9', 'ema9', 'Open10', 'High10', 'Low10', 'Close10', 'Adjusted_close10', 'Volume10', 'rsi10', 'ema10', 'Open11', 'High11', 'Low11', 'Close11', 'Adjusted_close11', 'Volume11', 'rsi11', 'ema11', 'Open12', 'High12', 'Low12', 'Close12', 'Adjusted_close12', 'Volume12', 'rsi12', 'ema12', 'Open13', 'High13', 'Low13', 'Close13', 'Adjusted_close13', 'Volume13', 'rsi13', 'ema13', 'Open14', 'High14', 'Low14', 'Close14', 'Adjusted_close14', 'Volume14', 'rsi14', 'ema14', 'Open15', 'High15', 'Low15', 'Close15', 'Adjusted_close15', 'Volume15', 'rsi15', 'ema15', 'Open16', 'High16', 'Low16', 'Close16', 'Adjusted_close16', 'Volume16', 'rsi16', 'ema16', 'Open17', 'High17', 'Low17', 'Close17', 'Adjusted_close17', 'Volume17', 'rsi17', 'ema17', 'Open18', 'High18', 'Low18', 'Close18', 'Adjusted_close18', 'Volume18', 'rsi18', 'ema18', 'Open19', 'High19', 'Low19', 'Close19', 'Adjusted_close19', 'Volume19', 'rsi19', 'ema19']].values\n",
    "        #y = df['change'].values\n",
    "        y = []\n",
    "        #fd = \n",
    "        \n",
    "        var = df['change'].to_list()\n",
    "        for x in var:\n",
    "            if x > 0:\n",
    "                y.append(1)\n",
    "            elif x < 0:\n",
    "                y.append(0)\n",
    "            else:\n",
    "                y.append(0)\n",
    "        X_train, X_test, y_train, y_test = train_test_split(\n",
    "             X, y, test_size=0.33, random_state=42)\n",
    "        result = loaded_model.score(X_test, y_test)\n",
    "        results = loaded_model.predict_proba(X_test)\n",
    "        vb = loaded_model.predict(X_test)\n",
    "        listt.append(result)\n",
    "        list1 = []\n",
    "        list2 = []\n",
    "        for x in range(len(results)):\n",
    "            if results[x][1] > 0.99:\n",
    "                list1.append(y_test[x])\n",
    "                list2.append(vb[x])\n",
    "        scoree=0\n",
    "\n",
    "        for x in range(len(list1)):\n",
    "            if list1[x] == list2[x]:\n",
    "                scoree+=1\n",
    "        listt2.append(scoree/len(list1))\n",
    "        print(df.head())\n",
    "def predict(date):\n",
    "    listt = []\n",
    "    y=[]\n",
    "    listt2 = []\n",
    "    dicct = {}\n",
    "    pred_list = []\n",
    "    pred_pob_list = []\n",
    "    pred_ticker = []\n",
    "    for x in files:\n",
    "        #loading dataframe for ml \n",
    "        df = pd.read_csv('trends5days/'+x)\n",
    "        df1 = df[['Open0', 'High0', 'Low0', 'Close0', 'Adjusted_close0', 'Volume0', 'rsi0', 'ema0', 'Open1', 'High1', 'Low1', 'Close1', 'Adjusted_close1', 'Volume1', 'rsi1', 'ema1', 'Open2', 'High2', 'Low2', 'Close2', 'Adjusted_close2', 'Volume2', 'rsi2', 'ema2', 'Open3', 'High3', 'Low3', 'Close3', 'Adjusted_close3', 'Volume3', 'rsi3', 'ema3', 'Open4', 'High4', 'Low4', 'Close4', 'Adjusted_close4', 'Volume4', 'rsi4', 'ema4', 'Open5', 'High5', 'Low5', 'Close5', 'Adjusted_close5', 'Volume5', 'rsi5', 'ema5', 'Open6', 'High6', 'Low6', 'Close6', 'Adjusted_close6', 'Volume6', 'rsi6', 'ema6', 'Open7', 'High7', 'Low7', 'Close7', 'Adjusted_close7', 'Volume7', 'rsi7', 'ema7', 'Open8', 'High8', 'Low8', 'Close8', 'Adjusted_close8', 'Volume8', 'rsi8', 'ema8', 'Open9', 'High9', 'Low9', 'Close9', 'Adjusted_close9', 'Volume9', 'rsi9', 'ema9', 'Open10', 'High10', 'Low10', 'Close10', 'Adjusted_close10', 'Volume10', 'rsi10', 'ema10', 'Open11', 'High11', 'Low11', 'Close11', 'Adjusted_close11', 'Volume11', 'rsi11', 'ema11', 'Open12', 'High12', 'Low12', 'Close12', 'Adjusted_close12', 'Volume12', 'rsi12', 'ema12', 'Open13', 'High13', 'Low13', 'Close13', 'Adjusted_close13', 'Volume13', 'rsi13', 'ema13', 'Open14', 'High14', 'Low14', 'Close14', 'Adjusted_close14', 'Volume14', 'rsi14', 'ema14', 'Open15', 'High15', 'Low15', 'Close15', 'Adjusted_close15', 'Volume15', 'rsi15', 'ema15', 'Open16', 'High16', 'Low16', 'Close16', 'Adjusted_close16', 'Volume16', 'rsi16', 'ema16', 'Open17', 'High17', 'Low17', 'Close17', 'Adjusted_close17', 'Volume17', 'rsi17', 'ema17', 'Open18', 'High18', 'Low18', 'Close18', 'Adjusted_close18', 'Volume18', 'rsi18', 'ema18', 'Open19', 'High19', 'Low19', 'Close19', 'Adjusted_close19', 'Volume19', 'rsi19', 'ema19']]\n",
    "        number = files.index(x)\n",
    "        loaded_model = pickle.load(open('trends5daysModel/'+x[:-4] +'.sav', 'rb'))\n",
    "        #loading dataframe with dates\n",
    "        dates = df['Date'].to_list()\n",
    "        #getting difference of two dataframes\n",
    "        #getting position of date in ml dataframe\n",
    "        if date not in dates:\n",
    "            return 0\n",
    "            \n",
    "        pos = dates.index(date)\n",
    "        var = df['change'].to_list()\n",
    "          \n",
    "        #print(pos)\n",
    "        predic = df1.loc[[pos]].to_numpy()\n",
    "        vb = loaded_model.predict(predic)\n",
    "        if vb == 1:\n",
    "            bv = loaded_model.predict_proba(predic)\n",
    "            pred_list.append(vb)\n",
    "            pred_pob_list.append(bv[0][1])\n",
    "            #print(bv[0][1])\n",
    "            #print(x)\n",
    "            nmn = files.index(x)\n",
    "            pred_ticker.append(nmn)\n",
    "            dicct[x] = bv[0][1]    \n",
    "\n",
    "    return dicct\n",
    "\n",
    "#xddd = predict('2011-02-25')        \n",
    "#print(xddd)\n",
    "profity = []\n",
    "stock11 = []\n",
    "stock22 = []\n",
    "stock33 = []\n",
    "stock44 = []\n",
    "failed = 0\n",
    "win = 0\n",
    "def backtest():\n",
    "    stockslist = pd.read_csv('kol12345Correct')\n",
    "    failed = 0\n",
    "    win = 0\n",
    "    print('SART')\n",
    "    #df_4 = df_3.loc[2000:]\n",
    "    gg = stockslist['date'].to_list()\n",
    "    profit = 0\n",
    "    for x in range(0,len(gg)):\n",
    "        for y in range(1,int(num_stock)+1): #5\n",
    "                vag = 's'+str(y)\n",
    "                df_1 = pd.read_csv('trends5days/'+stockslist[vag][x])\n",
    "                date_1 = df_1['Date'].to_list()\n",
    "                ind_1 = date_1.index(gg[x])\n",
    "                stock = buystock(ind_1,df_1)\n",
    "                profit = profit+ stock\n",
    "                if stock > 0:\n",
    "                    win+=1\n",
    "                else:\n",
    "                    failed+=1\n",
    "        \n",
    "        profity.append(profit)\n",
    "        print(profit,'-',gg[x])\n",
    "            \n",
    "    return profit,win,failed\n",
    "\n",
    "def buystock(pos,df):\n",
    "    #pos = pos+1\n",
    "    open_p = df['Open'][pos+1]\n",
    "    global counter\n",
    "    if pos+5 < len(df):\n",
    "        for h in range(1,6):\n",
    "            if (df['Close'][pos+h]/df['Open'][pos+1]) < int(stoploss) or h == 5: #99\n",
    "                close_p = df['Close'][pos+h]\n",
    "                dzielnik = 50/open_p  #100\n",
    "                profit = (close_p-open_p)*dzielnik\n",
    "                if profit < int(stoploss):\n",
    "                    return int(stoploss)-0.25  #-1.5\n",
    "                else:\n",
    "                    return profit\n",
    "\n",
    "    \n",
    "#print(df['Close'][pos+h]/df['Close'][pos])\n",
    "stoploss = input('Jaki stoploss?')\n",
    "num_stock = input('Ile akcji')\n",
    "print(int(stoploss))\n",
    "print(int(num_stock))\n",
    "zysk, win, failed = backtest()\n",
    "print(zysk)\n",
    "#machine()\n",
    "#print(mean(listt))\n",
    "print('FAILED: ',failed)\n",
    "print('WIN: ',win)\n",
    "#print(score)\n",
    "#print(mean(listt2))\n"
   ]
  },
  {
   "cell_type": "code",
   "execution_count": null,
   "id": "received-thread",
   "metadata": {},
   "outputs": [],
   "source": []
  },
  {
   "cell_type": "code",
   "execution_count": null,
   "id": "global-tender",
   "metadata": {},
   "outputs": [],
   "source": []
  },
  {
   "cell_type": "code",
   "execution_count": null,
   "id": "supposed-popularity",
   "metadata": {},
   "outputs": [],
   "source": []
  },
  {
   "cell_type": "code",
   "execution_count": null,
   "id": "devoted-petroleum",
   "metadata": {},
   "outputs": [],
   "source": []
  },
  {
   "cell_type": "code",
   "execution_count": null,
   "id": "distinguished-findings",
   "metadata": {},
   "outputs": [],
   "source": []
  },
  {
   "cell_type": "code",
   "execution_count": null,
   "id": "infrared-mistake",
   "metadata": {},
   "outputs": [],
   "source": []
  },
  {
   "cell_type": "code",
   "execution_count": null,
   "id": "metropolitan-branch",
   "metadata": {},
   "outputs": [],
   "source": []
  },
  {
   "cell_type": "code",
   "execution_count": null,
   "id": "treated-middle",
   "metadata": {},
   "outputs": [],
   "source": []
  },
  {
   "cell_type": "code",
   "execution_count": null,
   "id": "familiar-hypothetical",
   "metadata": {},
   "outputs": [],
   "source": []
  },
  {
   "cell_type": "code",
   "execution_count": null,
   "id": "surgical-consolidation",
   "metadata": {},
   "outputs": [],
   "source": []
  },
  {
   "cell_type": "code",
   "execution_count": null,
   "id": "velvet-eclipse",
   "metadata": {},
   "outputs": [],
   "source": []
  },
  {
   "cell_type": "code",
   "execution_count": null,
   "id": "earned-directive",
   "metadata": {},
   "outputs": [],
   "source": []
  },
  {
   "cell_type": "code",
   "execution_count": null,
   "id": "empirical-reset",
   "metadata": {},
   "outputs": [],
   "source": []
  },
  {
   "cell_type": "code",
   "execution_count": null,
   "id": "cardiovascular-desktop",
   "metadata": {},
   "outputs": [],
   "source": []
  },
  {
   "cell_type": "code",
   "execution_count": null,
   "id": "double-disclaimer",
   "metadata": {},
   "outputs": [],
   "source": []
  },
  {
   "cell_type": "code",
   "execution_count": null,
   "id": "printable-germany",
   "metadata": {},
   "outputs": [],
   "source": []
  },
  {
   "cell_type": "code",
   "execution_count": null,
   "id": "opposed-appliance",
   "metadata": {},
   "outputs": [],
   "source": []
  },
  {
   "cell_type": "code",
   "execution_count": null,
   "id": "outstanding-continuity",
   "metadata": {},
   "outputs": [],
   "source": [
    "540"
   ]
  },
  {
   "cell_type": "code",
   "execution_count": null,
   "id": "direct-machinery",
   "metadata": {},
   "outputs": [],
   "source": []
  },
  {
   "cell_type": "code",
   "execution_count": null,
   "id": "characteristic-beauty",
   "metadata": {},
   "outputs": [],
   "source": []
  },
  {
   "cell_type": "code",
   "execution_count": 10,
   "id": "banner-standard",
   "metadata": {},
   "outputs": [
    {
     "name": "stdout",
     "output_type": "stream",
     "text": [
      "[8.82357525200821, 8.487042970952125, 12.58133394023178, 13.666439218362502, 20.982858552319996, 19.805426812791534, 17.53120724364791, 24.150902536755826, 23.617492511069297, 25.754965480911306, 29.8008860677488, 29.552847191343563, 30.34138572447161, 34.98620763111463, 37.527003503984226, 36.920725097806255, 34.6794355059767, 34.946063956723755, 34.03611552405643, 32.80761064684681, 34.88808305819626, 34.90632536028781, 37.30245631422339, 35.41275444699568, 44.266527211030315, 42.686385176340515, 40.35664806181085, 38.28582103990617, 37.068573957570734, 37.27779984346807, 35.91697494770385, 39.87369217432161, 43.67141673704116, 46.19429214023233, 44.23843963190494, 57.378848672348404, 58.029102815658376, 56.819946145472215, 55.27994886545046, 54.993850514202585, 60.091827075510736, 57.02625252134283, 57.09084943882409, 65.62877558028713, 65.92898233276037, 67.74187276850901, 65.8716430181777, 67.6695540897691, 66.68771787577944, 67.57125511101066, 67.41321626217068, 66.43074407906091, 69.10326276631424, 70.5248946914885, 68.48462053366548, 71.01263526639823, 70.59767402541718, 73.5557214256842, 74.12397424846806, 71.14648937332841, 76.17400021130888, 75.77038092307069, 79.69460190586499, 78.05657481941245, 78.02327559472445, 80.87502509712127, 82.91406824261085, 82.87136780637455, 79.08394550943507, 78.07449858655606, 77.69611751122778, 80.25127251889994, 84.29852819193464, 88.1007113456367, 91.10035830968587, 92.25729966404356, 92.40113169952508, 94.50154668684452, 94.89842050705433, 92.77071164755907, 92.2095439956864, 91.46788907677814, 97.36778016125405, 101.44081259757584, 102.46151664015034, 102.06994186108979, 107.04925071863889, 107.23769851163014, 110.31975269005818, 111.48199562532093, 113.21433788806212, 113.65360275156503, 108.65360275156503, 108.5860710053111, 114.46353607116944, 112.1592593491414, 112.91630157726566, 114.44967901401172, 115.70473544759788, 112.24773133351425, 116.40773437827345, 117.44125242460132, 119.63074131958489, 119.48327382980322, 117.01150583990547, 121.5242054503905, 124.73938426129077, 125.58147117696873, 128.554837244915, 127.67923804426634, 125.16710212193624, 122.29998767147505, 126.73285356382063, 126.06990512154557, 133.7545476241587, 129.61574513582278, 131.72338095285122, 129.7832072828478, 133.61181986999827, 133.05751898370147, 131.10696102841985, 135.7711760346666, 141.38099339294905, 141.11917615883422, 138.5529980019411, 138.6368034795722, 136.36532990344682, 136.34749624810587, 135.90768035665403, 143.4708100094027, 141.8863121427295, 142.04488528515736, 152.28808031217986, 149.995324285901, 147.09605901134572, 142.09605901134572, 141.7112222344756, 141.5950778002128, 144.69169600237802, 149.97535761958952, 153.36206129729223, 159.15595655312828, 160.23303091317473, 161.86845259717168, 168.96308287969808, 167.90540119528754, 173.2680213164795, 171.4560936874535, 169.38620591831022, 178.60248088415116, 180.8782358126813, 180.4458301354882, 187.4912800377634, 190.03330256855364, 187.06175823533326, 187.40181540459722, 186.146127159628, 184.3428478692047, 195.3605918305633, 196.8871231641057, 201.1042190928676, 199.49408995897443, 203.07691362520572, 206.14666062187948, 206.92618330786897, 207.43244981602862, 204.59766581554084, 207.43052388806305, 211.977188221711, 208.38664959662242, 209.53450989533616, 219.80437154428506, 218.9298168256987, 217.7927482641799, 220.77435172517752, 216.57799650309528, 225.9564588748485, 230.4911259360929, 234.94079097804902, 235.74728347700568, 233.83055757418185, 242.4822503119981, 246.03384493981923, 243.57917844437722, 245.14512555344103, 248.73823046742342, 249.09235149646344, 249.75564279766124, 250.7719326134572, 255.65081617432324, 250.65081617432324, 247.5553132853321, 248.84771852638784, 250.27390506012676, 245.27390506012676, 240.27390506012676, 235.27390506012676, 232.54265132084603, 233.3782213326739, 243.8881269190319, 255.57438937517222, 254.27858916777507, 251.62418883211274, 284.77954426725404, 281.0539493923303, 278.3248996922601, 301.8978616904293, 314.28984804841775, 327.3509501349306, 322.6307291935281, 325.7746319247935, 323.02062546962014, 331.26665955955224, 330.3375530881038, 340.8827773216178, 345.8454636739807, 360.662307294227, 375.0062596704424, 378.7450451079649, 382.81055438182585, 396.7250325848331, 401.3935780572985, 407.32784645545695, 403.9727533723232, 404.96413070173554, 409.85571770309457, 415.98280656399294, 416.91664991156466, 417.37705395384876, 416.17164989773744, 424.46160726664516, 427.2294647773459, 429.5595777690163, 431.6451695057238, 438.89206694174936, 438.2891055639682, 434.5592994250344, 434.77247341987743, 448.7121765878925, 448.18284308741164, 444.715901811535, 441.68112444099506, 446.44530376019145, 447.87780515855843, 443.7112764749787, 449.15524254116076, 451.68753060424893, 453.37945448250116]\n"
     ]
    }
   ],
   "source": [
    "print(profity)"
   ]
  },
  {
   "cell_type": "code",
   "execution_count": null,
   "id": "applied-yemen",
   "metadata": {},
   "outputs": [],
   "source": []
  },
  {
   "cell_type": "code",
   "execution_count": 11,
   "id": "administrative-microphone",
   "metadata": {},
   "outputs": [
    {
     "name": "stdout",
     "output_type": "stream",
     "text": [
      "248\n"
     ]
    },
    {
     "data": {
      "text/plain": [
       "[<matplotlib.lines.Line2D at 0x29471d78df0>]"
      ]
     },
     "execution_count": 11,
     "metadata": {},
     "output_type": "execute_result"
    },
    {
     "data": {
      "image/png": "[encoded data removed]",
      "text/plain": [
       "<Figure size 432x288 with 1 Axes>"
      ]
     },
     "metadata": {
      "needs_background": "light"
     },
     "output_type": "display_data"
    }
   ],
   "source": [
    "import matplotlib.pyplot as plt\n",
    "axiss = []\n",
    "profit = [8.82357525200821, 8.487042970952125, 12.58133394023178, 13.666439218362502, 20.982858552319996, 19.805426812791534, 17.53120724364791, 24.150902536755826, 23.617492511069297, 25.754965480911306, 29.8008860677488, 29.552847191343563, 30.34138572447161, 34.98620763111463, 37.527003503984226, 36.920725097806255, 34.6794355059767, 34.946063956723755, 34.03611552405643, 32.80761064684681, 34.88808305819626, 34.90632536028781, 37.30245631422339, 35.41275444699568, 44.266527211030315, 42.686385176340515, 40.35664806181085, 38.28582103990617, 37.068573957570734, 37.27779984346807, 35.91697494770385, 39.87369217432161, 43.67141673704116, 46.19429214023233, 44.23843963190494, 57.378848672348404, 58.029102815658376, 56.819946145472215, 55.27994886545046, 54.993850514202585, 60.091827075510736, 57.02625252134283, 57.09084943882409, 65.62877558028713, 65.92898233276037, 67.74187276850901, 65.8716430181777, 67.6695540897691, 66.68771787577944, 67.57125511101066, 67.41321626217068, 66.43074407906091, 69.10326276631424, 70.5248946914885, 68.48462053366548, 71.01263526639823, 70.59767402541718, 73.5557214256842, 74.12397424846806, 71.14648937332841, 76.17400021130888, 75.77038092307069, 79.69460190586499, 78.05657481941245, 78.02327559472445, 80.87502509712127, 82.91406824261085, 82.87136780637455, 79.08394550943507, 78.07449858655606, 77.69611751122778, 80.25127251889994, 84.29852819193464, 88.1007113456367, 91.10035830968587, 92.25729966404356, 92.40113169952508, 94.50154668684452, 94.89842050705433, 92.77071164755907, 92.2095439956864, 91.46788907677814, 97.36778016125405, 101.44081259757584, 102.46151664015034, 102.06994186108979, 107.04925071863889, 107.23769851163014, 110.31975269005818, 111.48199562532093, 113.21433788806212, 113.65360275156503, 108.65360275156503, 108.5860710053111, 114.46353607116944, 112.1592593491414, 112.91630157726566, 114.44967901401172, 115.70473544759788, 112.24773133351425, 116.40773437827345, 117.44125242460132, 119.63074131958489, 119.48327382980322, 117.01150583990547, 121.5242054503905, 124.73938426129077, 125.58147117696873, 128.554837244915, 127.67923804426634, 125.16710212193624, 122.29998767147505, 126.73285356382063, 126.06990512154557, 133.7545476241587, 129.61574513582278, 131.72338095285122, 129.7832072828478, 133.61181986999827, 133.05751898370147, 131.10696102841985, 135.7711760346666, 141.38099339294905, 141.11917615883422, 138.5529980019411, 138.6368034795722, 136.36532990344682, 136.34749624810587, 135.90768035665403, 143.4708100094027, 141.8863121427295, 142.04488528515736, 152.28808031217986, 149.995324285901, 147.09605901134572, 142.09605901134572, 141.7112222344756, 141.5950778002128, 144.69169600237802, 149.97535761958952, 153.36206129729223, 159.15595655312828, 160.23303091317473, 161.86845259717168, 168.96308287969808, 167.90540119528754, 173.2680213164795, 171.4560936874535, 169.38620591831022, 178.60248088415116, 180.8782358126813, 180.4458301354882, 187.4912800377634, 190.03330256855364, 187.06175823533326, 187.40181540459722, 186.146127159628, 184.3428478692047, 195.3605918305633, 196.8871231641057, 201.1042190928676, 199.49408995897443, 203.07691362520572, 206.14666062187948, 206.92618330786897, 207.43244981602862, 204.59766581554084, 207.43052388806305, 211.977188221711, 208.38664959662242, 209.53450989533616, 219.80437154428506, 218.9298168256987, 217.7927482641799, 220.77435172517752, 216.57799650309528, 225.9564588748485, 230.4911259360929, 234.94079097804902, 235.74728347700568, 233.83055757418185, 242.4822503119981, 246.03384493981923, 243.57917844437722, 245.14512555344103, 248.73823046742342, 249.09235149646344, 249.75564279766124, 250.7719326134572, 255.65081617432324, 250.65081617432324, 247.5553132853321, 248.84771852638784, 250.27390506012676, 245.27390506012676, 240.27390506012676, 235.27390506012676, 232.54265132084603, 233.3782213326739, 243.8881269190319, 255.57438937517222, 254.27858916777507, 251.62418883211274, 284.77954426725404, 281.0539493923303, 278.3248996922601, 301.8978616904293, 314.28984804841775, 327.3509501349306, 322.6307291935281, 325.7746319247935, 323.02062546962014, 331.26665955955224, 330.3375530881038, 340.8827773216178, 345.8454636739807, 360.662307294227, 375.0062596704424, 378.7450451079649, 382.81055438182585, 396.7250325848331, 401.3935780572985, 407.32784645545695, 403.9727533723232, 404.96413070173554, 409.85571770309457, 415.98280656399294, 416.91664991156466, 417.37705395384876, 416.17164989773744, 424.46160726664516, 427.2294647773459, 429.5595777690163, 431.6451695057238, 438.89206694174936, 438.2891055639682, 434.5592994250344, 434.77247341987743, 448.7121765878925, 448.18284308741164, 444.715901811535, 441.68112444099506, 446.44530376019145, 447.87780515855843, 443.7112764749787, 449.15524254116076, 451.68753060424893, 453.37945448250116]\n",
    "for x in range(len(profit)):\n",
    "    axiss.append(x)\n",
    "print(len(axiss))\n",
    "plt.plot(axiss,profit)"
   ]
  },
  {
   "cell_type": "code",
   "execution_count": null,
   "id": "unlike-lodge",
   "metadata": {},
   "outputs": [],
   "source": []
  },
  {
   "cell_type": "code",
   "execution_count": null,
   "id": "welsh-tanzania",
   "metadata": {},
   "outputs": [],
   "source": []
  },
  {
   "cell_type": "code",
   "execution_count": null,
   "id": "sound-header",
   "metadata": {},
   "outputs": [],
   "source": []
  },
  {
   "cell_type": "code",
   "execution_count": null,
   "id": "fabulous-twelve",
   "metadata": {},
   "outputs": [],
   "source": []
  },
  {
   "cell_type": "code",
   "execution_count": null,
   "id": "removable-custody",
   "metadata": {},
   "outputs": [],
   "source": []
  },
  {
   "cell_type": "code",
   "execution_count": null,
   "id": "dramatic-nurse",
   "metadata": {},
   "outputs": [],
   "source": []
  },
  {
   "cell_type": "code",
   "execution_count": null,
   "id": "straight-procedure",
   "metadata": {},
   "outputs": [],
   "source": []
  },
  {
   "cell_type": "code",
   "execution_count": null,
   "id": "czech-missile",
   "metadata": {},
   "outputs": [],
   "source": []
  },
  {
   "cell_type": "code",
   "execution_count": null,
   "id": "changing-omaha",
   "metadata": {},
   "outputs": [],
   "source": []
  },
  {
   "cell_type": "code",
   "execution_count": null,
   "id": "north-knight",
   "metadata": {},
   "outputs": [],
   "source": []
  },
  {
   "cell_type": "code",
   "execution_count": null,
   "id": "seasonal-rover",
   "metadata": {},
   "outputs": [],
   "source": []
  },
  {
   "cell_type": "code",
   "execution_count": null,
   "id": "separate-guarantee",
   "metadata": {},
   "outputs": [],
   "source": []
  },
  {
   "cell_type": "code",
   "execution_count": null,
   "id": "promising-guatemala",
   "metadata": {},
   "outputs": [],
   "source": []
  },
  {
   "cell_type": "code",
   "execution_count": null,
   "id": "automated-productivity",
   "metadata": {},
   "outputs": [],
   "source": []
  },
  {
   "cell_type": "code",
   "execution_count": null,
   "id": "adjustable-incident",
   "metadata": {},
   "outputs": [],
   "source": []
  },
  {
   "cell_type": "code",
   "execution_count": null,
   "id": "marine-assets",
   "metadata": {},
   "outputs": [],
   "source": []
  },
  {
   "cell_type": "code",
   "execution_count": null,
   "id": "integrated-consultation",
   "metadata": {},
   "outputs": [],
   "source": []
  },
  {
   "cell_type": "code",
   "execution_count": null,
   "id": "several-optimization",
   "metadata": {},
   "outputs": [],
   "source": []
  },
  {
   "cell_type": "code",
   "execution_count": null,
   "id": "collective-suite",
   "metadata": {},
   "outputs": [],
   "source": []
  },
  {
   "cell_type": "code",
   "execution_count": null,
   "id": "lucky-nation",
   "metadata": {},
   "outputs": [],
   "source": []
  },
  {
   "cell_type": "code",
   "execution_count": null,
   "id": "dated-collection",
   "metadata": {},
   "outputs": [],
   "source": []
  },
  {
   "cell_type": "code",
   "execution_count": null,
   "id": "endless-steam",
   "metadata": {},
   "outputs": [],
   "source": []
  },
  {
   "cell_type": "code",
   "execution_count": null,
   "id": "talented-citizen",
   "metadata": {},
   "outputs": [],
   "source": []
  },
  {
   "cell_type": "code",
   "execution_count": null,
   "id": "irish-qualification",
   "metadata": {},
   "outputs": [],
   "source": []
  },
  {
   "cell_type": "code",
   "execution_count": null,
   "id": "funky-partition",
   "metadata": {},
   "outputs": [],
   "source": []
  },
  {
   "cell_type": "code",
   "execution_count": null,
   "id": "organizational-encyclopedia",
   "metadata": {},
   "outputs": [],
   "source": []
  },
  {
   "cell_type": "code",
   "execution_count": null,
   "id": "negative-eugene",
   "metadata": {},
   "outputs": [],
   "source": []
  },
  {
   "cell_type": "code",
   "execution_count": null,
   "id": "flush-miracle",
   "metadata": {},
   "outputs": [],
   "source": [
    "592"
   ]
  },
  {
   "cell_type": "code",
   "execution_count": null,
   "id": "coupled-physiology",
   "metadata": {},
   "outputs": [],
   "source": []
  },
  {
   "cell_type": "code",
   "execution_count": null,
   "id": "solid-siemens",
   "metadata": {},
   "outputs": [],
   "source": []
  },
  {
   "cell_type": "code",
   "execution_count": null,
   "id": "mental-addition",
   "metadata": {},
   "outputs": [],
   "source": []
  },
  {
   "cell_type": "code",
   "execution_count": null,
   "id": "chicken-louisiana",
   "metadata": {},
   "outputs": [],
   "source": []
  },
  {
   "cell_type": "code",
   "execution_count": null,
   "id": "enhanced-startup",
   "metadata": {},
   "outputs": [],
   "source": []
  },
  {
   "cell_type": "code",
   "execution_count": null,
   "id": "demographic-india",
   "metadata": {},
   "outputs": [],
   "source": []
  },
  {
   "cell_type": "code",
   "execution_count": null,
   "id": "brutal-substitute",
   "metadata": {},
   "outputs": [],
   "source": []
  },
  {
   "cell_type": "code",
   "execution_count": null,
   "id": "greater-destination",
   "metadata": {},
   "outputs": [],
   "source": []
  },
  {
   "cell_type": "code",
   "execution_count": null,
   "id": "laden-figure",
   "metadata": {},
   "outputs": [],
   "source": []
  },
  {
   "cell_type": "code",
   "execution_count": 20,
   "id": "fleet-arnold",
   "metadata": {},
   "outputs": [
    {
     "data": {
      "text/html": [
       "<div>\n",
       "<style scoped>\n",
       "    .dataframe tbody tr th:only-of-type {\n",
       "        vertical-align: middle;\n",
       "    }\n",
       "\n",
       "    .dataframe tbody tr th {\n",
       "        vertical-align: top;\n",
       "    }\n",
       "\n",
       "    .dataframe thead th {\n",
       "        text-align: right;\n",
       "    }\n",
       "</style>\n",
       "<table border=\"1\" class=\"dataframe\">\n",
       "  <thead>\n",
       "    <tr style=\"text-align: right;\">\n",
       "      <th></th>\n",
       "      <th>date</th>\n",
       "      <th>s1</th>\n",
       "      <th>s2</th>\n",
       "      <th>s3</th>\n",
       "      <th>s4</th>\n",
       "      <th>s5</th>\n",
       "      <th>s6</th>\n",
       "      <th>s7</th>\n",
       "      <th>s8</th>\n",
       "      <th>s9</th>\n",
       "      <th>s10</th>\n",
       "    </tr>\n",
       "  </thead>\n",
       "  <tbody>\n",
       "    <tr>\n",
       "      <th>0</th>\n",
       "      <td>2008-04-02</td>\n",
       "      <td>DVNTRENDS.csv</td>\n",
       "      <td>ICUITRENDS.csv</td>\n",
       "      <td>BLKTRENDS.csv</td>\n",
       "      <td>FETRENDS.csv</td>\n",
       "      <td>LFUSTRENDS.csv</td>\n",
       "      <td>UNHTRENDS.csv</td>\n",
       "      <td>INGRTRENDS.csv</td>\n",
       "      <td>MOSTRENDS.csv</td>\n",
       "      <td>APATRENDS.csv</td>\n",
       "      <td>SCCOTRENDS.csv</td>\n",
       "    </tr>\n",
       "    <tr>\n",
       "      <th>1</th>\n",
       "      <td>2008-04-09</td>\n",
       "      <td>FFIVTRENDS.csv</td>\n",
       "      <td>OGETRENDS.csv</td>\n",
       "      <td>ALETRENDS.csv</td>\n",
       "      <td>ROSTTRENDS.csv</td>\n",
       "      <td>COHRTRENDS.csv</td>\n",
       "      <td>XECTRENDS.csv</td>\n",
       "      <td>FETRENDS.csv</td>\n",
       "      <td>TFXTRENDS.csv</td>\n",
       "      <td>CMSTRENDS.csv</td>\n",
       "      <td>BLLTRENDS.csv</td>\n",
       "    </tr>\n",
       "    <tr>\n",
       "      <th>2</th>\n",
       "      <td>2008-04-16</td>\n",
       "      <td>CNCTRENDS.csv</td>\n",
       "      <td>FFIVTRENDS.csv</td>\n",
       "      <td>IRMTRENDS.csv</td>\n",
       "      <td>SWKSTRENDS.csv</td>\n",
       "      <td>MOTRENDS.csv</td>\n",
       "      <td>BLLTRENDS.csv</td>\n",
       "      <td>NEUTRENDS.csv</td>\n",
       "      <td>INGRTRENDS.csv</td>\n",
       "      <td>DGXTRENDS.csv</td>\n",
       "      <td>DVNTRENDS.csv</td>\n",
       "    </tr>\n",
       "    <tr>\n",
       "      <th>3</th>\n",
       "      <td>2008-04-23</td>\n",
       "      <td>ANATTRENDS.csv</td>\n",
       "      <td>FFIVTRENDS.csv</td>\n",
       "      <td>PENNTRENDS.csv</td>\n",
       "      <td>ALKTRENDS.csv</td>\n",
       "      <td>CNCTRENDS.csv</td>\n",
       "      <td>DKSTRENDS.csv</td>\n",
       "      <td>IEXTRENDS.csv</td>\n",
       "      <td>GETRENDS.csv</td>\n",
       "      <td>ADTNTRENDS.csv</td>\n",
       "      <td>WENTRENDS.csv</td>\n",
       "    </tr>\n",
       "    <tr>\n",
       "      <th>4</th>\n",
       "      <td>2008-04-30</td>\n",
       "      <td>APATRENDS.csv</td>\n",
       "      <td>ANATTRENDS.csv</td>\n",
       "      <td>FFIVTRENDS.csv</td>\n",
       "      <td>MOSTRENDS.csv</td>\n",
       "      <td>DVNTRENDS.csv</td>\n",
       "      <td>MOTRENDS.csv</td>\n",
       "      <td>WATTRENDS.csv</td>\n",
       "      <td>HALTRENDS.csv</td>\n",
       "      <td>VMITRENDS.csv</td>\n",
       "      <td>EWTRENDS.csv</td>\n",
       "    </tr>\n",
       "  </tbody>\n",
       "</table>\n",
       "</div>"
      ],
      "text/plain": [
       "         date              s1              s2              s3              s4  \\\n",
       "0  2008-04-02   DVNTRENDS.csv  ICUITRENDS.csv   BLKTRENDS.csv    FETRENDS.csv   \n",
       "1  2008-04-09  FFIVTRENDS.csv   OGETRENDS.csv   ALETRENDS.csv  ROSTTRENDS.csv   \n",
       "2  2008-04-16   CNCTRENDS.csv  FFIVTRENDS.csv   IRMTRENDS.csv  SWKSTRENDS.csv   \n",
       "3  2008-04-23  ANATTRENDS.csv  FFIVTRENDS.csv  PENNTRENDS.csv   ALKTRENDS.csv   \n",
       "4  2008-04-30   APATRENDS.csv  ANATTRENDS.csv  FFIVTRENDS.csv   MOSTRENDS.csv   \n",
       "\n",
       "               s5             s6              s7              s8  \\\n",
       "0  LFUSTRENDS.csv  UNHTRENDS.csv  INGRTRENDS.csv   MOSTRENDS.csv   \n",
       "1  COHRTRENDS.csv  XECTRENDS.csv    FETRENDS.csv   TFXTRENDS.csv   \n",
       "2    MOTRENDS.csv  BLLTRENDS.csv   NEUTRENDS.csv  INGRTRENDS.csv   \n",
       "3   CNCTRENDS.csv  DKSTRENDS.csv   IEXTRENDS.csv    GETRENDS.csv   \n",
       "4   DVNTRENDS.csv   MOTRENDS.csv   WATTRENDS.csv   HALTRENDS.csv   \n",
       "\n",
       "               s9             s10  \n",
       "0   APATRENDS.csv  SCCOTRENDS.csv  \n",
       "1   CMSTRENDS.csv   BLLTRENDS.csv  \n",
       "2   DGXTRENDS.csv   DVNTRENDS.csv  \n",
       "3  ADTNTRENDS.csv   WENTRENDS.csv  \n",
       "4   VMITRENDS.csv    EWTRENDS.csv  "
      ]
     },
     "execution_count": 20,
     "metadata": {},
     "output_type": "execute_result"
    }
   ],
   "source": [
    "import pandas as pd\n",
    "df = pd.read_csv('kol123')\n",
    "df.head()"
   ]
  },
  {
   "cell_type": "code",
   "execution_count": null,
   "id": "pointed-trinidad",
   "metadata": {},
   "outputs": [],
   "source": []
  },
  {
   "cell_type": "code",
   "execution_count": null,
   "id": "confirmed-beach",
   "metadata": {},
   "outputs": [],
   "source": []
  },
  {
   "cell_type": "code",
   "execution_count": null,
   "id": "enhanced-knife",
   "metadata": {},
   "outputs": [],
   "source": []
  },
  {
   "cell_type": "code",
   "execution_count": null,
   "id": "economic-there",
   "metadata": {},
   "outputs": [],
   "source": []
  },
  {
   "cell_type": "code",
   "execution_count": null,
   "id": "elect-hospital",
   "metadata": {},
   "outputs": [],
   "source": []
  },
  {
   "cell_type": "code",
   "execution_count": null,
   "id": "stunning-filing",
   "metadata": {},
   "outputs": [],
   "source": []
  },
  {
   "cell_type": "code",
   "execution_count": null,
   "id": "framed-bunny",
   "metadata": {},
   "outputs": [],
   "source": []
  },
  {
   "cell_type": "code",
   "execution_count": null,
   "id": "contemporary-upset",
   "metadata": {},
   "outputs": [],
   "source": []
  },
  {
   "cell_type": "code",
   "execution_count": null,
   "id": "immune-avenue",
   "metadata": {},
   "outputs": [],
   "source": []
  },
  {
   "cell_type": "code",
   "execution_count": null,
   "id": "through-summer",
   "metadata": {},
   "outputs": [],
   "source": []
  },
  {
   "cell_type": "code",
   "execution_count": null,
   "id": "plastic-delicious",
   "metadata": {},
   "outputs": [],
   "source": []
  },
  {
   "cell_type": "code",
   "execution_count": null,
   "id": "designing-detector",
   "metadata": {},
   "outputs": [],
   "source": []
  },
  {
   "cell_type": "code",
   "execution_count": null,
   "id": "painful-cedar",
   "metadata": {},
   "outputs": [],
   "source": []
  },
  {
   "cell_type": "code",
   "execution_count": 11,
   "id": "happy-spare",
   "metadata": {},
   "outputs": [
    {
     "name": "stdout",
     "output_type": "stream",
     "text": [
      "hhhhfd\n"
     ]
    }
   ],
   "source": [
    "gg = 'hhhhfd.csv'\n",
    "print(gg[:-4])"
   ]
  },
  {
   "cell_type": "code",
   "execution_count": null,
   "id": "contemporary-lunch",
   "metadata": {},
   "outputs": [],
   "source": []
  },
  {
   "cell_type": "code",
   "execution_count": null,
   "id": "binding-reading",
   "metadata": {},
   "outputs": [],
   "source": []
  },
  {
   "cell_type": "code",
   "execution_count": null,
   "id": "accessory-finder",
   "metadata": {},
   "outputs": [],
   "source": []
  },
  {
   "cell_type": "code",
   "execution_count": 5,
   "id": "exceptional-opening",
   "metadata": {},
   "outputs": [
    {
     "name": "stdout",
     "output_type": "stream",
     "text": [
      "s1\n",
      "s2\n",
      "s3\n",
      "s4\n"
     ]
    }
   ],
   "source": [
    "for y in range(1,5):\n",
    "    vag = 's'+str(y)\n",
    "    print(vag)"
   ]
  },
  {
   "cell_type": "code",
   "execution_count": null,
   "id": "ecological-taste",
   "metadata": {},
   "outputs": [],
   "source": []
  },
  {
   "cell_type": "code",
   "execution_count": null,
   "id": "medium-hostel",
   "metadata": {},
   "outputs": [],
   "source": []
  },
  {
   "cell_type": "code",
   "execution_count": null,
   "id": "retained-province",
   "metadata": {},
   "outputs": [],
   "source": []
  },
  {
   "cell_type": "code",
   "execution_count": null,
   "id": "hazardous-sandwich",
   "metadata": {},
   "outputs": [],
   "source": []
  },
  {
   "cell_type": "code",
   "execution_count": null,
   "id": "worst-citizenship",
   "metadata": {},
   "outputs": [],
   "source": []
  },
  {
   "cell_type": "code",
   "execution_count": null,
   "id": "driven-undergraduate",
   "metadata": {},
   "outputs": [],
   "source": []
  },
  {
   "cell_type": "code",
   "execution_count": null,
   "id": "opposite-pressure",
   "metadata": {},
   "outputs": [],
   "source": []
  },
  {
   "cell_type": "code",
   "execution_count": null,
   "id": "centered-income",
   "metadata": {},
   "outputs": [],
   "source": []
  },
  {
   "cell_type": "code",
   "execution_count": null,
   "id": "focal-trigger",
   "metadata": {},
   "outputs": [],
   "source": []
  },
  {
   "cell_type": "code",
   "execution_count": null,
   "id": "innocent-furniture",
   "metadata": {},
   "outputs": [],
   "source": [
    "print('-=------')\n",
    "        if prob_list != 0:\n",
    "            my_keys = sorted(prob_list, key=prob_list.get, reverse=True)[:4]\n",
    "            for y in range(4):\n",
    "                print('+++++++')\n",
    "                df_1 = pd.read_csv('Trends5per-ML/'+my_keys[y])\n",
    "                date_1 = df_1['Date'].to_list()\n",
    "                ind_1 = date_1.index(gg[x])\n",
    "                stock = buystock(ind_1,df_1,my_keys[y])\n",
    "                profit+=stock\n",
    "            \n",
    "            print('CURRENT PROFIT: ',profit)\n",
    "            \n",
    "            profity.append(profit)\n",
    "            print(gg[x],'-',profit)\n",
    "            xfg = pd.DataFrame(profity)\n",
    "            xfg.to_csv('Wykresik3')\n",
    "          "
   ]
  },
  {
   "cell_type": "code",
   "execution_count": null,
   "id": "billion-implement",
   "metadata": {},
   "outputs": [],
   "source": [
    "largest1 = max(prob_list)\n",
    "        #print(largest1)\n",
    "        #print(prob_list)\n",
    "\n",
    "            tick_1 = prob_list.index(largest1)\n",
    "            prob_list.pop(tick_1)\n",
    "\n",
    "            largest2 = max(prob_list)\n",
    "            tick_2 = prob_list.index(largest2)\n",
    "            prob_list.pop(tick_2)\n",
    "\n",
    "            largest3 = max(prob_list)\n",
    "            tick_3 = prob_list.index(largest3)\n",
    "            prob_list.pop(tick_3)\n",
    "            \n",
    "            largest4 = max(prob_list)\n",
    "            tick_4 = prob_list.index(largest4)\n",
    "            prob_list.pop(tick_4)\n",
    "            \n",
    "            largest5 = max(prob_list)\n",
    "            tick_5 = prob_list.index(largest5)\n",
    "            prob_list.pop(tick_5)\n",
    "                          \n",
    "            pa_1 = pd.read_csv('Trends5per-ML/'+ files[tick_1])\n",
    "            pa_2 = pd.read_csv('Trends5per-ML/'+ files[tick_2])\n",
    "            pa_3 = pd.read_csv('Trends5per-ML/'+ files[tick_3])\n",
    "            pa_4 = pd.read_csv('Trends5per-ML/'+ files[tick_4])\n",
    "            pa_5 = pd.read_csv('Trends5per-ML/'+ files[tick_5])\n",
    "\n",
    "            date_1 = pa_1['Date'].to_list()\n",
    "            date_2 = pa_2['Date'].to_list()\n",
    "            date_3 = pa_3['Date'].to_list()\n",
    "            date_4 = pa_4['Date'].to_list()\n",
    "            date_5 = pa_5['Date'].to_list()\n",
    "\n",
    "            ind_1 =  date_1.index(gg[x])\n",
    "            ind_2 = date_2.index(gg[x])\n",
    "            ind_3 =  date_3.index(gg[x])\n",
    "            ind_4 =  date_4.index(gg[x])\n",
    "            ind_5 =  date_5.index(gg[x])\n",
    "            \n",
    "            stock1 = buystock(ind_1,pa_1,files[tick_1])\n",
    "            stock2 = buystock(ind_2,pa_2,files[tick_2])\n",
    "            stock3 = buystock(ind_3,pa_3,files[tick_3])\n",
    "            stock4 = buystock(ind_4,pa_4,files[tick_4])\n",
    "            stock5 = buystock(ind_5,pa_5,files[tick_5])\n",
    "\n",
    "            profit += stock1\n",
    "            profit += stock2\n",
    "            profit += stock3\n",
    "            profit += stock4\n",
    "            profit += stock5\n",
    "\n",
    "            print('CURRENT PROFIT: ',profit)\n",
    "            okk = stock1+stock2+stock3\n",
    "            profity.append(profit)\n",
    "            print(gg[x],'-',okk)\n",
    "            xfg = pd.DataFrame(profity)\n",
    "            xfg.to_csv('Wykresik2')"
   ]
  },
  {
   "cell_type": "code",
   "execution_count": null,
   "id": "union-chase",
   "metadata": {},
   "outputs": [],
   "source": [
    "  my_keys = sorted(prob_list, key=prob_list.get, reverse=True)[:4]\n",
    "            \n",
    "            \n",
    "            df_1 = pd.read_csv('Trends5per-ML/'+my_keys[0])\n",
    "            df_2 = pd.read_csv('Trends5per-ML/'+my_keys[1])\n",
    "            df_3 = pd.read_csv('Trends5per-ML/'+my_keys[2])\n",
    "            df_4 = pd.read_csv('Trends5per-ML/'+my_keys[3])\n",
    "\n",
    "\n",
    "            date_1 = df_1['Date'].to_list()\n",
    "            date_2 = df_2['Date'].to_list()\n",
    "            date_3 = df_3['Date'].to_list()\n",
    "            date_4 = df_3['Date'].to_list()\n",
    "\n",
    "\n",
    "\n",
    "            ind_1 =  date_1.index(gg[x])\n",
    "            ind_2 = date_2.index(gg[x])\n",
    "            ind_3 =  date_3.index(gg[x])\n",
    "            ind_4 =  date_3.index(gg[x])\n",
    "\n",
    "            stock1 = buystock(ind_1,df_1,my_keys[0])\n",
    "            stock2= buystock(ind_2,df_2,my_keys[1])\n",
    "            stock3= buystock(ind_3,df_3,my_keys[2])\n",
    "            stock4= buystock(ind_4,df_4,my_keys[3])\n",
    "\n",
    "            \n",
    "            profit += stock1\n",
    "            profit += stock2\n",
    "            profit += stock3\n",
    "            profit += stock4"
   ]
  },
  {
   "cell_type": "code",
   "execution_count": null,
   "id": "organizational-radical",
   "metadata": {},
   "outputs": [],
   "source": []
  },
  {
   "cell_type": "code",
   "execution_count": null,
   "id": "extreme-cartridge",
   "metadata": {},
   "outputs": [],
   "source": []
  },
  {
   "cell_type": "code",
   "execution_count": null,
   "id": "spoken-angel",
   "metadata": {},
   "outputs": [],
   "source": []
  },
  {
   "cell_type": "code",
   "execution_count": null,
   "id": "egyptian-summer",
   "metadata": {},
   "outputs": [],
   "source": []
  },
  {
   "cell_type": "code",
   "execution_count": null,
   "id": "constant-likelihood",
   "metadata": {},
   "outputs": [],
   "source": []
  },
  {
   "cell_type": "code",
   "execution_count": null,
   "id": "portuguese-speaker",
   "metadata": {},
   "outputs": [],
   "source": []
  },
  {
   "cell_type": "code",
   "execution_count": null,
   "id": "accessory-flight",
   "metadata": {},
   "outputs": [],
   "source": []
  },
  {
   "cell_type": "code",
   "execution_count": null,
   "id": "competitive-prairie",
   "metadata": {},
   "outputs": [],
   "source": []
  },
  {
   "cell_type": "code",
   "execution_count": null,
   "id": "toxic-robinson",
   "metadata": {},
   "outputs": [],
   "source": []
  },
  {
   "cell_type": "code",
   "execution_count": null,
   "id": "passive-scanner",
   "metadata": {},
   "outputs": [],
   "source": []
  },
  {
   "cell_type": "code",
   "execution_count": null,
   "id": "racial-phone",
   "metadata": {},
   "outputs": [],
   "source": []
  },
  {
   "cell_type": "code",
   "execution_count": null,
   "id": "coated-traveler",
   "metadata": {},
   "outputs": [],
   "source": []
  },
  {
   "cell_type": "code",
   "execution_count": null,
   "id": "suspected-charleston",
   "metadata": {},
   "outputs": [],
   "source": []
  },
  {
   "cell_type": "code",
   "execution_count": null,
   "id": "nonprofit-frost",
   "metadata": {},
   "outputs": [],
   "source": []
  },
  {
   "cell_type": "code",
   "execution_count": null,
   "id": "dominican-composer",
   "metadata": {},
   "outputs": [],
   "source": []
  },
  {
   "cell_type": "code",
   "execution_count": null,
   "id": "latter-convert",
   "metadata": {},
   "outputs": [],
   "source": []
  },
  {
   "cell_type": "code",
   "execution_count": null,
   "id": "deluxe-academy",
   "metadata": {},
   "outputs": [],
   "source": []
  },
  {
   "cell_type": "code",
   "execution_count": null,
   "id": "thrown-gardening",
   "metadata": {},
   "outputs": [],
   "source": [
    "df_1 = pd.read_csv('Trendsup/'+my_keys[0])\n",
    "            df_2 = pd.read_csv('Trendsup/'+my_keys[1])\n",
    "            df_3 = pd.read_csv('Trendsup/'+my_keys[2])\n",
    "            df_4 = pd.read_csv('Trendsup/'+my_keys[3])\n",
    "\n",
    "\n",
    "            date_1 = df_1['Date'].to_list()\n",
    "            date_2 = df_2['Date'].to_list()\n",
    "            date_3 = df_3['Date'].to_list()\n",
    "            date_4 = df_3['Date'].to_list()\n",
    "\n",
    "\n",
    "\n",
    "            ind_1 =  date_1.index(gg[x])\n",
    "            ind_2 = date_2.index(gg[x])\n",
    "            ind_3 =  date_3.index(gg[x])\n",
    "            ind_4 =  date_3.index(gg[x])\n",
    "\n",
    "            stock1 = buystock(ind_1,df_1,my_keys[0])\n",
    "            stock2= buystock(ind_2,df_2,my_keys[1])\n",
    "            stock3= buystock(ind_3,df_3,m_keys[0])\n",
    "            stock4= buystock(ind_4,df_4,m_keys[1])\n",
    "            stock11.append(stock1)\n",
    "            stock22.append(stock2)\n",
    "            stock33.append(stock3)\n",
    "            stock44.append(stock4)\n",
    "            \n",
    "            profit += stock1\n",
    "            profit += stock2\n",
    "            profit += stock3\n",
    "            profit += stock4\n",
    "\n",
    "            print('CURRENT PROFIT: ',profit)\n",
    "            okk = stock1+stock2+stock3+stock4\n",
    "            \n",
    "            profity.append(profit)\n",
    "            print(gg[x],'-',okk)\n",
    "            xfg = pd.DataFrame(profity)\n",
    "            xfg.to_csv('Wykresik2')\n",
    "            stockk11 = pd.DataFrame(stock11)\n",
    "            stockk22 = pd.DataFrame(stock22)\n",
    "            stockk33 = pd.DataFrame(stock33)\n",
    "            stockk44 = pd.DataFrame(stock44)\n",
    "            stockk11.to_csv('S1')\n",
    "            stockk22.to_csv('S2')\n",
    "            stockk33.to_csv('S3')\n",
    "            stockk44.to_csv('S4')"
   ]
  },
  {
   "cell_type": "code",
   "execution_count": null,
   "id": "agricultural-edwards",
   "metadata": {},
   "outputs": [],
   "source": []
  },
  {
   "cell_type": "code",
   "execution_count": null,
   "id": "progressive-heart",
   "metadata": {},
   "outputs": [],
   "source": [
    "= [1,5,6,8,3,2]\n",
    "print(ll[:-2])\n",
    "my_keys = sorted(prob_list, key=prob_list.get, reverse=True)[:2]"
   ]
  },
  {
   "cell_type": "code",
   "execution_count": null,
   "id": "fatty-sight",
   "metadata": {},
   "outputs": [],
   "source": []
  },
  {
   "cell_type": "code",
   "execution_count": null,
   "id": "above-circumstances",
   "metadata": {},
   "outputs": [],
   "source": []
  },
  {
   "cell_type": "code",
   "execution_count": null,
   "id": "pediatric-architect",
   "metadata": {},
   "outputs": [],
   "source": []
  },
  {
   "cell_type": "code",
   "execution_count": null,
   "id": "hollywood-camera",
   "metadata": {},
   "outputs": [],
   "source": []
  },
  {
   "cell_type": "code",
   "execution_count": null,
   "id": "incorrect-maker",
   "metadata": {},
   "outputs": [],
   "source": []
  },
  {
   "cell_type": "code",
   "execution_count": null,
   "id": "legendary-literature",
   "metadata": {},
   "outputs": [],
   "source": []
  },
  {
   "cell_type": "code",
   "execution_count": null,
   "id": "blond-lease",
   "metadata": {},
   "outputs": [],
   "source": []
  },
  {
   "cell_type": "code",
   "execution_count": null,
   "id": "nonprofit-acrobat",
   "metadata": {},
   "outputs": [],
   "source": []
  },
  {
   "cell_type": "code",
   "execution_count": null,
   "id": "crazy-vessel",
   "metadata": {},
   "outputs": [],
   "source": []
  },
  {
   "cell_type": "code",
   "execution_count": null,
   "id": "vocal-gross",
   "metadata": {},
   "outputs": [],
   "source": []
  },
  {
   "cell_type": "code",
   "execution_count": 25,
   "id": "subject-plymouth",
   "metadata": {},
   "outputs": [
    {
     "name": "stdout",
     "output_type": "stream",
     "text": [
      "l\n"
     ]
    }
   ],
   "source": [
    "h ='lolf'\n",
    "h = h[2::3]\n",
    "print(h)"
   ]
  },
  {
   "cell_type": "code",
   "execution_count": null,
   "id": "healthy-violin",
   "metadata": {},
   "outputs": [],
   "source": []
  },
  {
   "cell_type": "code",
   "execution_count": null,
   "id": "qualified-generic",
   "metadata": {},
   "outputs": [],
   "source": []
  },
  {
   "cell_type": "code",
   "execution_count": null,
   "id": "strategic-course",
   "metadata": {},
   "outputs": [],
   "source": []
  },
  {
   "cell_type": "code",
   "execution_count": null,
   "id": "ongoing-ivory",
   "metadata": {},
   "outputs": [],
   "source": []
  },
  {
   "cell_type": "code",
   "execution_count": null,
   "id": "working-transparency",
   "metadata": {},
   "outputs": [],
   "source": []
  },
  {
   "cell_type": "code",
   "execution_count": null,
   "id": "approved-situation",
   "metadata": {},
   "outputs": [],
   "source": []
  },
  {
   "cell_type": "code",
   "execution_count": null,
   "id": "white-comment",
   "metadata": {},
   "outputs": [],
   "source": []
  },
  {
   "cell_type": "code",
   "execution_count": null,
   "id": "impressive-greensboro",
   "metadata": {},
   "outputs": [],
   "source": [
    "CURRENT PROFIT:  24.119840361889466\n",
    "2014-03-25 - 0.5865691212616313"
   ]
  },
  {
   "cell_type": "code",
   "execution_count": null,
   "id": "thrown-holly",
   "metadata": {},
   "outputs": [],
   "source": []
  },
  {
   "cell_type": "code",
   "execution_count": 15,
   "id": "hairy-refrigerator",
   "metadata": {},
   "outputs": [
    {
     "name": "stdout",
     "output_type": "stream",
     "text": [
      "-25\n"
     ]
    }
   ],
   "source": [
    "X = -56\n",
    "Y = 25\n",
    "print(Y*-1)"
   ]
  },
  {
   "cell_type": "code",
   "execution_count": null,
   "id": "considerable-cable",
   "metadata": {},
   "outputs": [],
   "source": []
  },
  {
   "cell_type": "code",
   "execution_count": null,
   "id": "neural-ballet",
   "metadata": {},
   "outputs": [],
   "source": []
  },
  {
   "cell_type": "code",
   "execution_count": null,
   "id": "turkish-circus",
   "metadata": {},
   "outputs": [],
   "source": []
  },
  {
   "cell_type": "code",
   "execution_count": null,
   "id": "angry-people",
   "metadata": {},
   "outputs": [],
   "source": []
  },
  {
   "cell_type": "code",
   "execution_count": null,
   "id": "established-three",
   "metadata": {},
   "outputs": [],
   "source": []
  },
  {
   "cell_type": "code",
   "execution_count": null,
   "id": "developed-laser",
   "metadata": {},
   "outputs": [],
   "source": []
  },
  {
   "cell_type": "code",
   "execution_count": null,
   "id": "damaged-africa",
   "metadata": {},
   "outputs": [],
   "source": [
    "import p"
   ]
  },
  {
   "cell_type": "code",
   "execution_count": null,
   "id": "coupled-victim",
   "metadata": {},
   "outputs": [],
   "source": []
  },
  {
   "cell_type": "code",
   "execution_count": null,
   "id": "bibliographic-baker",
   "metadata": {},
   "outputs": [],
   "source": []
  },
  {
   "cell_type": "code",
   "execution_count": null,
   "id": "subject-boards",
   "metadata": {},
   "outputs": [],
   "source": []
  },
  {
   "cell_type": "code",
   "execution_count": null,
   "id": "informational-yellow",
   "metadata": {},
   "outputs": [],
   "source": []
  },
  {
   "cell_type": "code",
   "execution_count": null,
   "id": "cathedral-format",
   "metadata": {},
   "outputs": [],
   "source": []
  },
  {
   "cell_type": "code",
   "execution_count": null,
   "id": "unusual-transportation",
   "metadata": {},
   "outputs": [],
   "source": []
  },
  {
   "cell_type": "code",
   "execution_count": null,
   "id": "flexible-fetish",
   "metadata": {},
   "outputs": [],
   "source": []
  },
  {
   "cell_type": "code",
   "execution_count": null,
   "id": "noble-helena",
   "metadata": {},
   "outputs": [],
   "source": []
  },
  {
   "cell_type": "code",
   "execution_count": null,
   "id": "subject-spain",
   "metadata": {},
   "outputs": [],
   "source": []
  },
  {
   "cell_type": "code",
   "execution_count": null,
   "id": "willing-wonder",
   "metadata": {},
   "outputs": [],
   "source": []
  },
  {
   "cell_type": "code",
   "execution_count": 3,
   "id": "competitive-manitoba",
   "metadata": {},
   "outputs": [
    {
     "name": "stdout",
     "output_type": "stream",
     "text": [
      "AAPLTRENDS.sav\n",
      "ACNTRENDS.sav\n",
      "ADBETRENDS.sav\n",
      "ADITRENDS.sav\n",
      "ADPTRENDS.sav\n",
      "AEPTRENDS.sav\n",
      "AFLTRENDS.sav\n",
      "AIGTRENDS.sav\n",
      "ALGNTRENDS.sav\n",
      "ALLTRENDS.sav\n",
      "ALXNTRENDS.sav\n",
      "AMATTRENDS.sav\n",
      "AMDTRENDS.sav\n",
      "AMGNTRENDS.sav\n",
      "AMZNTRENDS.sav\n",
      "AONTRENDS.sav\n",
      "APHTRENDS.sav\n",
      "ATRENDS.sav\n",
      "ATVITRENDS.sav\n",
      "AXPTRENDS.sav\n",
      "BACTRENDS.sav\n",
      "BAXTRENDS.sav\n",
      "BDXTRENDS.sav\n",
      "BKNGTRENDS.sav\n",
      "BLKTRENDS.sav\n",
      "BMYTRENDS.sav\n",
      "CATTRENDS.sav\n",
      "CMCSATRENDS.sav\n",
      "CMETRENDS.sav\n",
      "CMITRENDS.sav\n",
      "CNCTRENDS.sav\n",
      "COPTRENDS.sav\n",
      "CRMTRENDS.sav\n",
      "CSCOTRENDS.sav\n",
      "CSGPTRENDS.sav\n",
      "CTASTRENDS.sav\n",
      "CTRENDS.sav\n",
      "CTSHTRENDS.sav\n",
      "CVSTRENDS.sav\n",
      "CVXTRENDS.sav\n",
      "DETRENDS.sav\n",
      "DHRTRENDS.sav\n",
      "DTRENDS.sav\n",
      "DUKTRENDS.sav\n",
      "ECLTRENDS.sav\n",
      "ETNTRENDS.sav\n",
      "EWTRENDS.sav\n",
      "FCXTRENDS.sav\n",
      "FISVTRENDS.sav\n",
      "FTRENDS.sav\n",
      "GETRENDS.sav\n",
      "GILDTRENDS.sav\n",
      "GLWTRENDS.sav\n",
      "GOOGLTRENDS.sav\n",
      "GSTRENDS.sav\n",
      "HDTRENDS.sav\n",
      "HPQTRENDS.sav\n",
      "IBMTRENDS.sav\n",
      "IDXXTRENDS.sav\n",
      "ILMNTRENDS.sav\n",
      "INTCTRENDS.sav\n",
      "ISRGTRENDS.sav\n",
      "ITWTRENDS.sav\n",
      "JCITRENDS.sav\n",
      "JPMTRENDS.sav\n",
      "KLACTRENDS.sav\n",
      "KMBTRENDS.sav\n",
      "LLYTRENDS.sav\n",
      "LOWTRENDS.sav\n",
      "LRCXTRENDS.sav\n",
      "MCDTRENDS.sav\n",
      "MCHPTRENDS.sav\n",
      "MDLZTRENDS.sav\n",
      "MDTTRENDS.sav\n",
      "MMCTRENDS.sav\n",
      "MNSTTRENDS.sav\n",
      "MSFTTRENDS.sav\n",
      "MSTRENDS.sav\n",
      "MUTRENDS.sav\n",
      "NEETRENDS.sav\n",
      "NFLXTRENDS.sav\n",
      "NVDATRENDS.sav\n",
      "ORCLTRENDS.sav\n",
      "PFETRENDS.sav\n",
      "PGRTRENDS.sav\n",
      "PHTRENDS.sav\n",
      "PLDTRENDS.sav\n",
      "PNCTRENDS.sav\n",
      "PPGTRENDS.sav\n",
      "PRUTRENDS.sav\n",
      "ROPTRENDS.sav\n",
      "ROSTTRENDS.sav\n",
      "RTXTRENDS.sav\n",
      "SCHWTRENDS.sav\n",
      "SLBTRENDS.sav\n",
      "SNPSTRENDS.sav\n",
      "SPGITRENDS.sav\n",
      "SPGTRENDS.sav\n",
      "SRETRENDS.sav\n",
      "STZTRENDS.sav\n",
      "SYKTRENDS.sav\n",
      "SYYTRENDS.sav\n",
      "TFCTRENDS.sav\n",
      "TGTTRENDS.sav\n",
      "TJXTRENDS.sav\n",
      "TTRENDS.sav\n",
      "TXNTRENDS.sav\n",
      "UNPTRENDS.sav\n",
      "UPSTRENDS.sav\n",
      "USBTRENDS.sav\n",
      "WFCTRENDS.sav\n",
      "WMTRENDS.sav\n",
      "YUMTRENDS.sav\n"
     ]
    }
   ],
   "source": [
    "import pandas as pd\n",
    "from sklearn import model_selection\n",
    "from sklearn.linear_model import LogisticRegression\n",
    "import pickle\n",
    "import os\n",
    "from sklearn.ensemble import RandomForestRegressor\n",
    "from sklearn.model_selection import train_test_split\n",
    "import numpy as np\n",
    "from sklearn.model_selection import GridSearchCV\n",
    "from sklearn.ensemble import RandomForestClassifier\n",
    "from sklearn.metrics import accuracy_score\n",
    "from statistics import mean \n",
    "import warnings\n",
    "files = os.listdir('MachineLearningtrends')\n",
    "files.pop(0)\n",
    "for x in files:\n",
    "    loaded_model = pickle.load(open('MachineLearningTrends/'+x[:-4]+'.sav', 'rb'))\n",
    "    df = pd.read_csv('Trends-GooglTrends2/'+x[:-4]+'.csv')\n",
    "    "
   ]
  },
  {
   "cell_type": "code",
   "execution_count": null,
   "id": "simplified-roommate",
   "metadata": {},
   "outputs": [],
   "source": []
  },
  {
   "cell_type": "code",
   "execution_count": null,
   "id": "wireless-casting",
   "metadata": {},
   "outputs": [],
   "source": []
  },
  {
   "cell_type": "code",
   "execution_count": null,
   "id": "matched-panama",
   "metadata": {},
   "outputs": [],
   "source": []
  },
  {
   "cell_type": "code",
   "execution_count": null,
   "id": "bottom-mapping",
   "metadata": {},
   "outputs": [],
   "source": []
  },
  {
   "cell_type": "code",
   "execution_count": null,
   "id": "yellow-tourist",
   "metadata": {},
   "outputs": [],
   "source": []
  },
  {
   "cell_type": "code",
   "execution_count": null,
   "id": "approved-reducing",
   "metadata": {},
   "outputs": [],
   "source": []
  },
  {
   "cell_type": "code",
   "execution_count": null,
   "id": "compressed-setup",
   "metadata": {},
   "outputs": [],
   "source": []
  },
  {
   "cell_type": "code",
   "execution_count": null,
   "id": "opened-tension",
   "metadata": {},
   "outputs": [],
   "source": []
  },
  {
   "cell_type": "code",
   "execution_count": null,
   "id": "seven-operator",
   "metadata": {},
   "outputs": [],
   "source": []
  },
  {
   "cell_type": "code",
   "execution_count": null,
   "id": "committed-hollywood",
   "metadata": {},
   "outputs": [],
   "source": []
  },
  {
   "cell_type": "code",
   "execution_count": null,
   "id": "endless-invitation",
   "metadata": {},
   "outputs": [],
   "source": []
  },
  {
   "cell_type": "code",
   "execution_count": null,
   "id": "published-kazakhstan",
   "metadata": {},
   "outputs": [],
   "source": []
  },
  {
   "cell_type": "code",
   "execution_count": null,
   "id": "strong-origin",
   "metadata": {},
   "outputs": [],
   "source": []
  },
  {
   "cell_type": "code",
   "execution_count": null,
   "id": "casual-father",
   "metadata": {},
   "outputs": [],
   "source": []
  },
  {
   "cell_type": "code",
   "execution_count": null,
   "id": "postal-illustration",
   "metadata": {},
   "outputs": [],
   "source": []
  },
  {
   "cell_type": "code",
   "execution_count": null,
   "id": "endless-canyon",
   "metadata": {},
   "outputs": [],
   "source": []
  },
  {
   "cell_type": "code",
   "execution_count": null,
   "id": "fifth-procedure",
   "metadata": {},
   "outputs": [],
   "source": []
  },
  {
   "cell_type": "code",
   "execution_count": null,
   "id": "innovative-compilation",
   "metadata": {},
   "outputs": [],
   "source": []
  },
  {
   "cell_type": "code",
   "execution_count": null,
   "id": "alike-cursor",
   "metadata": {},
   "outputs": [],
   "source": []
  },
  {
   "cell_type": "code",
   "execution_count": null,
   "id": "rational-hypothetical",
   "metadata": {},
   "outputs": [],
   "source": []
  },
  {
   "cell_type": "code",
   "execution_count": null,
   "id": "industrial-cricket",
   "metadata": {},
   "outputs": [],
   "source": []
  },
  {
   "cell_type": "code",
   "execution_count": null,
   "id": "short-special",
   "metadata": {},
   "outputs": [],
   "source": []
  },
  {
   "cell_type": "code",
   "execution_count": null,
   "id": "historic-matrix",
   "metadata": {},
   "outputs": [],
   "source": []
  },
  {
   "cell_type": "code",
   "execution_count": null,
   "id": "forbidden-riverside",
   "metadata": {},
   "outputs": [],
   "source": []
  },
  {
   "cell_type": "code",
   "execution_count": null,
   "id": "handmade-wound",
   "metadata": {},
   "outputs": [],
   "source": []
  },
  {
   "cell_type": "code",
   "execution_count": null,
   "id": "confirmed-publication",
   "metadata": {},
   "outputs": [],
   "source": []
  },
  {
   "cell_type": "code",
   "execution_count": null,
   "id": "resident-times",
   "metadata": {},
   "outputs": [],
   "source": []
  },
  {
   "cell_type": "code",
   "execution_count": null,
   "id": "light-parallel",
   "metadata": {},
   "outputs": [],
   "source": [
    "largest1 = max(prob_list)\n",
    "        #print(largest1)\n",
    "        #print(prob_list)\n",
    "        \n",
    "        tick_1 = prob_list.index(largest1)\n",
    "        prob_list.pop(tick_1)\n",
    "        \n",
    "        largest2 = max(prob_list)\n",
    "        tick_2 = prob_list.index(largest2)\n",
    "        prob_list.pop(tick_2)\n",
    "        \n",
    "        largest3 =max(prob_list)\n",
    "        tick_3 = prob_list.index(largest3)\n",
    "        prob_list.pop(tick_3)\n",
    "        \n",
    "        pa_1 = pd.read_csv('Trends-GooglTrends/'+ files[tick_1])\n",
    "        pa_2 = pd.read_csv('Trends-GooglTrends/'+ files[tick_2])\n",
    "        pa_3 = pd.read_csv('Trends-GooglTrends/'+ files[tick_3])\n",
    "        \n",
    "        date_1 = pa_1['Date'].to_list()\n",
    "        date_2 = pa_2['Date'].to_list()\n",
    "        date_3 = pa_3['Date'].to_list()\n",
    "        \n",
    "        ind_1 =  date_1.index(gg[x])\n",
    "        ind_2 = date_2.index(gg[x])\n",
    "        ind_3 =  date_3.index(gg[x])\n",
    "        \n",
    "        stock1 = buystock(ind_1,pa_1,files[tick_1])\n",
    "        stock2 = buystock(ind_2,pa_2,files[tick_2])\n",
    "        stock3 = buystock(ind_3,pa_3,files[tick_3])\n",
    "        \n",
    "        profit += stock1\n",
    "        profit += stock2\n",
    "        profit += stock3\n",
    "        print('CURRENT PROFIT: ',profit)\n",
    "        okk = stock1+stock2#+stock3\n",
    "        profity.append(profit)\n",
    "        print(gg[x],'-',okk)\n",
    "        xfg = pd.DataFrame(profity)\n",
    "        xfg.to_csv('Wykresik2')"
   ]
  },
  {
   "cell_type": "code",
   "execution_count": null,
   "id": "compliant-raise",
   "metadata": {},
   "outputs": [],
   "source": []
  },
  {
   "cell_type": "code",
   "execution_count": null,
   "id": "searching-confusion",
   "metadata": {},
   "outputs": [],
   "source": []
  },
  {
   "cell_type": "code",
   "execution_count": null,
   "id": "noticed-thanksgiving",
   "metadata": {},
   "outputs": [],
   "source": []
  },
  {
   "cell_type": "code",
   "execution_count": null,
   "id": "bridal-purpose",
   "metadata": {},
   "outputs": [],
   "source": []
  },
  {
   "cell_type": "code",
   "execution_count": null,
   "id": "alive-afghanistan",
   "metadata": {},
   "outputs": [],
   "source": []
  },
  {
   "cell_type": "code",
   "execution_count": null,
   "id": "indoor-dubai",
   "metadata": {},
   "outputs": [],
   "source": []
  },
  {
   "cell_type": "code",
   "execution_count": null,
   "id": "center-lodging",
   "metadata": {},
   "outputs": [],
   "source": []
  },
  {
   "cell_type": "code",
   "execution_count": null,
   "id": "gentle-password",
   "metadata": {},
   "outputs": [],
   "source": []
  },
  {
   "cell_type": "code",
   "execution_count": null,
   "id": "pressing-sphere",
   "metadata": {},
   "outputs": [],
   "source": []
  },
  {
   "cell_type": "code",
   "execution_count": 14,
   "id": "ordered-atlantic",
   "metadata": {},
   "outputs": [
    {
     "ename": "NameError",
     "evalue": "name 'df' is not defined",
     "output_type": "error",
     "traceback": [
      "\u001b[1;31m---------------------------------------------------------------------------\u001b[0m",
      "\u001b[1;31mNameError\u001b[0m                                 Traceback (most recent call last)",
      "\u001b[1;32m<ipython-input-14-c42a15b2c7cf>\u001b[0m in \u001b[0;36m<module>\u001b[1;34m\u001b[0m\n\u001b[1;32m----> 1\u001b[1;33m \u001b[0mdf\u001b[0m\u001b[1;33m.\u001b[0m\u001b[0mhead\u001b[0m\u001b[1;33m(\u001b[0m\u001b[1;33m)\u001b[0m\u001b[1;33m\u001b[0m\u001b[1;33m\u001b[0m\u001b[0m\n\u001b[0m",
      "\u001b[1;31mNameError\u001b[0m: name 'df' is not defined"
     ]
    }
   ],
   "source": [
    "df.head()"
   ]
  },
  {
   "cell_type": "code",
   "execution_count": null,
   "id": "million-blast",
   "metadata": {},
   "outputs": [],
   "source": []
  },
  {
   "cell_type": "code",
   "execution_count": null,
   "id": "quick-calcium",
   "metadata": {},
   "outputs": [],
   "source": []
  },
  {
   "cell_type": "code",
   "execution_count": null,
   "id": "impossible-rotation",
   "metadata": {},
   "outputs": [],
   "source": []
  },
  {
   "cell_type": "code",
   "execution_count": null,
   "id": "brief-lincoln",
   "metadata": {},
   "outputs": [],
   "source": []
  },
  {
   "cell_type": "code",
   "execution_count": null,
   "id": "affecting-blend",
   "metadata": {},
   "outputs": [],
   "source": []
  },
  {
   "cell_type": "code",
   "execution_count": null,
   "id": "surface-violation",
   "metadata": {},
   "outputs": [],
   "source": []
  },
  {
   "cell_type": "code",
   "execution_count": null,
   "id": "cardiac-given",
   "metadata": {},
   "outputs": [],
   "source": []
  },
  {
   "cell_type": "code",
   "execution_count": null,
   "id": "resistant-canberra",
   "metadata": {},
   "outputs": [],
   "source": []
  },
  {
   "cell_type": "code",
   "execution_count": null,
   "id": "legitimate-proxy",
   "metadata": {},
   "outputs": [],
   "source": []
  },
  {
   "cell_type": "code",
   "execution_count": null,
   "id": "historic-graphics",
   "metadata": {},
   "outputs": [],
   "source": []
  },
  {
   "cell_type": "code",
   "execution_count": 20,
   "id": "hindu-retreat",
   "metadata": {},
   "outputs": [
    {
     "name": "stdout",
     "output_type": "stream",
     "text": [
      "4338\n",
      "2000\n"
     ]
    }
   ],
   "source": [
    "df_3 = pd.read_csv('TrendsV3_L/ADBETRENDS.csv')\n",
    "print(len(df_3))\n",
    "g = df_3.iloc[:2000]\n",
    "print(len(g))"
   ]
  },
  {
   "cell_type": "code",
   "execution_count": null,
   "id": "perfect-mouth",
   "metadata": {},
   "outputs": [],
   "source": []
  },
  {
   "cell_type": "code",
   "execution_count": null,
   "id": "organized-thunder",
   "metadata": {},
   "outputs": [],
   "source": [
    "import matplotlib.pyplot as plt\n",
    "%matplotlib inline\n",
    "import pandas as pd\n",
    "df = pd.read_csv('Wykresik')\n",
    "df[0].plt()"
   ]
  },
  {
   "cell_type": "code",
   "execution_count": null,
   "id": "light-graduate",
   "metadata": {},
   "outputs": [],
   "source": []
  },
  {
   "cell_type": "code",
   "execution_count": null,
   "id": "unexpected-marking",
   "metadata": {},
   "outputs": [],
   "source": []
  },
  {
   "cell_type": "code",
   "execution_count": null,
   "id": "administrative-recognition",
   "metadata": {},
   "outputs": [],
   "source": []
  },
  {
   "cell_type": "code",
   "execution_count": null,
   "id": "sufficient-garage",
   "metadata": {},
   "outputs": [],
   "source": []
  },
  {
   "cell_type": "code",
   "execution_count": null,
   "id": "exciting-cooperative",
   "metadata": {},
   "outputs": [],
   "source": []
  },
  {
   "cell_type": "code",
   "execution_count": null,
   "id": "accepting-moisture",
   "metadata": {},
   "outputs": [],
   "source": []
  },
  {
   "cell_type": "code",
   "execution_count": null,
   "id": "professional-aggregate",
   "metadata": {},
   "outputs": [],
   "source": []
  },
  {
   "cell_type": "code",
   "execution_count": null,
   "id": "lovely-album",
   "metadata": {},
   "outputs": [],
   "source": []
  },
  {
   "cell_type": "code",
   "execution_count": null,
   "id": "innovative-couple",
   "metadata": {},
   "outputs": [],
   "source": [
    " "
   ]
  },
  {
   "cell_type": "code",
   "execution_count": null,
   "id": "frank-karen",
   "metadata": {},
   "outputs": [],
   "source": []
  },
  {
   "cell_type": "code",
   "execution_count": null,
   "id": "wound-nightmare",
   "metadata": {},
   "outputs": [],
   "source": []
  },
  {
   "cell_type": "code",
   "execution_count": null,
   "id": "intermediate-density",
   "metadata": {},
   "outputs": [],
   "source": []
  },
  {
   "cell_type": "code",
   "execution_count": null,
   "id": "pretty-significance",
   "metadata": {},
   "outputs": [],
   "source": []
  },
  {
   "cell_type": "code",
   "execution_count": null,
   "id": "acting-showcase",
   "metadata": {},
   "outputs": [],
   "source": []
  },
  {
   "cell_type": "code",
   "execution_count": null,
   "id": "narrative-sustainability",
   "metadata": {},
   "outputs": [],
   "source": [
    "for h in range(0,5):\n",
    "    print(h)\n"
   ]
  },
  {
   "cell_type": "code",
   "execution_count": null,
   "id": "extensive-samba",
   "metadata": {},
   "outputs": [],
   "source": []
  },
  {
   "cell_type": "code",
   "execution_count": null,
   "id": "fourth-reasoning",
   "metadata": {},
   "outputs": [],
   "source": []
  },
  {
   "cell_type": "code",
   "execution_count": null,
   "id": "listed-transparency",
   "metadata": {},
   "outputs": [],
   "source": []
  },
  {
   "cell_type": "code",
   "execution_count": null,
   "id": "reduced-auditor",
   "metadata": {},
   "outputs": [],
   "source": []
  },
  {
   "cell_type": "code",
   "execution_count": null,
   "id": "atlantic-exercise",
   "metadata": {},
   "outputs": [],
   "source": []
  },
  {
   "cell_type": "code",
   "execution_count": null,
   "id": "civil-destruction",
   "metadata": {},
   "outputs": [],
   "source": []
  },
  {
   "cell_type": "code",
   "execution_count": null,
   "id": "arranged-google",
   "metadata": {},
   "outputs": [],
   "source": []
  },
  {
   "cell_type": "code",
   "execution_count": null,
   "id": "attempted-binary",
   "metadata": {},
   "outputs": [],
   "source": []
  },
  {
   "cell_type": "code",
   "execution_count": null,
   "id": "quiet-simpson",
   "metadata": {},
   "outputs": [
    {
     "name": "stdout",
     "output_type": "stream",
     "text": [
      "['QCOMTRENDS.csv', 'PEPTRENDS.csv', 'PCARTRENDS.csv', 'PAYXTRENDS.csv', 'ORLYTRENDS.csv', 'NVDATRENDS.csv', 'NTESTRENDS.csv', 'NFLXTRENDS.csv', 'MXIMTRENDS.csv', 'MUTRENDS.csv', 'MSFTTRENDS.csv', 'MRVLTRENDS.csv', 'MDLZTRENDS.csv', 'MCHPTRENDS.csv', 'LRCXTRENDS.csv', 'KLACTRENDS.csv', 'ISRGTRENDS.csv', 'INTUTRENDS.csv', 'INTCTRENDS.csv', 'INCYTRENDS.csv', 'ILMNTRENDS.csv', 'IDXXTRENDS.csv', 'GILDTRENDS.csv', 'FISVTRENDS.csv', 'FASTTRENDS.csv', 'EXCTRENDS.csv', 'EBAYTRENDS.csv', 'EATRENDS.csv', 'DLTRTRENDS.csv', 'CTSHTRENDS.csv', 'CTASTRENDS.csv', 'CSXTRENDS.csv', 'CSCOTRENDS.csv', 'CPRTTRENDS.csv', 'COSTTRENDS.csv', 'CMCSATRENDS.csv', 'CHKPTRENDS.csv', 'CERNTRENDS.csv', 'CDNSTRENDS.csv', 'BKNGTRENDS.csv', 'ATVITRENDS.csv', 'ASMLTRENDS.csv', 'ANSSTRENDS.csv', 'AMZNTRENDS.csv', 'AMGNTRENDS.csv', 'AMDTRENDS.csv', 'AMATTRENDS.csv', 'ALXNTRENDS.csv', 'ALGNTRENDS.csv', 'AEPTRENDS.csv', 'ADSKTRENDS.csv', 'ADPTRENDS.csv', 'ADITRENDS.csv', 'ADBETRENDS.csv', 'AAPLTRENDS.csv']\n",
      "START:  QCOMTRENDS.csv\n",
      "4338\n",
      "DONE:  QCOMTRENDS.csv\n",
      "START:  PEPTRENDS.csv\n",
      "4338\n",
      "DONE:  PEPTRENDS.csv\n",
      "START:  PCARTRENDS.csv\n",
      "4338\n",
      "DONE:  PCARTRENDS.csv\n",
      "START:  PAYXTRENDS.csv\n",
      "4338\n",
      "DONE:  PAYXTRENDS.csv\n",
      "START:  ORLYTRENDS.csv\n",
      "4338\n",
      "DONE:  ORLYTRENDS.csv\n",
      "START:  NVDATRENDS.csv\n",
      "4338\n",
      "DONE:  NVDATRENDS.csv\n",
      "START:  NTESTRENDS.csv\n",
      "4338\n",
      "DONE:  NTESTRENDS.csv\n",
      "START:  NFLXTRENDS.csv\n",
      "4338\n",
      "DONE:  NFLXTRENDS.csv\n",
      "START:  MXIMTRENDS.csv\n",
      "4338\n",
      "DONE:  MXIMTRENDS.csv\n",
      "START:  MUTRENDS.csv\n",
      "4338\n",
      "DONE:  MUTRENDS.csv\n",
      "START:  MSFTTRENDS.csv\n",
      "4338\n",
      "DONE:  MSFTTRENDS.csv\n",
      "START:  MRVLTRENDS.csv\n",
      "4338\n",
      "DONE:  MRVLTRENDS.csv\n",
      "START:  MDLZTRENDS.csv\n",
      "4338\n"
     ]
    }
   ],
   "source": [
    "import pandas as pd\n",
    "import os\n",
    "gg = []\n",
    "def makeSet(file):\n",
    "    ticker = pd.read_csv('TrendsV3_L/'+file)\n",
    "    print(len(ticker))\n",
    "    for x in range(len(ticker)):\n",
    "        if x != len(ticker)-32:\n",
    "            first_m= ticker['Close'][x]\n",
    "            second_m = ticker['Close'][x+5]\n",
    "            change = (first_m/second_m)*100\n",
    "            if change > 100:\n",
    "                change_m = change-100\n",
    "            else:\n",
    "                change_m = change-100\n",
    "            ticker['change'][x]= change_m\n",
    "            ticker.to_csv('TrendsV3_L/'+file)\n",
    "        else:\n",
    "            break\n",
    "#df_6 = pd.read_csv('nasdaq-100.csv')\n",
    "#spolki = df_6['Symbol'].to_list()\n",
    "spolki = os.listdir('TrendsV3_L')\n",
    "spolki.pop(0)\n",
    "spolki.reverse()\n",
    "for f in range(0,11):\n",
    "    spolki.pop(0)\n",
    "print(spolki)\n",
    "\n",
    "for x in spolki:\n",
    "    print('START: ',x)\n",
    "    makeSet(x)\n",
    "    print('DONE: ',x)"
   ]
  },
  {
   "cell_type": "code",
   "execution_count": null,
   "id": "competitive-cheat",
   "metadata": {},
   "outputs": [],
   "source": []
  },
  {
   "cell_type": "code",
   "execution_count": null,
   "id": "loaded-laptop",
   "metadata": {},
   "outputs": [],
   "source": []
  },
  {
   "cell_type": "code",
   "execution_count": null,
   "id": "computational-peripheral",
   "metadata": {},
   "outputs": [],
   "source": []
  },
  {
   "cell_type": "code",
   "execution_count": null,
   "id": "smoking-newsletter",
   "metadata": {},
   "outputs": [],
   "source": []
  },
  {
   "cell_type": "code",
   "execution_count": null,
   "id": "selected-sleeping",
   "metadata": {},
   "outputs": [],
   "source": []
  },
  {
   "cell_type": "code",
   "execution_count": 72,
   "id": "accepting-miracle",
   "metadata": {},
   "outputs": [
    {
     "data": {
      "text/html": [
       "<div>\n",
       "<style scoped>\n",
       "    .dataframe tbody tr th:only-of-type {\n",
       "        vertical-align: middle;\n",
       "    }\n",
       "\n",
       "    .dataframe tbody tr th {\n",
       "        vertical-align: top;\n",
       "    }\n",
       "\n",
       "    .dataframe thead th {\n",
       "        text-align: right;\n",
       "    }\n",
       "</style>\n",
       "<table border=\"1\" class=\"dataframe\">\n",
       "  <thead>\n",
       "    <tr style=\"text-align: right;\">\n",
       "      <th></th>\n",
       "      <th>Unnamed: 0</th>\n",
       "      <th>Unnamed: 0.1</th>\n",
       "      <th>Unnamed: 0.1.1</th>\n",
       "      <th>Unnamed: 0.1.1.1</th>\n",
       "      <th>Unnamed: 0.1.1.1.1</th>\n",
       "      <th>Date</th>\n",
       "      <th>Open</th>\n",
       "      <th>High</th>\n",
       "      <th>Low</th>\n",
       "      <th>Close</th>\n",
       "      <th>Adjusted_close</th>\n",
       "      <th>Volume</th>\n",
       "      <th>rsi</th>\n",
       "      <th>ema</th>\n",
       "      <th>change</th>\n",
       "    </tr>\n",
       "  </thead>\n",
       "  <tbody>\n",
       "    <tr>\n",
       "      <th>0</th>\n",
       "      <td>0</td>\n",
       "      <td>0</td>\n",
       "      <td>0</td>\n",
       "      <td>0</td>\n",
       "      <td>8907</td>\n",
       "      <td>2016-04-11</td>\n",
       "      <td>108.97</td>\n",
       "      <td>110.61</td>\n",
       "      <td>108.83</td>\n",
       "      <td>109.02</td>\n",
       "      <td>9.0</td>\n",
       "      <td>29407518.0</td>\n",
       "      <td>NaN</td>\n",
       "      <td>NaN</td>\n",
       "      <td>1.432825</td>\n",
       "    </tr>\n",
       "    <tr>\n",
       "      <th>1</th>\n",
       "      <td>1</td>\n",
       "      <td>1</td>\n",
       "      <td>1</td>\n",
       "      <td>1</td>\n",
       "      <td>8908</td>\n",
       "      <td>2016-04-12</td>\n",
       "      <td>109.34</td>\n",
       "      <td>110.50</td>\n",
       "      <td>108.66</td>\n",
       "      <td>110.44</td>\n",
       "      <td>9.0</td>\n",
       "      <td>27232325.0</td>\n",
       "      <td>NaN</td>\n",
       "      <td>NaN</td>\n",
       "      <td>3.301843</td>\n",
       "    </tr>\n",
       "    <tr>\n",
       "      <th>2</th>\n",
       "      <td>2</td>\n",
       "      <td>2</td>\n",
       "      <td>2</td>\n",
       "      <td>2</td>\n",
       "      <td>8909</td>\n",
       "      <td>2016-04-13</td>\n",
       "      <td>110.80</td>\n",
       "      <td>112.34</td>\n",
       "      <td>110.80</td>\n",
       "      <td>112.04</td>\n",
       "      <td>9.0</td>\n",
       "      <td>33257316.0</td>\n",
       "      <td>NaN</td>\n",
       "      <td>NaN</td>\n",
       "      <td>4.583217</td>\n",
       "    </tr>\n",
       "    <tr>\n",
       "      <th>3</th>\n",
       "      <td>3</td>\n",
       "      <td>3</td>\n",
       "      <td>3</td>\n",
       "      <td>3</td>\n",
       "      <td>8910</td>\n",
       "      <td>2016-04-14</td>\n",
       "      <td>111.62</td>\n",
       "      <td>112.39</td>\n",
       "      <td>111.33</td>\n",
       "      <td>112.10</td>\n",
       "      <td>9.0</td>\n",
       "      <td>25473923.0</td>\n",
       "      <td>NaN</td>\n",
       "      <td>NaN</td>\n",
       "      <td>5.784656</td>\n",
       "    </tr>\n",
       "    <tr>\n",
       "      <th>4</th>\n",
       "      <td>4</td>\n",
       "      <td>4</td>\n",
       "      <td>4</td>\n",
       "      <td>4</td>\n",
       "      <td>8911</td>\n",
       "      <td>2016-04-15</td>\n",
       "      <td>112.11</td>\n",
       "      <td>112.30</td>\n",
       "      <td>109.73</td>\n",
       "      <td>109.85</td>\n",
       "      <td>9.0</td>\n",
       "      <td>46938969.0</td>\n",
       "      <td>NaN</td>\n",
       "      <td>NaN</td>\n",
       "      <td>3.945874</td>\n",
       "    </tr>\n",
       "  </tbody>\n",
       "</table>\n",
       "</div>"
      ],
      "text/plain": [
       "   Unnamed: 0  Unnamed: 0.1  Unnamed: 0.1.1  Unnamed: 0.1.1.1  \\\n",
       "0           0             0               0                 0   \n",
       "1           1             1               1                 1   \n",
       "2           2             2               2                 2   \n",
       "3           3             3               3                 3   \n",
       "4           4             4               4                 4   \n",
       "\n",
       "   Unnamed: 0.1.1.1.1        Date    Open    High     Low   Close  \\\n",
       "0                8907  2016-04-11  108.97  110.61  108.83  109.02   \n",
       "1                8908  2016-04-12  109.34  110.50  108.66  110.44   \n",
       "2                8909  2016-04-13  110.80  112.34  110.80  112.04   \n",
       "3                8910  2016-04-14  111.62  112.39  111.33  112.10   \n",
       "4                8911  2016-04-15  112.11  112.30  109.73  109.85   \n",
       "\n",
       "   Adjusted_close      Volume  rsi  ema    change  \n",
       "0             9.0  29407518.0  NaN  NaN  1.432825  \n",
       "1             9.0  27232325.0  NaN  NaN  3.301843  \n",
       "2             9.0  33257316.0  NaN  NaN  4.583217  \n",
       "3             9.0  25473923.0  NaN  NaN  5.784656  \n",
       "4             9.0  46938969.0  NaN  NaN  3.945874  "
      ]
     },
     "execution_count": 72,
     "metadata": {},
     "output_type": "execute_result"
    }
   ],
   "source": [
    "gg = pd.read_csv('TrendsV4_2/AAPLTRENDS')\n",
    "gg.head()"
   ]
  },
  {
   "cell_type": "code",
   "execution_count": null,
   "id": "genuine-mortality",
   "metadata": {},
   "outputs": [],
   "source": []
  },
  {
   "cell_type": "code",
   "execution_count": null,
   "id": "removed-memorial",
   "metadata": {},
   "outputs": [],
   "source": [
    "2019-11-04 - 2.2480656000000008\n",
    "2019-11-11 - 114.2944175999997\n",
    "2019-11-18 - 26.83434120000001\n",
    "2019-11-25 - -10.011431199999995\n",
    "2019-12-03 - 11.073623600000033\n",
    "2019-12-10 - 31.624542400000003\n",
    "2019-12-17 - 25.131394799999985\n",
    "2019-12-24 - 5.507402399999977\n",
    "2020-01-02 - 1.7552528000000092\n",
    "2020-01-09 - 174.07926560000064\n",
    "2020-01-16 - 9.009807199999988\n",
    "2020-01-24 - 191.57458960000002\n",
    "2020-01-31 - 260.06366040000006"
   ]
  },
  {
   "cell_type": "code",
   "execution_count": null,
   "id": "coral-formula",
   "metadata": {},
   "outputs": [],
   "source": []
  },
  {
   "cell_type": "code",
   "execution_count": null,
   "id": "secondary-september",
   "metadata": {},
   "outputs": [],
   "source": []
  },
  {
   "cell_type": "code",
   "execution_count": null,
   "id": "possible-companion",
   "metadata": {},
   "outputs": [],
   "source": []
  },
  {
   "cell_type": "code",
   "execution_count": null,
   "id": "accessible-quebec",
   "metadata": {},
   "outputs": [],
   "source": []
  },
  {
   "cell_type": "code",
   "execution_count": null,
   "id": "funded-technology",
   "metadata": {},
   "outputs": [],
   "source": []
  },
  {
   "cell_type": "code",
   "execution_count": null,
   "id": "experimental-ladder",
   "metadata": {},
   "outputs": [],
   "source": []
  },
  {
   "cell_type": "code",
   "execution_count": null,
   "id": "bottom-shame",
   "metadata": {},
   "outputs": [],
   "source": []
  },
  {
   "cell_type": "code",
   "execution_count": null,
   "id": "organized-completion",
   "metadata": {},
   "outputs": [],
   "source": []
  },
  {
   "cell_type": "code",
   "execution_count": null,
   "id": "danish-vaccine",
   "metadata": {},
   "outputs": [],
   "source": []
  },
  {
   "cell_type": "code",
   "execution_count": null,
   "id": "connected-zambia",
   "metadata": {},
   "outputs": [],
   "source": []
  },
  {
   "cell_type": "code",
   "execution_count": null,
   "id": "republican-outdoors",
   "metadata": {},
   "outputs": [],
   "source": []
  },
  {
   "cell_type": "code",
   "execution_count": null,
   "id": "ready-escape",
   "metadata": {},
   "outputs": [],
   "source": []
  },
  {
   "cell_type": "code",
   "execution_count": null,
   "id": "hispanic-sword",
   "metadata": {},
   "outputs": [],
   "source": []
  },
  {
   "cell_type": "code",
   "execution_count": null,
   "id": "detected-smooth",
   "metadata": {},
   "outputs": [],
   "source": []
  },
  {
   "cell_type": "code",
   "execution_count": null,
   "id": "exterior-palmer",
   "metadata": {},
   "outputs": [],
   "source": []
  },
  {
   "cell_type": "code",
   "execution_count": null,
   "id": "wired-sociology",
   "metadata": {},
   "outputs": [],
   "source": []
  },
  {
   "cell_type": "code",
   "execution_count": null,
   "id": "faced-portal",
   "metadata": {},
   "outputs": [],
   "source": []
  },
  {
   "cell_type": "code",
   "execution_count": null,
   "id": "insured-nancy",
   "metadata": {},
   "outputs": [],
   "source": []
  },
  {
   "cell_type": "code",
   "execution_count": null,
   "id": "executive-rainbow",
   "metadata": {},
   "outputs": [],
   "source": []
  },
  {
   "cell_type": "code",
   "execution_count": null,
   "id": "fantastic-laser",
   "metadata": {},
   "outputs": [],
   "source": []
  },
  {
   "cell_type": "code",
   "execution_count": null,
   "id": "minute-african",
   "metadata": {},
   "outputs": [],
   "source": []
  },
  {
   "cell_type": "code",
   "execution_count": null,
   "id": "strategic-pasta",
   "metadata": {},
   "outputs": [],
   "source": []
  },
  {
   "cell_type": "code",
   "execution_count": null,
   "id": "whole-technical",
   "metadata": {},
   "outputs": [],
   "source": []
  },
  {
   "cell_type": "code",
   "execution_count": null,
   "id": "inappropriate-footage",
   "metadata": {},
   "outputs": [],
   "source": []
  },
  {
   "cell_type": "code",
   "execution_count": null,
   "id": "ambient-amazon",
   "metadata": {},
   "outputs": [],
   "source": []
  },
  {
   "cell_type": "code",
   "execution_count": null,
   "id": "described-slovak",
   "metadata": {},
   "outputs": [],
   "source": []
  },
  {
   "cell_type": "code",
   "execution_count": null,
   "id": "noticed-disease",
   "metadata": {},
   "outputs": [],
   "source": []
  },
  {
   "cell_type": "code",
   "execution_count": null,
   "id": "earlier-eugene",
   "metadata": {},
   "outputs": [],
   "source": []
  },
  {
   "cell_type": "code",
   "execution_count": null,
   "id": "liberal-anaheim",
   "metadata": {},
   "outputs": [],
   "source": []
  },
  {
   "cell_type": "code",
   "execution_count": null,
   "id": "continuous-freeware",
   "metadata": {},
   "outputs": [],
   "source": []
  },
  {
   "cell_type": "code",
   "execution_count": null,
   "id": "cognitive-least",
   "metadata": {},
   "outputs": [],
   "source": []
  },
  {
   "cell_type": "code",
   "execution_count": null,
   "id": "front-puppy",
   "metadata": {},
   "outputs": [],
   "source": []
  },
  {
   "cell_type": "code",
   "execution_count": null,
   "id": "civilian-university",
   "metadata": {},
   "outputs": [],
   "source": []
  },
  {
   "cell_type": "code",
   "execution_count": null,
   "id": "voluntary-variation",
   "metadata": {},
   "outputs": [],
   "source": []
  },
  {
   "cell_type": "code",
   "execution_count": null,
   "id": "growing-benefit",
   "metadata": {},
   "outputs": [],
   "source": []
  },
  {
   "cell_type": "code",
   "execution_count": null,
   "id": "considerable-princeton",
   "metadata": {},
   "outputs": [],
   "source": []
  },
  {
   "cell_type": "code",
   "execution_count": null,
   "id": "fiscal-demographic",
   "metadata": {},
   "outputs": [],
   "source": []
  },
  {
   "cell_type": "code",
   "execution_count": null,
   "id": "norwegian-people",
   "metadata": {},
   "outputs": [],
   "source": []
  },
  {
   "cell_type": "code",
   "execution_count": null,
   "id": "ancient-format",
   "metadata": {},
   "outputs": [],
   "source": []
  },
  {
   "cell_type": "code",
   "execution_count": null,
   "id": "irish-bracket",
   "metadata": {},
   "outputs": [],
   "source": []
  },
  {
   "cell_type": "code",
   "execution_count": null,
   "id": "quality-norman",
   "metadata": {},
   "outputs": [],
   "source": []
  },
  {
   "cell_type": "code",
   "execution_count": null,
   "id": "going-jacksonville",
   "metadata": {},
   "outputs": [],
   "source": []
  },
  {
   "cell_type": "code",
   "execution_count": null,
   "id": "korean-worship",
   "metadata": {},
   "outputs": [],
   "source": []
  },
  {
   "cell_type": "code",
   "execution_count": null,
   "id": "arranged-leader",
   "metadata": {},
   "outputs": [],
   "source": []
  },
  {
   "cell_type": "code",
   "execution_count": null,
   "id": "qualified-repeat",
   "metadata": {},
   "outputs": [],
   "source": []
  },
  {
   "cell_type": "code",
   "execution_count": null,
   "id": "separated-population",
   "metadata": {},
   "outputs": [],
   "source": []
  },
  {
   "cell_type": "code",
   "execution_count": null,
   "id": "deadly-pioneer",
   "metadata": {},
   "outputs": [],
   "source": []
  },
  {
   "cell_type": "code",
   "execution_count": null,
   "id": "curious-score",
   "metadata": {},
   "outputs": [],
   "source": []
  },
  {
   "cell_type": "code",
   "execution_count": null,
   "id": "important-hostel",
   "metadata": {},
   "outputs": [],
   "source": [
    "ass = min(pred_pob_list)\n",
    "ssa = pred_pob_list.index(ass)\n",
    "print()\n",
    "print(files[ssa])\n",
    "pred_pob_list.pop(ssa)\n",
    "asss = min(pred_pob_list)\n",
    "ssaa = pred_pob_list.index(asss)\n",
    "print(files[ssaa])\n",
    "ass = min(pred_pob_list)\n",
    "ssa = pred_pob_list.index(ass)\n",
    "print(files[ssa])\n",
    "pred_pob_list.pop(ssa)\n",
    "ass = min(pred_pob_list)\n",
    "ssa = pred_pob_list.index(ass)\n",
    "print(files[ssa])\n",
    "pred_pob_list.pop(ssa)\n",
    "ass = min(pred_pob_list)\n",
    "ssa = pred_pob_list.index(ass)\n",
    "print(files[ssa])\n",
    "pred_pob_list.pop(ssa)"
   ]
  },
  {
   "cell_type": "code",
   "execution_count": null,
   "id": "lyric-province",
   "metadata": {},
   "outputs": [],
   "source": []
  },
  {
   "cell_type": "code",
   "execution_count": null,
   "id": "weighted-number",
   "metadata": {},
   "outputs": [],
   "source": []
  },
  {
   "cell_type": "code",
   "execution_count": null,
   "id": "brown-captain",
   "metadata": {},
   "outputs": [],
   "source": []
  },
  {
   "cell_type": "code",
   "execution_count": null,
   "id": "appointed-words",
   "metadata": {},
   "outputs": [],
   "source": []
  },
  {
   "cell_type": "code",
   "execution_count": null,
   "id": "concrete-cooking",
   "metadata": {},
   "outputs": [],
   "source": []
  },
  {
   "cell_type": "code",
   "execution_count": null,
   "id": "extraordinary-finland",
   "metadata": {},
   "outputs": [],
   "source": []
  },
  {
   "cell_type": "code",
   "execution_count": null,
   "id": "collaborative-amateur",
   "metadata": {},
   "outputs": [],
   "source": []
  },
  {
   "cell_type": "code",
   "execution_count": null,
   "id": "gentle-abuse",
   "metadata": {},
   "outputs": [],
   "source": []
  },
  {
   "cell_type": "code",
   "execution_count": null,
   "id": "further-helena",
   "metadata": {},
   "outputs": [],
   "source": []
  },
  {
   "cell_type": "code",
   "execution_count": null,
   "id": "renewable-minority",
   "metadata": {},
   "outputs": [],
   "source": []
  },
  {
   "cell_type": "code",
   "execution_count": null,
   "id": "christian-princeton",
   "metadata": {},
   "outputs": [],
   "source": []
  },
  {
   "cell_type": "code",
   "execution_count": null,
   "id": "particular-fluid",
   "metadata": {},
   "outputs": [],
   "source": []
  },
  {
   "cell_type": "code",
   "execution_count": null,
   "id": "chicken-evolution",
   "metadata": {},
   "outputs": [],
   "source": []
  },
  {
   "cell_type": "code",
   "execution_count": null,
   "id": "controlling-ferry",
   "metadata": {},
   "outputs": [],
   "source": []
  },
  {
   "cell_type": "code",
   "execution_count": null,
   "id": "pleasant-november",
   "metadata": {},
   "outputs": [],
   "source": []
  },
  {
   "cell_type": "code",
   "execution_count": null,
   "id": "ordered-income",
   "metadata": {},
   "outputs": [],
   "source": []
  },
  {
   "cell_type": "code",
   "execution_count": null,
   "id": "nervous-employment",
   "metadata": {},
   "outputs": [],
   "source": []
  },
  {
   "cell_type": "code",
   "execution_count": null,
   "id": "flexible-stretch",
   "metadata": {},
   "outputs": [],
   "source": [
    " "
   ]
  },
  {
   "cell_type": "code",
   "execution_count": null,
   "id": "suburban-remainder",
   "metadata": {},
   "outputs": [],
   "source": []
  },
  {
   "cell_type": "code",
   "execution_count": null,
   "id": "immune-municipality",
   "metadata": {},
   "outputs": [],
   "source": []
  },
  {
   "cell_type": "code",
   "execution_count": null,
   "id": "affecting-novelty",
   "metadata": {},
   "outputs": [],
   "source": []
  },
  {
   "cell_type": "code",
   "execution_count": null,
   "id": "flush-actor",
   "metadata": {},
   "outputs": [],
   "source": []
  },
  {
   "cell_type": "code",
   "execution_count": null,
   "id": "vital-oracle",
   "metadata": {},
   "outputs": [],
   "source": []
  },
  {
   "cell_type": "code",
   "execution_count": null,
   "id": "honest-welding",
   "metadata": {},
   "outputs": [],
   "source": []
  },
  {
   "cell_type": "code",
   "execution_count": null,
   "id": "catholic-marshall",
   "metadata": {},
   "outputs": [],
   "source": []
  },
  {
   "cell_type": "code",
   "execution_count": null,
   "id": "speaking-ivory",
   "metadata": {},
   "outputs": [],
   "source": []
  },
  {
   "cell_type": "code",
   "execution_count": null,
   "id": "wooden-partner",
   "metadata": {},
   "outputs": [],
   "source": []
  },
  {
   "cell_type": "code",
   "execution_count": null,
   "id": "compound-individual",
   "metadata": {},
   "outputs": [],
   "source": []
  },
  {
   "cell_type": "code",
   "execution_count": null,
   "id": "steady-dealer",
   "metadata": {},
   "outputs": [],
   "source": []
  },
  {
   "cell_type": "code",
   "execution_count": null,
   "id": "adult-expert",
   "metadata": {},
   "outputs": [],
   "source": []
  },
  {
   "cell_type": "code",
   "execution_count": null,
   "id": "classified-dakota",
   "metadata": {},
   "outputs": [],
   "source": []
  },
  {
   "cell_type": "code",
   "execution_count": null,
   "id": "persistent-sherman",
   "metadata": {},
   "outputs": [],
   "source": []
  },
  {
   "cell_type": "code",
   "execution_count": null,
   "id": "smoking-concrete",
   "metadata": {},
   "outputs": [],
   "source": []
  },
  {
   "cell_type": "code",
   "execution_count": null,
   "id": "selected-raising",
   "metadata": {},
   "outputs": [],
   "source": []
  },
  {
   "cell_type": "code",
   "execution_count": null,
   "id": "announced-trauma",
   "metadata": {},
   "outputs": [],
   "source": []
  },
  {
   "cell_type": "code",
   "execution_count": null,
   "id": "traditional-atlas",
   "metadata": {},
   "outputs": [],
   "source": []
  },
  {
   "cell_type": "code",
   "execution_count": null,
   "id": "loaded-heater",
   "metadata": {},
   "outputs": [],
   "source": []
  },
  {
   "cell_type": "code",
   "execution_count": null,
   "id": "under-malpractice",
   "metadata": {},
   "outputs": [],
   "source": []
  },
  {
   "cell_type": "code",
   "execution_count": null,
   "id": "filled-iraqi",
   "metadata": {},
   "outputs": [],
   "source": []
  },
  {
   "cell_type": "code",
   "execution_count": null,
   "id": "adverse-copyright",
   "metadata": {},
   "outputs": [],
   "source": []
  },
  {
   "cell_type": "code",
   "execution_count": null,
   "id": "tight-romance",
   "metadata": {},
   "outputs": [],
   "source": []
  },
  {
   "cell_type": "code",
   "execution_count": null,
   "id": "developmental-blackjack",
   "metadata": {},
   "outputs": [],
   "source": []
  },
  {
   "cell_type": "code",
   "execution_count": null,
   "id": "appointed-baghdad",
   "metadata": {},
   "outputs": [],
   "source": []
  },
  {
   "cell_type": "code",
   "execution_count": null,
   "id": "attached-identifier",
   "metadata": {},
   "outputs": [],
   "source": []
  },
  {
   "cell_type": "code",
   "execution_count": null,
   "id": "distributed-rental",
   "metadata": {},
   "outputs": [],
   "source": []
  },
  {
   "cell_type": "code",
   "execution_count": null,
   "id": "indie-vulnerability",
   "metadata": {},
   "outputs": [],
   "source": []
  },
  {
   "cell_type": "code",
   "execution_count": null,
   "id": "declared-warrant",
   "metadata": {},
   "outputs": [],
   "source": []
  },
  {
   "cell_type": "code",
   "execution_count": null,
   "id": "worthy-maple",
   "metadata": {},
   "outputs": [],
   "source": []
  },
  {
   "cell_type": "code",
   "execution_count": null,
   "id": "certified-drunk",
   "metadata": {},
   "outputs": [],
   "source": []
  },
  {
   "cell_type": "code",
   "execution_count": null,
   "id": "radical-intent",
   "metadata": {},
   "outputs": [],
   "source": []
  },
  {
   "cell_type": "code",
   "execution_count": null,
   "id": "sustained-croatia",
   "metadata": {},
   "outputs": [],
   "source": []
  },
  {
   "cell_type": "code",
   "execution_count": null,
   "id": "graphic-teach",
   "metadata": {},
   "outputs": [],
   "source": []
  },
  {
   "cell_type": "code",
   "execution_count": null,
   "id": "changing-spelling",
   "metadata": {},
   "outputs": [],
   "source": []
  },
  {
   "cell_type": "code",
   "execution_count": null,
   "id": "likely-processor",
   "metadata": {},
   "outputs": [],
   "source": []
  },
  {
   "cell_type": "code",
   "execution_count": null,
   "id": "sacred-centre",
   "metadata": {},
   "outputs": [],
   "source": []
  },
  {
   "cell_type": "code",
   "execution_count": null,
   "id": "antique-efficiency",
   "metadata": {},
   "outputs": [],
   "source": []
  },
  {
   "cell_type": "code",
   "execution_count": null,
   "id": "tough-picnic",
   "metadata": {},
   "outputs": [],
   "source": []
  },
  {
   "cell_type": "code",
   "execution_count": null,
   "id": "beautiful-clause",
   "metadata": {},
   "outputs": [],
   "source": []
  },
  {
   "cell_type": "code",
   "execution_count": null,
   "id": "commercial-corner",
   "metadata": {},
   "outputs": [],
   "source": []
  },
  {
   "cell_type": "code",
   "execution_count": null,
   "id": "varied-grant",
   "metadata": {},
   "outputs": [],
   "source": []
  },
  {
   "cell_type": "code",
   "execution_count": null,
   "id": "fabulous-argument",
   "metadata": {},
   "outputs": [],
   "source": []
  },
  {
   "cell_type": "code",
   "execution_count": null,
   "id": "close-rates",
   "metadata": {},
   "outputs": [],
   "source": []
  },
  {
   "cell_type": "code",
   "execution_count": null,
   "id": "injured-mileage",
   "metadata": {},
   "outputs": [],
   "source": []
  },
  {
   "cell_type": "code",
   "execution_count": null,
   "id": "capital-activation",
   "metadata": {},
   "outputs": [],
   "source": []
  },
  {
   "cell_type": "code",
   "execution_count": 25,
   "id": "moved-darwin",
   "metadata": {},
   "outputs": [
    {
     "name": "stdout",
     "output_type": "stream",
     "text": [
      "FASTTRENDS\n",
      "4.776997962417923\n",
      "RIGHT\n",
      "AVGOTRENDS\n",
      "3.0591311796929688\n",
      "RIGHT\n",
      "INTUTRENDS\n",
      "3.0956872957245167\n",
      "RIGHT\n",
      "MCHPTRENDS\n",
      "5.4464986794203725\n",
      "RIGHT\n",
      "CTSHTRENDS\n",
      "1.3535911602209865\n",
      "RIGHT\n",
      "MTCHTRENDS\n",
      "5.610469163302241\n",
      "RIGHT\n",
      "MRVLTRENDS\n",
      "16.109725685785552\n",
      "RIGHT\n",
      "AMGNTRENDS\n",
      "2.528051912937684\n",
      "RIGHT\n",
      "NFLXTRENDS\n",
      "6.925619511431877\n",
      "RIGHT\n",
      "AMZNTRENDS\n",
      "2.6729782113274183\n",
      "RIGHT\n",
      "5157.875076226154\n",
      "0\n"
     ]
    }
   ],
   "source": [
    "nott = 0\n",
    "profit = 0\n",
    "for x in range(10):\n",
    "    ass = min(pred_pob_list)\n",
    "    ssa = pred_pob_list.index(ass)\n",
    "    print(files[ssa])\n",
    "    df = pd.read_csv('TrendsV4_2/'+files[ssa])\n",
    "    fd = pd.read_csv('TrendsV5/'+files[ssa])\n",
    "    dif = len(df) - len(fd)\n",
    "    dates = df['Date'].to_list()\n",
    "    g = dates.index('2021-02-25')\n",
    "    print(fd['change'][g-dif])\n",
    "    profit = profit + (fd['change'][g-dif] *100)\n",
    "    if fd['change'][g-dif] > 0:\n",
    "        print('RIGHT')\n",
    "    else:\n",
    "        print('NOT CORRECT')\n",
    "        nott+=1\n",
    "    pred_pob_list.pop(ssa)\n",
    "print(profit)\n",
    "print(nott)"
   ]
  },
  {
   "cell_type": "code",
   "execution_count": null,
   "id": "optional-devices",
   "metadata": {},
   "outputs": [],
   "source": []
  },
  {
   "cell_type": "code",
   "execution_count": null,
   "id": "proprietary-committee",
   "metadata": {},
   "outputs": [],
   "source": []
  },
  {
   "cell_type": "code",
   "execution_count": null,
   "id": "seven-bloom",
   "metadata": {},
   "outputs": [],
   "source": []
  },
  {
   "cell_type": "code",
   "execution_count": null,
   "id": "naughty-hazard",
   "metadata": {},
   "outputs": [],
   "source": []
  },
  {
   "cell_type": "code",
   "execution_count": null,
   "id": "registered-poultry",
   "metadata": {},
   "outputs": [],
   "source": []
  },
  {
   "cell_type": "code",
   "execution_count": null,
   "id": "ethical-statistics",
   "metadata": {},
   "outputs": [],
   "source": []
  },
  {
   "cell_type": "code",
   "execution_count": null,
   "id": "ranging-concept",
   "metadata": {},
   "outputs": [],
   "source": []
  },
  {
   "cell_type": "code",
   "execution_count": null,
   "id": "preliminary-adapter",
   "metadata": {},
   "outputs": [],
   "source": []
  },
  {
   "cell_type": "code",
   "execution_count": null,
   "id": "environmental-message",
   "metadata": {},
   "outputs": [],
   "source": []
  },
  {
   "cell_type": "code",
   "execution_count": null,
   "id": "north-shadow",
   "metadata": {},
   "outputs": [],
   "source": []
  },
  {
   "cell_type": "code",
   "execution_count": null,
   "id": "extreme-playlist",
   "metadata": {},
   "outputs": [],
   "source": []
  },
  {
   "cell_type": "code",
   "execution_count": null,
   "id": "cellular-blade",
   "metadata": {},
   "outputs": [],
   "source": []
  },
  {
   "cell_type": "code",
   "execution_count": null,
   "id": "three-sheffield",
   "metadata": {},
   "outputs": [],
   "source": []
  },
  {
   "cell_type": "code",
   "execution_count": null,
   "id": "social-clock",
   "metadata": {},
   "outputs": [],
   "source": []
  },
  {
   "cell_type": "code",
   "execution_count": null,
   "id": "agricultural-recycling",
   "metadata": {},
   "outputs": [],
   "source": []
  },
  {
   "cell_type": "code",
   "execution_count": null,
   "id": "spanish-catalyst",
   "metadata": {},
   "outputs": [],
   "source": []
  },
  {
   "cell_type": "code",
   "execution_count": null,
   "id": "prompt-experiment",
   "metadata": {},
   "outputs": [],
   "source": []
  },
  {
   "cell_type": "code",
   "execution_count": null,
   "id": "further-steam",
   "metadata": {},
   "outputs": [],
   "source": []
  },
  {
   "cell_type": "code",
   "execution_count": null,
   "id": "primary-chancellor",
   "metadata": {},
   "outputs": [],
   "source": []
  },
  {
   "cell_type": "code",
   "execution_count": null,
   "id": "severe-strengthening",
   "metadata": {},
   "outputs": [],
   "source": []
  },
  {
   "cell_type": "code",
   "execution_count": null,
   "id": "dried-netherlands",
   "metadata": {},
   "outputs": [],
   "source": []
  },
  {
   "cell_type": "code",
   "execution_count": null,
   "id": "hollow-controversy",
   "metadata": {},
   "outputs": [],
   "source": []
  },
  {
   "cell_type": "code",
   "execution_count": null,
   "id": "excess-venture",
   "metadata": {},
   "outputs": [],
   "source": []
  },
  {
   "cell_type": "code",
   "execution_count": null,
   "id": "prescribed-poverty",
   "metadata": {},
   "outputs": [],
   "source": []
  },
  {
   "cell_type": "code",
   "execution_count": null,
   "id": "floppy-banner",
   "metadata": {},
   "outputs": [],
   "source": []
  },
  {
   "cell_type": "code",
   "execution_count": null,
   "id": "southern-secretariat",
   "metadata": {},
   "outputs": [],
   "source": []
  },
  {
   "cell_type": "code",
   "execution_count": null,
   "id": "configured-horror",
   "metadata": {},
   "outputs": [],
   "source": []
  },
  {
   "cell_type": "code",
   "execution_count": null,
   "id": "liable-friendly",
   "metadata": {},
   "outputs": [],
   "source": []
  },
  {
   "cell_type": "code",
   "execution_count": null,
   "id": "humanitarian-india",
   "metadata": {},
   "outputs": [],
   "source": []
  },
  {
   "cell_type": "code",
   "execution_count": null,
   "id": "artistic-journalist",
   "metadata": {},
   "outputs": [],
   "source": []
  },
  {
   "cell_type": "code",
   "execution_count": null,
   "id": "worst-crash",
   "metadata": {},
   "outputs": [],
   "source": []
  },
  {
   "cell_type": "code",
   "execution_count": null,
   "id": "acting-consultation",
   "metadata": {},
   "outputs": [],
   "source": []
  },
  {
   "cell_type": "code",
   "execution_count": null,
   "id": "loving-steam",
   "metadata": {},
   "outputs": [],
   "source": []
  },
  {
   "cell_type": "code",
   "execution_count": null,
   "id": "popular-comfort",
   "metadata": {},
   "outputs": [],
   "source": []
  },
  {
   "cell_type": "code",
   "execution_count": null,
   "id": "logical-banana",
   "metadata": {},
   "outputs": [],
   "source": []
  },
  {
   "cell_type": "code",
   "execution_count": null,
   "id": "military-response",
   "metadata": {},
   "outputs": [],
   "source": []
  },
  {
   "cell_type": "code",
   "execution_count": null,
   "id": "mathematical-polls",
   "metadata": {},
   "outputs": [],
   "source": []
  },
  {
   "cell_type": "code",
   "execution_count": null,
   "id": "settled-receptor",
   "metadata": {},
   "outputs": [],
   "source": []
  },
  {
   "cell_type": "code",
   "execution_count": null,
   "id": "understood-tournament",
   "metadata": {},
   "outputs": [],
   "source": []
  },
  {
   "cell_type": "code",
   "execution_count": null,
   "id": "paperback-specific",
   "metadata": {},
   "outputs": [],
   "source": []
  },
  {
   "cell_type": "code",
   "execution_count": null,
   "id": "threatened-coral",
   "metadata": {},
   "outputs": [],
   "source": []
  },
  {
   "cell_type": "code",
   "execution_count": null,
   "id": "distinct-photography",
   "metadata": {},
   "outputs": [],
   "source": []
  },
  {
   "cell_type": "code",
   "execution_count": null,
   "id": "massive-hebrew",
   "metadata": {},
   "outputs": [],
   "source": []
  },
  {
   "cell_type": "code",
   "execution_count": null,
   "id": "inside-oxygen",
   "metadata": {},
   "outputs": [],
   "source": []
  },
  {
   "cell_type": "code",
   "execution_count": null,
   "id": "signed-oregon",
   "metadata": {},
   "outputs": [],
   "source": []
  },
  {
   "cell_type": "code",
   "execution_count": null,
   "id": "reported-worse",
   "metadata": {},
   "outputs": [],
   "source": []
  },
  {
   "cell_type": "code",
   "execution_count": null,
   "id": "premier-region",
   "metadata": {},
   "outputs": [],
   "source": []
  },
  {
   "cell_type": "code",
   "execution_count": null,
   "id": "plastic-czech",
   "metadata": {},
   "outputs": [],
   "source": []
  },
  {
   "cell_type": "code",
   "execution_count": null,
   "id": "immune-theater",
   "metadata": {},
   "outputs": [],
   "source": []
  },
  {
   "cell_type": "code",
   "execution_count": null,
   "id": "measured-humanitarian",
   "metadata": {},
   "outputs": [],
   "source": []
  },
  {
   "cell_type": "code",
   "execution_count": null,
   "id": "serious-escape",
   "metadata": {},
   "outputs": [],
   "source": []
  },
  {
   "cell_type": "code",
   "execution_count": null,
   "id": "delayed-moment",
   "metadata": {},
   "outputs": [],
   "source": []
  },
  {
   "cell_type": "code",
   "execution_count": null,
   "id": "apparent-journalist",
   "metadata": {},
   "outputs": [],
   "source": []
  },
  {
   "cell_type": "code",
   "execution_count": null,
   "id": "dental-sentence",
   "metadata": {},
   "outputs": [],
   "source": []
  },
  {
   "cell_type": "code",
   "execution_count": null,
   "id": "immune-bidding",
   "metadata": {},
   "outputs": [],
   "source": []
  },
  {
   "cell_type": "code",
   "execution_count": null,
   "id": "disturbed-warehouse",
   "metadata": {},
   "outputs": [],
   "source": []
  },
  {
   "cell_type": "code",
   "execution_count": null,
   "id": "statistical-elephant",
   "metadata": {},
   "outputs": [],
   "source": []
  },
  {
   "cell_type": "code",
   "execution_count": null,
   "id": "polar-thailand",
   "metadata": {},
   "outputs": [],
   "source": []
  },
  {
   "cell_type": "code",
   "execution_count": null,
   "id": "coated-kingston",
   "metadata": {},
   "outputs": [],
   "source": []
  },
  {
   "cell_type": "code",
   "execution_count": null,
   "id": "living-hayes",
   "metadata": {},
   "outputs": [],
   "source": []
  },
  {
   "cell_type": "code",
   "execution_count": null,
   "id": "visible-earthquake",
   "metadata": {},
   "outputs": [],
   "source": []
  },
  {
   "cell_type": "code",
   "execution_count": null,
   "id": "adopted-verse",
   "metadata": {},
   "outputs": [],
   "source": []
  },
  {
   "cell_type": "code",
   "execution_count": null,
   "id": "intellectual-fireplace",
   "metadata": {},
   "outputs": [],
   "source": []
  },
  {
   "cell_type": "code",
   "execution_count": null,
   "id": "angry-encyclopedia",
   "metadata": {},
   "outputs": [],
   "source": []
  },
  {
   "cell_type": "code",
   "execution_count": null,
   "id": "terminal-ancient",
   "metadata": {},
   "outputs": [],
   "source": []
  },
  {
   "cell_type": "code",
   "execution_count": null,
   "id": "naval-dimension",
   "metadata": {},
   "outputs": [],
   "source": []
  },
  {
   "cell_type": "code",
   "execution_count": null,
   "id": "finished-pharmacy",
   "metadata": {},
   "outputs": [],
   "source": []
  },
  {
   "cell_type": "code",
   "execution_count": null,
   "id": "sixth-drunk",
   "metadata": {},
   "outputs": [],
   "source": []
  },
  {
   "cell_type": "code",
   "execution_count": 34,
   "id": "incomplete-newcastle",
   "metadata": {},
   "outputs": [
    {
     "data": {
      "text/html": [
       "<div>\n",
       "<style scoped>\n",
       "    .dataframe tbody tr th:only-of-type {\n",
       "        vertical-align: middle;\n",
       "    }\n",
       "\n",
       "    .dataframe tbody tr th {\n",
       "        vertical-align: top;\n",
       "    }\n",
       "\n",
       "    .dataframe thead th {\n",
       "        text-align: right;\n",
       "    }\n",
       "</style>\n",
       "<table border=\"1\" class=\"dataframe\">\n",
       "  <thead>\n",
       "    <tr style=\"text-align: right;\">\n",
       "      <th></th>\n",
       "      <th>Unnamed: 0</th>\n",
       "      <th>Unnamed: 0.1</th>\n",
       "      <th>Unnamed: 0.1.1</th>\n",
       "      <th>Unnamed: 0.1.1.1</th>\n",
       "      <th>Unnamed: 0.1.1.1.1</th>\n",
       "      <th>Date</th>\n",
       "      <th>Open</th>\n",
       "      <th>High</th>\n",
       "      <th>Low</th>\n",
       "      <th>Close</th>\n",
       "      <th>Adjusted_close</th>\n",
       "      <th>Volume</th>\n",
       "      <th>rsi</th>\n",
       "      <th>ema</th>\n",
       "      <th>change</th>\n",
       "    </tr>\n",
       "  </thead>\n",
       "  <tbody>\n",
       "    <tr>\n",
       "      <th>0</th>\n",
       "      <td>0</td>\n",
       "      <td>0</td>\n",
       "      <td>0</td>\n",
       "      <td>0</td>\n",
       "      <td>8907</td>\n",
       "      <td>2016-04-11</td>\n",
       "      <td>108.97</td>\n",
       "      <td>110.61</td>\n",
       "      <td>108.83</td>\n",
       "      <td>109.02</td>\n",
       "      <td>9.0</td>\n",
       "      <td>29407518.0</td>\n",
       "      <td>NaN</td>\n",
       "      <td>NaN</td>\n",
       "      <td>1.432825</td>\n",
       "    </tr>\n",
       "    <tr>\n",
       "      <th>1</th>\n",
       "      <td>1</td>\n",
       "      <td>1</td>\n",
       "      <td>1</td>\n",
       "      <td>1</td>\n",
       "      <td>8908</td>\n",
       "      <td>2016-04-12</td>\n",
       "      <td>109.34</td>\n",
       "      <td>110.50</td>\n",
       "      <td>108.66</td>\n",
       "      <td>110.44</td>\n",
       "      <td>9.0</td>\n",
       "      <td>27232325.0</td>\n",
       "      <td>NaN</td>\n",
       "      <td>NaN</td>\n",
       "      <td>3.301843</td>\n",
       "    </tr>\n",
       "    <tr>\n",
       "      <th>2</th>\n",
       "      <td>2</td>\n",
       "      <td>2</td>\n",
       "      <td>2</td>\n",
       "      <td>2</td>\n",
       "      <td>8909</td>\n",
       "      <td>2016-04-13</td>\n",
       "      <td>110.80</td>\n",
       "      <td>112.34</td>\n",
       "      <td>110.80</td>\n",
       "      <td>112.04</td>\n",
       "      <td>9.0</td>\n",
       "      <td>33257316.0</td>\n",
       "      <td>NaN</td>\n",
       "      <td>NaN</td>\n",
       "      <td>4.583217</td>\n",
       "    </tr>\n",
       "    <tr>\n",
       "      <th>3</th>\n",
       "      <td>3</td>\n",
       "      <td>3</td>\n",
       "      <td>3</td>\n",
       "      <td>3</td>\n",
       "      <td>8910</td>\n",
       "      <td>2016-04-14</td>\n",
       "      <td>111.62</td>\n",
       "      <td>112.39</td>\n",
       "      <td>111.33</td>\n",
       "      <td>112.10</td>\n",
       "      <td>9.0</td>\n",
       "      <td>25473923.0</td>\n",
       "      <td>NaN</td>\n",
       "      <td>NaN</td>\n",
       "      <td>5.784656</td>\n",
       "    </tr>\n",
       "    <tr>\n",
       "      <th>4</th>\n",
       "      <td>4</td>\n",
       "      <td>4</td>\n",
       "      <td>4</td>\n",
       "      <td>4</td>\n",
       "      <td>8911</td>\n",
       "      <td>2016-04-15</td>\n",
       "      <td>112.11</td>\n",
       "      <td>112.30</td>\n",
       "      <td>109.73</td>\n",
       "      <td>109.85</td>\n",
       "      <td>9.0</td>\n",
       "      <td>46938969.0</td>\n",
       "      <td>NaN</td>\n",
       "      <td>NaN</td>\n",
       "      <td>3.945874</td>\n",
       "    </tr>\n",
       "  </tbody>\n",
       "</table>\n",
       "</div>"
      ],
      "text/plain": [
       "   Unnamed: 0  Unnamed: 0.1  Unnamed: 0.1.1  Unnamed: 0.1.1.1  \\\n",
       "0           0             0               0                 0   \n",
       "1           1             1               1                 1   \n",
       "2           2             2               2                 2   \n",
       "3           3             3               3                 3   \n",
       "4           4             4               4                 4   \n",
       "\n",
       "   Unnamed: 0.1.1.1.1        Date    Open    High     Low   Close  \\\n",
       "0                8907  2016-04-11  108.97  110.61  108.83  109.02   \n",
       "1                8908  2016-04-12  109.34  110.50  108.66  110.44   \n",
       "2                8909  2016-04-13  110.80  112.34  110.80  112.04   \n",
       "3                8910  2016-04-14  111.62  112.39  111.33  112.10   \n",
       "4                8911  2016-04-15  112.11  112.30  109.73  109.85   \n",
       "\n",
       "   Adjusted_close      Volume  rsi  ema    change  \n",
       "0             9.0  29407518.0  NaN  NaN  1.432825  \n",
       "1             9.0  27232325.0  NaN  NaN  3.301843  \n",
       "2             9.0  33257316.0  NaN  NaN  4.583217  \n",
       "3             9.0  25473923.0  NaN  NaN  5.784656  \n",
       "4             9.0  46938969.0  NaN  NaN  3.945874  "
      ]
     },
     "execution_count": 34,
     "metadata": {},
     "output_type": "execute_result"
    }
   ],
   "source": [
    "gh = pd.read_csv('TrendsV4/AAPLTRENDS')\n",
    "gh.head()"
   ]
  },
  {
   "cell_type": "code",
   "execution_count": null,
   "id": "parliamentary-herald",
   "metadata": {},
   "outputs": [],
   "source": []
  },
  {
   "cell_type": "code",
   "execution_count": null,
   "id": "oriented-belgium",
   "metadata": {},
   "outputs": [],
   "source": []
  },
  {
   "cell_type": "code",
   "execution_count": null,
   "id": "large-detroit",
   "metadata": {},
   "outputs": [],
   "source": []
  },
  {
   "cell_type": "code",
   "execution_count": null,
   "id": "stretch-initial",
   "metadata": {},
   "outputs": [],
   "source": []
  },
  {
   "cell_type": "code",
   "execution_count": null,
   "id": "separate-april",
   "metadata": {},
   "outputs": [],
   "source": []
  },
  {
   "cell_type": "code",
   "execution_count": null,
   "id": "similar-flavor",
   "metadata": {},
   "outputs": [],
   "source": []
  },
  {
   "cell_type": "code",
   "execution_count": null,
   "id": "amazing-lesson",
   "metadata": {},
   "outputs": [],
   "source": []
  },
  {
   "cell_type": "code",
   "execution_count": null,
   "id": "plastic-integration",
   "metadata": {},
   "outputs": [],
   "source": []
  },
  {
   "cell_type": "code",
   "execution_count": null,
   "id": "fresh-engine",
   "metadata": {},
   "outputs": [],
   "source": []
  },
  {
   "cell_type": "code",
   "execution_count": null,
   "id": "transsexual-houston",
   "metadata": {},
   "outputs": [],
   "source": []
  },
  {
   "cell_type": "code",
   "execution_count": null,
   "id": "virgin-drama",
   "metadata": {},
   "outputs": [],
   "source": []
  },
  {
   "cell_type": "code",
   "execution_count": null,
   "id": "piano-terrain",
   "metadata": {},
   "outputs": [],
   "source": []
  },
  {
   "cell_type": "code",
   "execution_count": null,
   "id": "controversial-desert",
   "metadata": {},
   "outputs": [],
   "source": []
  },
  {
   "cell_type": "code",
   "execution_count": null,
   "id": "mechanical-animal",
   "metadata": {},
   "outputs": [],
   "source": []
  },
  {
   "cell_type": "code",
   "execution_count": null,
   "id": "stupid-wells",
   "metadata": {},
   "outputs": [],
   "source": []
  },
  {
   "cell_type": "code",
   "execution_count": null,
   "id": "changing-perry",
   "metadata": {},
   "outputs": [],
   "source": []
  },
  {
   "cell_type": "code",
   "execution_count": null,
   "id": "dental-technician",
   "metadata": {},
   "outputs": [],
   "source": []
  },
  {
   "cell_type": "code",
   "execution_count": null,
   "id": "flush-metropolitan",
   "metadata": {},
   "outputs": [],
   "source": []
  },
  {
   "cell_type": "code",
   "execution_count": null,
   "id": "public-factor",
   "metadata": {},
   "outputs": [],
   "source": []
  },
  {
   "cell_type": "code",
   "execution_count": null,
   "id": "together-unemployment",
   "metadata": {},
   "outputs": [],
   "source": []
  },
  {
   "cell_type": "code",
   "execution_count": null,
   "id": "compressed-subscriber",
   "metadata": {},
   "outputs": [],
   "source": []
  },
  {
   "cell_type": "code",
   "execution_count": null,
   "id": "gorgeous-repeat",
   "metadata": {},
   "outputs": [],
   "source": []
  },
  {
   "cell_type": "code",
   "execution_count": null,
   "id": "instant-aggregate",
   "metadata": {},
   "outputs": [],
   "source": []
  },
  {
   "cell_type": "code",
   "execution_count": null,
   "id": "turkish-state",
   "metadata": {},
   "outputs": [],
   "source": []
  },
  {
   "cell_type": "code",
   "execution_count": null,
   "id": "functioning-perry",
   "metadata": {},
   "outputs": [],
   "source": []
  },
  {
   "cell_type": "code",
   "execution_count": null,
   "id": "bound-mineral",
   "metadata": {},
   "outputs": [],
   "source": []
  },
  {
   "cell_type": "code",
   "execution_count": null,
   "id": "dependent-keeping",
   "metadata": {},
   "outputs": [],
   "source": []
  },
  {
   "cell_type": "code",
   "execution_count": null,
   "id": "sound-tours",
   "metadata": {},
   "outputs": [],
   "source": []
  },
  {
   "cell_type": "code",
   "execution_count": null,
   "id": "lesser-country",
   "metadata": {},
   "outputs": [],
   "source": []
  },
  {
   "cell_type": "code",
   "execution_count": 4,
   "id": "impossible-individual",
   "metadata": {},
   "outputs": [
    {
     "name": "stdout",
     "output_type": "stream",
     "text": [
      "['AAPLTRENDS', 'ADBETRENDS', 'ADITRENDS', 'ADPTRENDS', 'ADSKTRENDS', 'AEPTRENDS', 'ALGNTRENDS', 'ALXNTRENDS', 'AMATTRENDS', 'AMDTRENDS', 'AMGNTRENDS', 'AMZNTRENDS', 'ANSSTRENDS', 'ASMLTRENDS', 'ATVITRENDS', 'AVGOTRENDS', 'BIDUTRENDS', 'BIIBTRENDS', 'BKNGTRENDS', 'CDNSTRENDS', 'CDWTRENDS', 'CERNTRENDS', 'CHKPTRENDS', 'CHTRTRENDS', 'CMCSATRENDS', 'COSTTRENDS', 'CPRTTRENDS', 'CSCOTRENDS', 'CSXTRENDS', 'CTASTRENDS', 'CTSHTRENDS', 'DLTRTRENDS', 'DOCUTRENDS', 'DXCMTRENDS', 'EATRENDS', 'EBAYTRENDS', 'EXCTRENDS', 'FASTTRENDS', 'FBTRENDS', 'FISVTRENDS', 'FOXATRENDS', 'FOXTRENDS', 'GILDTRENDS', 'GOOGLTRENDS', 'GOOGTRENDS', 'IDXXTRENDS', 'ILMNTRENDS', 'INCYTRENDS', 'INTCTRENDS', 'INTUTRENDS', 'ISRGTRENDS', 'JDTRENDS', 'KDPTRENDS', 'KHCTRENDS', 'KLACTRENDS', 'LRCXTRENDS', 'LULUTRENDS', 'MARTRENDS', 'MCHPTRENDS', 'MDLZTRENDS', 'MELITRENDS', 'MNSTTRENDS', 'MRNATRENDS', 'MRVLTRENDS', 'MSFTTRENDS', 'MTCHTRENDS', 'MUTRENDS', 'MXIMTRENDS', 'NFLXTRENDS', 'NTESTRENDS', 'NVDATRENDS', 'NXPITRENDS', 'OKTATRENDS', 'ORLYTRENDS', 'PAYXTRENDS', 'PCARTRENDS', 'PDDTRENDS', 'PEPTRENDS', 'PTONTRENDS', 'PYPLTRENDS', 'QCOMTRENDS', 'REGNTRENDS', 'ROSTTRENDS', 'SBUXTRENDS', 'SGENTRENDS', 'SIRITRENDS', 'SNPSTRENDS', 'SPLKTRENDS', 'SWKSTRENDS', 'TCOMTRENDS', 'TEAMTRENDS', 'TMUSTRENDS', 'TSLATRENDS', 'TXNTRENDS', 'VRSKTRENDS', 'VRSNTRENDS', 'VRTXTRENDS', 'WBATRENDS', 'WDAYTRENDS', 'XELTRENDS', 'XLNXTRENDS', 'ZMTRENDS']\n"
     ]
    }
   ],
   "source": [
    "print(files)"
   ]
  },
  {
   "cell_type": "code",
   "execution_count": null,
   "id": "fitting-publication",
   "metadata": {},
   "outputs": [],
   "source": []
  },
  {
   "cell_type": "code",
   "execution_count": null,
   "id": "baking-globe",
   "metadata": {},
   "outputs": [],
   "source": []
  },
  {
   "cell_type": "code",
   "execution_count": null,
   "id": "dramatic-ensemble",
   "metadata": {},
   "outputs": [],
   "source": []
  }
 ],
 "metadata": {
  "kernelspec": {
   "display_name": "Python 3",
   "language": "python",
   "name": "python3"
  },
  "language_info": {
   "codemirror_mode": {
    "name": "ipython",
    "version": 3
   },
   "file_extension": ".py",
   "mimetype": "text/x-python",
   "name": "python",
   "nbconvert_exporter": "python",
   "pygments_lexer": "ipython3",
   "version": "3.8.8"
  }
 },
 "nbformat": 4,
 "nbformat_minor": 5
}
