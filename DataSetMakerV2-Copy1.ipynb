{
 "cells": [
  {
   "cell_type": "code",
   "execution_count": 13,
   "metadata": {},
   "outputs": [
    {
     "name": "stdout",
     "output_type": "stream",
     "text": [
      "2868\n",
      "2868\n",
      "START:  AF\n",
      "AF\n",
      "CANCEl\n",
      "DONE:  AF\n",
      "START:  AFAM\n",
      "AM\n",
      "CANCEl\n",
      "DONE:  AFAM\n",
      "START:  AFG\n",
      "FG\n"
     ]
    },
    {
     "name": "stderr",
     "output_type": "stream",
     "text": [
      "<ipython-input-13-c26e568c0c99>:53: SettingWithCopyWarning: \n",
      "A value is trying to be set on a copy of a slice from a DataFrame\n",
      "\n",
      "See the caveats in the documentation: https://pandas.pydata.org/pandas-docs/stable/user_guide/indexing.html#returning-a-view-versus-a-copy\n",
      "  df_5['Adjusted_close'][x] = out[pass_name][g]\n"
     ]
    },
    {
     "name": "stdout",
     "output_type": "stream",
     "text": [
      "k\n",
      "DONE:  AFG\n",
      "START:  AFH\n",
      "FH\n",
      "CANCEl\n",
      "DONE:  AFH\n",
      "START:  AFI\n",
      "FI\n",
      "k\n",
      "DONE:  AFI\n",
      "START:  AFL\n",
      "FL\n",
      "k\n",
      "DONE:  AFL\n",
      "START:  AFSI\n",
      "SI\n",
      "CANCEl\n",
      "DONE:  AFSI\n",
      "START:  AGCO\n",
      "CO\n",
      "k\n",
      "DONE:  AGCO\n",
      "START:  AGEN\n",
      "EN\n",
      "k\n",
      "DONE:  AGEN\n",
      "START:  AGFS\n",
      "FS\n",
      "k\n",
      "DONE:  AGFS\n",
      "START:  AGII\n",
      "II\n",
      "CANCEl\n",
      "DONE:  AGII\n",
      "START:  AGIO\n",
      "IO\n",
      "k\n",
      "DONE:  AGIO\n",
      "START:  AGM\n",
      "GM\n",
      "k\n",
      "DONE:  AGM\n",
      "START:  AGN\n",
      "GN\n",
      "CANCEl\n",
      "DONE:  AGN\n",
      "START:  AGNC\n",
      "NC\n",
      "k\n",
      "DONE:  AGNC\n",
      "START:  AGO\n",
      "GO\n",
      "k\n",
      "DONE:  AGO\n",
      "START:  AGR\n",
      "GR\n",
      "k\n",
      "DONE:  AGR\n",
      "START:  AGX\n",
      "GX\n",
      "k\n",
      "DONE:  AGX\n",
      "START:  AGYS\n",
      "YS\n",
      "k\n",
      "DONE:  AGYS\n",
      "START:  AHH\n",
      "HH\n",
      "k\n",
      "DONE:  AHH\n",
      "START:  AHL\n",
      "HL\n",
      "CANCEl\n",
      "DONE:  AHL\n",
      "START:  AHP\n",
      "HP\n",
      "CANCEl\n",
      "DONE:  AHP\n",
      "START:  AHT\n",
      "HT\n",
      "k\n",
      "DONE:  AHT\n",
      "START:  AI\n",
      "AI\n",
      "k\n",
      "DONE:  AI\n",
      "START:  AIG\n",
      "IG\n",
      "k\n",
      "DONE:  AIG\n",
      "START:  AIMC\n",
      "MC\n",
      "k\n",
      "DONE:  AIMC\n",
      "START:  AIMT\n",
      "MT\n",
      "CANCEl\n",
      "DONE:  AIMT\n",
      "START:  AIN\n",
      "IN\n",
      "k\n",
      "DONE:  AIN\n",
      "START:  AIR\n",
      "IR\n",
      "k\n",
      "DONE:  AIR\n",
      "START:  AIT\n",
      "IT\n",
      "k\n",
      "DONE:  AIT\n",
      "START:  AIV\n",
      "IV\n",
      "k\n",
      "DONE:  AIV\n",
      "START:  AIZ\n",
      "IZ\n",
      "k\n",
      "DONE:  AIZ\n",
      "START:  AJG\n",
      "JG\n",
      "k\n",
      "DONE:  AJG\n",
      "START:  AJRD\n",
      "RD\n",
      "k\n",
      "DONE:  AJRD\n",
      "START:  AJX\n",
      "JX\n",
      "k\n",
      "DONE:  AJX\n",
      "START:  AKAM\n",
      "AM\n",
      "k\n",
      "DONE:  AKAM\n",
      "START:  AKAO\n",
      "AO\n",
      "CANCEl\n",
      "DONE:  AKAO\n",
      "START:  AKBA\n",
      "BA\n",
      "k\n",
      "DONE:  AKBA\n",
      "START:  AKR\n",
      "KR\n",
      "k\n",
      "DONE:  AKR\n",
      "START:  AKRX\n",
      "RX\n",
      "CANCEl\n",
      "DONE:  AKRX\n",
      "START:  AKS\n",
      "KS\n",
      "CANCEl\n",
      "DONE:  AKS\n",
      "START:  AKTS\n",
      "TS\n",
      "k\n",
      "DONE:  AKTS\n",
      "START:  AL\n",
      "AL\n",
      "k\n",
      "DONE:  AL\n",
      "START:  ALB\n",
      "LB\n",
      "k\n",
      "DONE:  ALB\n",
      "START:  ALCO\n",
      "CO\n",
      "k\n",
      "DONE:  ALCO\n",
      "START:  ALDR\n",
      "DR\n",
      "CANCEl\n",
      "DONE:  ALDR\n",
      "START:  ALE\n",
      "LE\n",
      "k\n",
      "DONE:  ALE\n",
      "START:  ALEX\n",
      "EX\n",
      "k\n",
      "DONE:  ALEX\n",
      "START:  ALG\n",
      "LG\n",
      "k\n",
      "DONE:  ALG\n",
      "START:  ALGN\n",
      "GN\n",
      "k\n",
      "DONE:  ALGN\n",
      "START:  ALGT\n",
      "GT\n",
      "k\n",
      "DONE:  ALGT\n",
      "START:  ALJ\n",
      "LJ\n",
      "CANCEl\n",
      "DONE:  ALJ\n",
      "START:  ALK\n",
      "LK\n",
      "k\n",
      "DONE:  ALK\n",
      "START:  ALKS\n",
      "KS\n",
      "k\n",
      "DONE:  ALKS\n",
      "START:  ALL\n",
      "LL\n",
      "k\n",
      "DONE:  ALL\n",
      "START:  ALLE\n",
      "LE\n",
      "k\n",
      "DONE:  ALLE\n",
      "START:  ALLY\n",
      "LY\n",
      "k\n",
      "DONE:  ALLY\n",
      "START:  ALNY\n",
      "NY\n",
      "k\n",
      "DONE:  ALNY\n",
      "START:  ALOG\n",
      "OG\n",
      "CANCEl\n",
      "DONE:  ALOG\n",
      "START:  ALR\n",
      "LR\n",
      "CANCEl\n",
      "DONE:  ALR\n",
      "START:  ALRM\n",
      "RM\n",
      "k\n",
      "DONE:  ALRM\n",
      "START:  ALSN\n",
      "SN\n",
      "k\n",
      "DONE:  ALSN\n",
      "START:  ALX\n",
      "LX\n",
      "k\n",
      "DONE:  ALX\n",
      "START:  ALXN\n",
      "XN\n",
      "k\n",
      "DONE:  ALXN\n",
      "START:  AMAG\n",
      "AG\n",
      "CANCEl\n",
      "DONE:  AMAG\n",
      "START:  AMAT\n",
      "AT\n",
      "k\n",
      "DONE:  AMAT\n",
      "START:  AMBA\n",
      "BA\n",
      "k\n",
      "DONE:  AMBA\n",
      "START:  AMBC\n",
      "BC\n",
      "k\n",
      "DONE:  AMBC\n",
      "START:  AMBR\n",
      "BR\n",
      "CANCEl\n",
      "DONE:  AMBR\n",
      "START:  AMC\n",
      "MC\n",
      "k\n",
      "DONE:  AMC\n",
      "START:  AMCX\n",
      "CX\n",
      "k\n",
      "DONE:  AMCX\n",
      "START:  AMD\n",
      "MD\n",
      "k\n",
      "DONE:  AMD\n",
      "START:  AME\n",
      "ME\n",
      "k\n",
      "DONE:  AME\n",
      "START:  AMED\n",
      "ED\n",
      "k\n",
      "DONE:  AMED\n",
      "START:  AMG\n",
      "MG\n",
      "k\n",
      "DONE:  AMG\n",
      "START:  AMGN\n",
      "GN\n",
      "k\n",
      "DONE:  AMGN\n",
      "START:  AMH\n",
      "MH\n",
      "k\n",
      "DONE:  AMH\n",
      "START:  AMKR\n",
      "KR\n",
      "k\n",
      "DONE:  AMKR\n",
      "START:  AMN\n",
      "MN\n",
      "k\n",
      "DONE:  AMN\n",
      "START:  AMNB\n",
      "NB\n",
      "k\n",
      "DONE:  AMNB\n",
      "START:  AMOT\n",
      "OT\n",
      "k\n",
      "DONE:  AMOT\n",
      "START:  AMP\n",
      "MP\n",
      "k\n",
      "DONE:  AMP\n",
      "START:  AMPH\n",
      "PH\n",
      "k\n",
      "DONE:  AMPH\n",
      "START:  AMRC\n",
      "RC\n",
      "k\n",
      "DONE:  AMRC\n",
      "START:  AMRI\n",
      "RI\n",
      "CANCEl\n",
      "DONE:  AMRI\n",
      "START:  AMSF\n",
      "SF\n",
      "k\n",
      "DONE:  AMSF\n",
      "START:  AMSWA\n",
      "WA\n",
      "k\n",
      "DONE:  AMSWA\n",
      "START:  AMT\n",
      "MT\n",
      "k\n",
      "DONE:  AMT\n",
      "START:  AMTD\n",
      "TD\n",
      "CANCEl\n",
      "DONE:  AMTD\n",
      "START:  AMWD\n",
      "WD\n",
      "k\n",
      "DONE:  AMWD\n",
      "START:  AMZN\n",
      "ZN\n",
      "k\n",
      "DONE:  AMZN\n",
      "START:  AN\n",
      "AN\n",
      "k\n",
      "DONE:  AN\n",
      "START:  ANAB\n",
      "AB\n",
      "k\n",
      "DONE:  ANAB\n",
      "START:  ANAT\n",
      "AT\n",
      "k\n",
      "DONE:  ANAT\n",
      "START:  ANCX\n",
      "CX\n"
     ]
    },
    {
     "ename": "KeyError",
     "evalue": "\"['isPartial'] not found in axis\"",
     "output_type": "error",
     "traceback": [
      "\u001b[1;31m---------------------------------------------------------------------------\u001b[0m",
      "\u001b[1;31mKeyError\u001b[0m                                  Traceback (most recent call last)",
      "\u001b[1;32m<ipython-input-13-c26e568c0c99>\u001b[0m in \u001b[0;36m<module>\u001b[1;34m\u001b[0m\n\u001b[0;32m     67\u001b[0m     \u001b[0mprint\u001b[0m\u001b[1;33m(\u001b[0m\u001b[0mx\u001b[0m\u001b[1;33m[\u001b[0m\u001b[1;33m-\u001b[0m\u001b[1;36m2\u001b[0m\u001b[1;33m:\u001b[0m\u001b[1;33m]\u001b[0m\u001b[1;33m)\u001b[0m\u001b[1;33m\u001b[0m\u001b[1;33m\u001b[0m\u001b[0m\n\u001b[0;32m     68\u001b[0m     \u001b[1;32mif\u001b[0m \u001b[0mx\u001b[0m\u001b[1;33m[\u001b[0m\u001b[1;33m-\u001b[0m\u001b[1;36m2\u001b[0m\u001b[1;33m:\u001b[0m\u001b[1;33m]\u001b[0m \u001b[1;33m!=\u001b[0m \u001b[1;34m'.B'\u001b[0m\u001b[1;33m:\u001b[0m\u001b[1;33m\u001b[0m\u001b[1;33m\u001b[0m\u001b[0m\n\u001b[1;32m---> 69\u001b[1;33m         \u001b[0mdataSet\u001b[0m\u001b[1;33m(\u001b[0m\u001b[0mx\u001b[0m\u001b[1;33m)\u001b[0m\u001b[1;33m\u001b[0m\u001b[1;33m\u001b[0m\u001b[0m\n\u001b[0m\u001b[0;32m     70\u001b[0m     \u001b[0mprint\u001b[0m\u001b[1;33m(\u001b[0m\u001b[1;34m'DONE: '\u001b[0m\u001b[1;33m,\u001b[0m\u001b[0mx\u001b[0m\u001b[1;33m)\u001b[0m\u001b[1;33m\u001b[0m\u001b[1;33m\u001b[0m\u001b[0m\n\u001b[0;32m     71\u001b[0m     \u001b[1;31m#time.sleep(10)\u001b[0m\u001b[1;33m\u001b[0m\u001b[1;33m\u001b[0m\u001b[1;33m\u001b[0m\u001b[0m\n",
      "\u001b[1;32m<ipython-input-13-c26e568c0c99>\u001b[0m in \u001b[0;36mdataSet\u001b[1;34m(stock)\u001b[0m\n\u001b[0;32m     18\u001b[0m \u001b[1;32mdef\u001b[0m \u001b[0mdataSet\u001b[0m\u001b[1;33m(\u001b[0m\u001b[0mstock\u001b[0m\u001b[1;33m)\u001b[0m\u001b[1;33m:\u001b[0m\u001b[1;33m\u001b[0m\u001b[1;33m\u001b[0m\u001b[0m\n\u001b[0;32m     19\u001b[0m     \u001b[0mpass_name\u001b[0m \u001b[1;33m=\u001b[0m \u001b[0mstock\u001b[0m \u001b[1;33m+\u001b[0m\u001b[1;34m' stock'\u001b[0m\u001b[1;33m\u001b[0m\u001b[1;33m\u001b[0m\u001b[0m\n\u001b[1;32m---> 20\u001b[1;33m     \u001b[0mdf\u001b[0m \u001b[1;33m=\u001b[0m \u001b[0mdownloadTrends\u001b[0m\u001b[1;33m(\u001b[0m\u001b[0mpass_name\u001b[0m\u001b[1;33m)\u001b[0m\u001b[1;33m\u001b[0m\u001b[1;33m\u001b[0m\u001b[0m\n\u001b[0m\u001b[0;32m     21\u001b[0m     \u001b[0mdf\u001b[0m\u001b[1;33m.\u001b[0m\u001b[0mreset_index\u001b[0m\u001b[1;33m(\u001b[0m\u001b[0minplace\u001b[0m\u001b[1;33m=\u001b[0m\u001b[1;32mTrue\u001b[0m\u001b[1;33m)\u001b[0m\u001b[1;33m\u001b[0m\u001b[1;33m\u001b[0m\u001b[0m\n\u001b[0;32m     22\u001b[0m \u001b[1;33m\u001b[0m\u001b[0m\n",
      "\u001b[1;32m<ipython-input-13-c26e568c0c99>\u001b[0m in \u001b[0;36mdownloadTrends\u001b[1;34m(keyword)\u001b[0m\n\u001b[0;32m     14\u001b[0m     \u001b[0mpytrends\u001b[0m\u001b[1;33m.\u001b[0m\u001b[0mbuild_payload\u001b[0m\u001b[1;33m(\u001b[0m\u001b[0mkw_list\u001b[0m\u001b[1;33m,\u001b[0m \u001b[0mcat\u001b[0m\u001b[1;33m=\u001b[0m\u001b[1;36m0\u001b[0m\u001b[1;33m,\u001b[0m \u001b[0mtimeframe\u001b[0m\u001b[1;33m=\u001b[0m\u001b[1;34m'all'\u001b[0m\u001b[1;33m,\u001b[0m \u001b[0mgeo\u001b[0m\u001b[1;33m=\u001b[0m\u001b[1;34m''\u001b[0m\u001b[1;33m,\u001b[0m \u001b[0mgprop\u001b[0m\u001b[1;33m=\u001b[0m\u001b[1;34m''\u001b[0m\u001b[1;33m)\u001b[0m\u001b[1;33m\u001b[0m\u001b[1;33m\u001b[0m\u001b[0m\n\u001b[0;32m     15\u001b[0m     \u001b[0mdata\u001b[0m \u001b[1;33m=\u001b[0m \u001b[0mpytrends\u001b[0m\u001b[1;33m.\u001b[0m\u001b[0minterest_over_time\u001b[0m\u001b[1;33m(\u001b[0m\u001b[1;33m)\u001b[0m\u001b[1;33m\u001b[0m\u001b[1;33m\u001b[0m\u001b[0m\n\u001b[1;32m---> 16\u001b[1;33m     \u001b[0mdata\u001b[0m\u001b[1;33m=\u001b[0m \u001b[0mdata\u001b[0m\u001b[1;33m.\u001b[0m\u001b[0mdrop\u001b[0m\u001b[1;33m(\u001b[0m\u001b[0mlabels\u001b[0m\u001b[1;33m=\u001b[0m\u001b[1;33m[\u001b[0m\u001b[1;34m'isPartial'\u001b[0m\u001b[1;33m]\u001b[0m\u001b[1;33m,\u001b[0m\u001b[0maxis\u001b[0m\u001b[1;33m=\u001b[0m\u001b[1;34m'columns'\u001b[0m\u001b[1;33m)\u001b[0m\u001b[1;33m\u001b[0m\u001b[1;33m\u001b[0m\u001b[0m\n\u001b[0m\u001b[0;32m     17\u001b[0m     \u001b[1;32mreturn\u001b[0m \u001b[0mdata\u001b[0m\u001b[1;33m\u001b[0m\u001b[1;33m\u001b[0m\u001b[0m\n\u001b[0;32m     18\u001b[0m \u001b[1;32mdef\u001b[0m \u001b[0mdataSet\u001b[0m\u001b[1;33m(\u001b[0m\u001b[0mstock\u001b[0m\u001b[1;33m)\u001b[0m\u001b[1;33m:\u001b[0m\u001b[1;33m\u001b[0m\u001b[1;33m\u001b[0m\u001b[0m\n",
      "\u001b[1;32m~\\Anaconda3\\envs\\Sentiment\\lib\\site-packages\\pandas\\core\\frame.py\u001b[0m in \u001b[0;36mdrop\u001b[1;34m(self, labels, axis, index, columns, level, inplace, errors)\u001b[0m\n\u001b[0;32m   4306\u001b[0m                 \u001b[0mweight\u001b[0m  \u001b[1;36m1.0\u001b[0m     \u001b[1;36m0.8\u001b[0m\u001b[1;33m\u001b[0m\u001b[1;33m\u001b[0m\u001b[0m\n\u001b[0;32m   4307\u001b[0m         \"\"\"\n\u001b[1;32m-> 4308\u001b[1;33m         return super().drop(\n\u001b[0m\u001b[0;32m   4309\u001b[0m             \u001b[0mlabels\u001b[0m\u001b[1;33m=\u001b[0m\u001b[0mlabels\u001b[0m\u001b[1;33m,\u001b[0m\u001b[1;33m\u001b[0m\u001b[1;33m\u001b[0m\u001b[0m\n\u001b[0;32m   4310\u001b[0m             \u001b[0maxis\u001b[0m\u001b[1;33m=\u001b[0m\u001b[0maxis\u001b[0m\u001b[1;33m,\u001b[0m\u001b[1;33m\u001b[0m\u001b[1;33m\u001b[0m\u001b[0m\n",
      "\u001b[1;32m~\\Anaconda3\\envs\\Sentiment\\lib\\site-packages\\pandas\\core\\generic.py\u001b[0m in \u001b[0;36mdrop\u001b[1;34m(self, labels, axis, index, columns, level, inplace, errors)\u001b[0m\n\u001b[0;32m   4151\u001b[0m         \u001b[1;32mfor\u001b[0m \u001b[0maxis\u001b[0m\u001b[1;33m,\u001b[0m \u001b[0mlabels\u001b[0m \u001b[1;32min\u001b[0m \u001b[0maxes\u001b[0m\u001b[1;33m.\u001b[0m\u001b[0mitems\u001b[0m\u001b[1;33m(\u001b[0m\u001b[1;33m)\u001b[0m\u001b[1;33m:\u001b[0m\u001b[1;33m\u001b[0m\u001b[1;33m\u001b[0m\u001b[0m\n\u001b[0;32m   4152\u001b[0m             \u001b[1;32mif\u001b[0m \u001b[0mlabels\u001b[0m \u001b[1;32mis\u001b[0m \u001b[1;32mnot\u001b[0m \u001b[1;32mNone\u001b[0m\u001b[1;33m:\u001b[0m\u001b[1;33m\u001b[0m\u001b[1;33m\u001b[0m\u001b[0m\n\u001b[1;32m-> 4153\u001b[1;33m                 \u001b[0mobj\u001b[0m \u001b[1;33m=\u001b[0m \u001b[0mobj\u001b[0m\u001b[1;33m.\u001b[0m\u001b[0m_drop_axis\u001b[0m\u001b[1;33m(\u001b[0m\u001b[0mlabels\u001b[0m\u001b[1;33m,\u001b[0m \u001b[0maxis\u001b[0m\u001b[1;33m,\u001b[0m \u001b[0mlevel\u001b[0m\u001b[1;33m=\u001b[0m\u001b[0mlevel\u001b[0m\u001b[1;33m,\u001b[0m \u001b[0merrors\u001b[0m\u001b[1;33m=\u001b[0m\u001b[0merrors\u001b[0m\u001b[1;33m)\u001b[0m\u001b[1;33m\u001b[0m\u001b[1;33m\u001b[0m\u001b[0m\n\u001b[0m\u001b[0;32m   4154\u001b[0m \u001b[1;33m\u001b[0m\u001b[0m\n\u001b[0;32m   4155\u001b[0m         \u001b[1;32mif\u001b[0m \u001b[0minplace\u001b[0m\u001b[1;33m:\u001b[0m\u001b[1;33m\u001b[0m\u001b[1;33m\u001b[0m\u001b[0m\n",
      "\u001b[1;32m~\\Anaconda3\\envs\\Sentiment\\lib\\site-packages\\pandas\\core\\generic.py\u001b[0m in \u001b[0;36m_drop_axis\u001b[1;34m(self, labels, axis, level, errors)\u001b[0m\n\u001b[0;32m   4186\u001b[0m                 \u001b[0mnew_axis\u001b[0m \u001b[1;33m=\u001b[0m \u001b[0maxis\u001b[0m\u001b[1;33m.\u001b[0m\u001b[0mdrop\u001b[0m\u001b[1;33m(\u001b[0m\u001b[0mlabels\u001b[0m\u001b[1;33m,\u001b[0m \u001b[0mlevel\u001b[0m\u001b[1;33m=\u001b[0m\u001b[0mlevel\u001b[0m\u001b[1;33m,\u001b[0m \u001b[0merrors\u001b[0m\u001b[1;33m=\u001b[0m\u001b[0merrors\u001b[0m\u001b[1;33m)\u001b[0m\u001b[1;33m\u001b[0m\u001b[1;33m\u001b[0m\u001b[0m\n\u001b[0;32m   4187\u001b[0m             \u001b[1;32melse\u001b[0m\u001b[1;33m:\u001b[0m\u001b[1;33m\u001b[0m\u001b[1;33m\u001b[0m\u001b[0m\n\u001b[1;32m-> 4188\u001b[1;33m                 \u001b[0mnew_axis\u001b[0m \u001b[1;33m=\u001b[0m \u001b[0maxis\u001b[0m\u001b[1;33m.\u001b[0m\u001b[0mdrop\u001b[0m\u001b[1;33m(\u001b[0m\u001b[0mlabels\u001b[0m\u001b[1;33m,\u001b[0m \u001b[0merrors\u001b[0m\u001b[1;33m=\u001b[0m\u001b[0merrors\u001b[0m\u001b[1;33m)\u001b[0m\u001b[1;33m\u001b[0m\u001b[1;33m\u001b[0m\u001b[0m\n\u001b[0m\u001b[0;32m   4189\u001b[0m             \u001b[0mresult\u001b[0m \u001b[1;33m=\u001b[0m \u001b[0mself\u001b[0m\u001b[1;33m.\u001b[0m\u001b[0mreindex\u001b[0m\u001b[1;33m(\u001b[0m\u001b[1;33m**\u001b[0m\u001b[1;33m{\u001b[0m\u001b[0maxis_name\u001b[0m\u001b[1;33m:\u001b[0m \u001b[0mnew_axis\u001b[0m\u001b[1;33m}\u001b[0m\u001b[1;33m)\u001b[0m\u001b[1;33m\u001b[0m\u001b[1;33m\u001b[0m\u001b[0m\n\u001b[0;32m   4190\u001b[0m \u001b[1;33m\u001b[0m\u001b[0m\n",
      "\u001b[1;32m~\\Anaconda3\\envs\\Sentiment\\lib\\site-packages\\pandas\\core\\indexes\\base.py\u001b[0m in \u001b[0;36mdrop\u001b[1;34m(self, labels, errors)\u001b[0m\n\u001b[0;32m   5589\u001b[0m         \u001b[1;32mif\u001b[0m \u001b[0mmask\u001b[0m\u001b[1;33m.\u001b[0m\u001b[0many\u001b[0m\u001b[1;33m(\u001b[0m\u001b[1;33m)\u001b[0m\u001b[1;33m:\u001b[0m\u001b[1;33m\u001b[0m\u001b[1;33m\u001b[0m\u001b[0m\n\u001b[0;32m   5590\u001b[0m             \u001b[1;32mif\u001b[0m \u001b[0merrors\u001b[0m \u001b[1;33m!=\u001b[0m \u001b[1;34m\"ignore\"\u001b[0m\u001b[1;33m:\u001b[0m\u001b[1;33m\u001b[0m\u001b[1;33m\u001b[0m\u001b[0m\n\u001b[1;32m-> 5591\u001b[1;33m                 \u001b[1;32mraise\u001b[0m \u001b[0mKeyError\u001b[0m\u001b[1;33m(\u001b[0m\u001b[1;34mf\"{labels[mask]} not found in axis\"\u001b[0m\u001b[1;33m)\u001b[0m\u001b[1;33m\u001b[0m\u001b[1;33m\u001b[0m\u001b[0m\n\u001b[0m\u001b[0;32m   5592\u001b[0m             \u001b[0mindexer\u001b[0m \u001b[1;33m=\u001b[0m \u001b[0mindexer\u001b[0m\u001b[1;33m[\u001b[0m\u001b[1;33m~\u001b[0m\u001b[0mmask\u001b[0m\u001b[1;33m]\u001b[0m\u001b[1;33m\u001b[0m\u001b[1;33m\u001b[0m\u001b[0m\n\u001b[0;32m   5593\u001b[0m         \u001b[1;32mreturn\u001b[0m \u001b[0mself\u001b[0m\u001b[1;33m.\u001b[0m\u001b[0mdelete\u001b[0m\u001b[1;33m(\u001b[0m\u001b[0mindexer\u001b[0m\u001b[1;33m)\u001b[0m\u001b[1;33m\u001b[0m\u001b[1;33m\u001b[0m\u001b[0m\n",
      "\u001b[1;31mKeyError\u001b[0m: \"['isPartial'] not found in axis\""
     ]
    }
   ],
   "source": [
    "import pandas as pd\n",
    "from pytrends.request import TrendReq\n",
    "import matplotlib\n",
    "import pandas as pd\n",
    "pytrends = TrendReq(hl='en-US', tz=360)\n",
    "#pytrends = TrendReq(hl='en-US', tz=360, timeout=(10,25), proxies=['https://34.203.233.13:80',], retries=2, backoff_factor=0.1, requests_args={'verify':False})\n",
    "from pandas.tseries.offsets import DateOffset\n",
    "import os\n",
    "akcja = 'AAPL'\n",
    "\n",
    "\n",
    "def downloadTrends(keyword):\n",
    "    kw_list = [keyword]\n",
    "    pytrends.build_payload(kw_list, cat=0, timeframe='all', geo='', gprop='')\n",
    "    data = pytrends.interest_over_time()\n",
    "    data= data.drop(labels=['isPartial'],axis='columns')\n",
    "    return data\n",
    "def dataSet(stock):\n",
    "    pass_name = stock +' stock'\n",
    "    df = downloadTrends(pass_name)\n",
    "    df.reset_index(inplace=True)\n",
    "\n",
    "    fik = os.listdir('NASDAQ')\n",
    "    kif = os.listdir('NYSE')\n",
    "    if stock+'.US.csv' in kif:\n",
    "        df_5 = pd.read_csv('NYSE/'+ stock+'.US.csv')\n",
    "    elif stock+'.US.csv' in fik:\n",
    "        df_5 = pd.read_csv('NASDAQ/'+ stock+'.US.csv')\n",
    "    else:\n",
    "        print(\"CANCEl\")\n",
    "        return 0\n",
    "    #df = pd.read_csv('Trends001')\n",
    "    \n",
    "    #df['date'] = pd.to_datetime(df['date'], format = \"%Y-%m-%d\")\n",
    "    # Create target dates: all days in the weeks in the original dataframe\n",
    "    new_index = pd.date_range(start=df['date'].iloc[0],\n",
    "                              end=df['date'].iloc[-1] + DateOffset(6),\n",
    "                              freq='D')\n",
    "\n",
    "    # Temporarily set dates as index, conform to target dates and forward fill data\n",
    "    # Finally reset the index as in the original df  \n",
    "    out = df.set_index('date')\\\n",
    "            .reindex(new_index).ffill()\\\n",
    "            .reset_index(drop=False)\\\n",
    "            .rename(columns = {'index' : 'date'})\n",
    "    dates_t = out['date'].to_list()\n",
    "    dates_y = []\n",
    "    for y in dates_t:\n",
    "        dates_y.append(y.strftime(\"%Y-%m-%d\"))\n",
    "    for x in range(len(df_5)):\n",
    "        if df_5['Date'][x] in dates_y:\n",
    "            g = dates_y.index(df_5['Date'][x])\n",
    "            df_5['Adjusted_close'][x] = out[pass_name][g]\n",
    "    \n",
    "        else:\n",
    "            df_5 = df_5.drop(x)\n",
    "    print('k')\n",
    "    df_5.to_csv('trendsup/'+stock+'TRENDS.csv')\n",
    "df_6 = pd.read_csv('russell3000.csv')\n",
    "spolki = df_6['Ticker'].to_list()\n",
    "spolki = spolki[70:]\n",
    "print(len(spolki))\n",
    "#spolki = spolki[:250]    \n",
    "print(len(spolki))\n",
    "for x in spolki:\n",
    "    print('START: ',x)\n",
    "    print(x[-2:])\n",
    "    if x[-2:] != '.B':\n",
    "        dataSet(x)\n",
    "    print('DONE: ',x)\n",
    "    #time.sleep(10)"
   ]
  },
  {
   "cell_type": "code",
   "execution_count": null,
   "metadata": {},
   "outputs": [],
   "source": []
  },
  {
   "cell_type": "code",
   "execution_count": null,
   "metadata": {},
   "outputs": [],
   "source": []
  },
  {
   "cell_type": "code",
   "execution_count": null,
   "metadata": {},
   "outputs": [],
   "source": [
    " "
   ]
  },
  {
   "cell_type": "code",
   "execution_count": null,
   "metadata": {},
   "outputs": [],
   "source": []
  },
  {
   "cell_type": "code",
   "execution_count": null,
   "metadata": {},
   "outputs": [],
   "source": []
  },
  {
   "cell_type": "code",
   "execution_count": null,
   "metadata": {},
   "outputs": [],
   "source": []
  },
  {
   "cell_type": "code",
   "execution_count": null,
   "metadata": {},
   "outputs": [],
   "source": []
  },
  {
   "cell_type": "code",
   "execution_count": 12,
   "metadata": {},
   "outputs": [
    {
     "name": "stdout",
     "output_type": "stream",
     "text": [
      "969\n",
      "70\n"
     ]
    }
   ],
   "source": [
    "import pandas as pd\n",
    "df_6 = pd.read_csv('Russel-Copy1.csv')\n",
    "spolki = df_6['Symbol'].to_list()\n",
    "print(spolki.index('ETRN'))\n",
    "spolki.reverse()\n",
    "print(len(spolki[950:]))"
   ]
  },
  {
   "cell_type": "code",
   "execution_count": null,
   "metadata": {},
   "outputs": [],
   "source": []
  },
  {
   "cell_type": "code",
   "execution_count": null,
   "metadata": {},
   "outputs": [],
   "source": []
  },
  {
   "cell_type": "code",
   "execution_count": null,
   "metadata": {},
   "outputs": [],
   "source": []
  },
  {
   "cell_type": "code",
   "execution_count": null,
   "metadata": {},
   "outputs": [],
   "source": []
  },
  {
   "cell_type": "code",
   "execution_count": null,
   "metadata": {},
   "outputs": [],
   "source": []
  },
  {
   "cell_type": "code",
   "execution_count": null,
   "metadata": {},
   "outputs": [],
   "source": []
  },
  {
   "cell_type": "code",
   "execution_count": null,
   "metadata": {},
   "outputs": [],
   "source": []
  },
  {
   "cell_type": "code",
   "execution_count": null,
   "metadata": {},
   "outputs": [],
   "source": []
  },
  {
   "cell_type": "code",
   "execution_count": null,
   "metadata": {},
   "outputs": [],
   "source": []
  },
  {
   "cell_type": "code",
   "execution_count": null,
   "metadata": {},
   "outputs": [],
   "source": []
  },
  {
   "cell_type": "code",
   "execution_count": null,
   "metadata": {},
   "outputs": [],
   "source": []
  },
  {
   "cell_type": "code",
   "execution_count": null,
   "metadata": {},
   "outputs": [],
   "source": []
  },
  {
   "cell_type": "code",
   "execution_count": 20,
   "metadata": {},
   "outputs": [
    {
     "ename": "FileNotFoundError",
     "evalue": "[WinError 2] The system cannot find the file specified: 'NYSE/JW.A.US.csv'",
     "output_type": "error",
     "traceback": [
      "\u001b[1;31m---------------------------------------------------------------------------\u001b[0m",
      "\u001b[1;31mFileNotFoundError\u001b[0m                         Traceback (most recent call last)",
      "\u001b[1;32m<ipython-input-20-bb5ee0ded9a9>\u001b[0m in \u001b[0;36m<module>\u001b[1;34m\u001b[0m\n\u001b[0;32m      1\u001b[0m \u001b[1;32mimport\u001b[0m \u001b[0mos\u001b[0m\u001b[1;33m\u001b[0m\u001b[1;33m\u001b[0m\u001b[0m\n\u001b[1;32m----> 2\u001b[1;33m \u001b[0mos\u001b[0m\u001b[1;33m.\u001b[0m\u001b[0mremove\u001b[0m\u001b[1;33m(\u001b[0m\u001b[1;34m'NYSE/JW.A.US.csv'\u001b[0m\u001b[1;33m)\u001b[0m\u001b[1;33m\u001b[0m\u001b[1;33m\u001b[0m\u001b[0m\n\u001b[0m",
      "\u001b[1;31mFileNotFoundError\u001b[0m: [WinError 2] The system cannot find the file specified: 'NYSE/JW.A.US.csv'"
     ]
    }
   ],
   "source": [
    "import os\n",
    "os.remove('NYSE/JW.A.US.csv')"
   ]
  },
  {
   "cell_type": "code",
   "execution_count": null,
   "metadata": {},
   "outputs": [],
   "source": []
  },
  {
   "cell_type": "code",
   "execution_count": null,
   "metadata": {},
   "outputs": [],
   "source": []
  },
  {
   "cell_type": "code",
   "execution_count": null,
   "metadata": {},
   "outputs": [],
   "source": []
  },
  {
   "cell_type": "code",
   "execution_count": null,
   "metadata": {},
   "outputs": [],
   "source": []
  },
  {
   "cell_type": "code",
   "execution_count": 17,
   "metadata": {},
   "outputs": [
    {
     "name": "stdout",
     "output_type": "stream",
     "text": [
      "840\n",
      "0\n"
     ]
    }
   ],
   "source": [
    "import os\n",
    "import pandas as pd\n",
    "score=0\n",
    "files = os.listdir('trendsup')\n",
    "print(len(files))\n",
    "for x in files:\n",
    "    df = pd.read_csv('trendsup/'+x)\n",
    "    if len(df)< 4300:\n",
    "        os.remove('trendsup/'+x)\n",
    "print(score)"
   ]
  },
  {
   "cell_type": "code",
   "execution_count": null,
   "metadata": {},
   "outputs": [],
   "source": []
  },
  {
   "cell_type": "code",
   "execution_count": null,
   "metadata": {},
   "outputs": [],
   "source": []
  },
  {
   "cell_type": "code",
   "execution_count": null,
   "metadata": {},
   "outputs": [],
   "source": []
  },
  {
   "cell_type": "code",
   "execution_count": null,
   "metadata": {},
   "outputs": [],
   "source": []
  },
  {
   "cell_type": "code",
   "execution_count": null,
   "metadata": {},
   "outputs": [],
   "source": []
  },
  {
   "cell_type": "code",
   "execution_count": null,
   "metadata": {},
   "outputs": [],
   "source": []
  },
  {
   "cell_type": "code",
   "execution_count": null,
   "metadata": {},
   "outputs": [],
   "source": []
  },
  {
   "cell_type": "code",
   "execution_count": null,
   "metadata": {},
   "outputs": [],
   "source": []
  },
  {
   "cell_type": "code",
   "execution_count": null,
   "metadata": {},
   "outputs": [],
   "source": []
  },
  {
   "cell_type": "code",
   "execution_count": null,
   "metadata": {},
   "outputs": [],
   "source": []
  },
  {
   "cell_type": "code",
   "execution_count": null,
   "metadata": {},
   "outputs": [],
   "source": []
  },
  {
   "cell_type": "code",
   "execution_count": null,
   "metadata": {},
   "outputs": [],
   "source": []
  },
  {
   "cell_type": "code",
   "execution_count": null,
   "metadata": {},
   "outputs": [],
   "source": []
  },
  {
   "cell_type": "code",
   "execution_count": null,
   "metadata": {},
   "outputs": [],
   "source": []
  },
  {
   "cell_type": "code",
   "execution_count": null,
   "metadata": {},
   "outputs": [],
   "source": [
    " "
   ]
  },
  {
   "cell_type": "code",
   "execution_count": null,
   "metadata": {},
   "outputs": [],
   "source": []
  },
  {
   "cell_type": "code",
   "execution_count": null,
   "metadata": {},
   "outputs": [],
   "source": []
  },
  {
   "cell_type": "code",
   "execution_count": null,
   "metadata": {},
   "outputs": [],
   "source": []
  },
  {
   "cell_type": "code",
   "execution_count": null,
   "metadata": {},
   "outputs": [],
   "source": []
  },
  {
   "cell_type": "code",
   "execution_count": null,
   "metadata": {},
   "outputs": [],
   "source": []
  },
  {
   "cell_type": "code",
   "execution_count": null,
   "metadata": {},
   "outputs": [],
   "source": []
  },
  {
   "cell_type": "code",
   "execution_count": null,
   "metadata": {},
   "outputs": [],
   "source": []
  },
  {
   "cell_type": "code",
   "execution_count": null,
   "metadata": {},
   "outputs": [],
   "source": []
  },
  {
   "cell_type": "code",
   "execution_count": null,
   "metadata": {},
   "outputs": [],
   "source": []
  },
  {
   "cell_type": "code",
   "execution_count": null,
   "metadata": {},
   "outputs": [],
   "source": []
  },
  {
   "cell_type": "code",
   "execution_count": null,
   "metadata": {},
   "outputs": [],
   "source": []
  },
  {
   "cell_type": "code",
   "execution_count": null,
   "metadata": {},
   "outputs": [],
   "source": []
  },
  {
   "cell_type": "code",
   "execution_count": null,
   "metadata": {},
   "outputs": [],
   "source": []
  },
  {
   "cell_type": "code",
   "execution_count": null,
   "metadata": {},
   "outputs": [],
   "source": []
  },
  {
   "cell_type": "code",
   "execution_count": null,
   "metadata": {},
   "outputs": [],
   "source": []
  },
  {
   "cell_type": "code",
   "execution_count": null,
   "metadata": {},
   "outputs": [],
   "source": []
  },
  {
   "cell_type": "code",
   "execution_count": null,
   "metadata": {},
   "outputs": [],
   "source": []
  },
  {
   "cell_type": "code",
   "execution_count": null,
   "metadata": {},
   "outputs": [],
   "source": []
  },
  {
   "cell_type": "code",
   "execution_count": null,
   "metadata": {},
   "outputs": [],
   "source": []
  },
  {
   "cell_type": "code",
   "execution_count": null,
   "metadata": {},
   "outputs": [],
   "source": []
  },
  {
   "cell_type": "code",
   "execution_count": null,
   "metadata": {},
   "outputs": [],
   "source": []
  },
  {
   "cell_type": "code",
   "execution_count": null,
   "metadata": {},
   "outputs": [],
   "source": []
  },
  {
   "cell_type": "code",
   "execution_count": null,
   "metadata": {},
   "outputs": [],
   "source": []
  },
  {
   "cell_type": "code",
   "execution_count": null,
   "metadata": {},
   "outputs": [],
   "source": []
  },
  {
   "cell_type": "code",
   "execution_count": null,
   "metadata": {},
   "outputs": [],
   "source": []
  },
  {
   "cell_type": "code",
   "execution_count": null,
   "metadata": {},
   "outputs": [],
   "source": []
  },
  {
   "cell_type": "code",
   "execution_count": null,
   "metadata": {},
   "outputs": [],
   "source": []
  },
  {
   "cell_type": "code",
   "execution_count": null,
   "metadata": {},
   "outputs": [],
   "source": []
  },
  {
   "cell_type": "code",
   "execution_count": null,
   "metadata": {},
   "outputs": [],
   "source": []
  },
  {
   "cell_type": "code",
   "execution_count": null,
   "metadata": {},
   "outputs": [],
   "source": []
  },
  {
   "cell_type": "code",
   "execution_count": 4,
   "metadata": {},
   "outputs": [
    {
     "data": {
      "text/html": [
       "<div>\n",
       "<style scoped>\n",
       "    .dataframe tbody tr th:only-of-type {\n",
       "        vertical-align: middle;\n",
       "    }\n",
       "\n",
       "    .dataframe tbody tr th {\n",
       "        vertical-align: top;\n",
       "    }\n",
       "\n",
       "    .dataframe thead th {\n",
       "        text-align: right;\n",
       "    }\n",
       "</style>\n",
       "<table border=\"1\" class=\"dataframe\">\n",
       "  <thead>\n",
       "    <tr style=\"text-align: right;\">\n",
       "      <th></th>\n",
       "      <th>Symbol</th>\n",
       "      <th>Name</th>\n",
       "      <th>Last</th>\n",
       "      <th>Change</th>\n",
       "      <th>%Chg</th>\n",
       "      <th>High</th>\n",
       "      <th>Low</th>\n",
       "      <th>Volume</th>\n",
       "      <th>Time</th>\n",
       "    </tr>\n",
       "  </thead>\n",
       "  <tbody>\n",
       "    <tr>\n",
       "      <th>0</th>\n",
       "      <td>AAPL</td>\n",
       "      <td>Apple Inc</td>\n",
       "      <td>132.99</td>\n",
       "      <td>2.63</td>\n",
       "      <td>+2.02%</td>\n",
       "      <td>133.04</td>\n",
       "      <td>129.47</td>\n",
       "      <td>106686703.0</td>\n",
       "      <td>04/09/21</td>\n",
       "    </tr>\n",
       "    <tr>\n",
       "      <th>1</th>\n",
       "      <td>ADBE</td>\n",
       "      <td>Adobe Systems Inc</td>\n",
       "      <td>504.04</td>\n",
       "      <td>4.20</td>\n",
       "      <td>+0.84%</td>\n",
       "      <td>504.44</td>\n",
       "      <td>492.60</td>\n",
       "      <td>1887000.0</td>\n",
       "      <td>04/09/21</td>\n",
       "    </tr>\n",
       "    <tr>\n",
       "      <th>2</th>\n",
       "      <td>ADI</td>\n",
       "      <td>Analog Devices</td>\n",
       "      <td>161.24</td>\n",
       "      <td>-0.88</td>\n",
       "      <td>-0.54%</td>\n",
       "      <td>161.97</td>\n",
       "      <td>160.17</td>\n",
       "      <td>2250400.0</td>\n",
       "      <td>04/09/21</td>\n",
       "    </tr>\n",
       "    <tr>\n",
       "      <th>3</th>\n",
       "      <td>ADP</td>\n",
       "      <td>Automatic Data Procs</td>\n",
       "      <td>189.44</td>\n",
       "      <td>1.24</td>\n",
       "      <td>+0.66%</td>\n",
       "      <td>189.83</td>\n",
       "      <td>187.00</td>\n",
       "      <td>1128400.0</td>\n",
       "      <td>04/09/21</td>\n",
       "    </tr>\n",
       "    <tr>\n",
       "      <th>4</th>\n",
       "      <td>ADSK</td>\n",
       "      <td>Autodesk Inc</td>\n",
       "      <td>297.57</td>\n",
       "      <td>4.14</td>\n",
       "      <td>+1.41%</td>\n",
       "      <td>297.90</td>\n",
       "      <td>290.38</td>\n",
       "      <td>1032700.0</td>\n",
       "      <td>04/09/21</td>\n",
       "    </tr>\n",
       "  </tbody>\n",
       "</table>\n",
       "</div>"
      ],
      "text/plain": [
       "  Symbol                  Name    Last  Change    %Chg    High     Low  \\\n",
       "0   AAPL             Apple Inc  132.99    2.63  +2.02%  133.04  129.47   \n",
       "1   ADBE     Adobe Systems Inc  504.04    4.20  +0.84%  504.44  492.60   \n",
       "2    ADI        Analog Devices  161.24   -0.88  -0.54%  161.97  160.17   \n",
       "3    ADP  Automatic Data Procs  189.44    1.24  +0.66%  189.83  187.00   \n",
       "4   ADSK          Autodesk Inc  297.57    4.14  +1.41%  297.90  290.38   \n",
       "\n",
       "        Volume      Time  \n",
       "0  106686703.0  04/09/21  \n",
       "1    1887000.0  04/09/21  \n",
       "2    2250400.0  04/09/21  \n",
       "3    1128400.0  04/09/21  \n",
       "4    1032700.0  04/09/21  "
      ]
     },
     "execution_count": 4,
     "metadata": {},
     "output_type": "execute_result"
    }
   ],
   "source": [
    "import pandas as pd\n",
    "df = pd.read_csv('nasdaq-100.csv')\n",
    "df.head()"
   ]
  },
  {
   "cell_type": "code",
   "execution_count": null,
   "metadata": {},
   "outputs": [],
   "source": []
  },
  {
   "cell_type": "code",
   "execution_count": null,
   "metadata": {},
   "outputs": [],
   "source": []
  },
  {
   "cell_type": "code",
   "execution_count": null,
   "metadata": {},
   "outputs": [],
   "source": []
  },
  {
   "cell_type": "code",
   "execution_count": null,
   "metadata": {},
   "outputs": [],
   "source": []
  },
  {
   "cell_type": "code",
   "execution_count": null,
   "metadata": {},
   "outputs": [],
   "source": []
  },
  {
   "cell_type": "code",
   "execution_count": null,
   "metadata": {},
   "outputs": [],
   "source": [
    " "
   ]
  },
  {
   "cell_type": "code",
   "execution_count": null,
   "metadata": {},
   "outputs": [],
   "source": []
  },
  {
   "cell_type": "code",
   "execution_count": null,
   "metadata": {},
   "outputs": [],
   "source": []
  },
  {
   "cell_type": "code",
   "execution_count": null,
   "metadata": {},
   "outputs": [],
   "source": []
  },
  {
   "cell_type": "code",
   "execution_count": null,
   "metadata": {},
   "outputs": [],
   "source": []
  },
  {
   "cell_type": "code",
   "execution_count": null,
   "metadata": {},
   "outputs": [],
   "source": []
  },
  {
   "cell_type": "code",
   "execution_count": 35,
   "metadata": {},
   "outputs": [
    {
     "data": {
      "image/png": "[encoded data removed]",
      "text/plain": [
       "<Figure size 1224x576 with 2 Axes>"
      ]
     },
     "metadata": {
      "needs_background": "light"
     },
     "output_type": "display_data"
    }
   ],
   "source": [
    "df = pd.read_csv('Obykurwa')\n",
    "import seaborn as sns\n",
    "import matplotlib.pyplot as plt\n",
    "\n",
    "plt.figure(1 , figsize = (17 , 8))\n",
    "cor = sns.heatmap(df.corr(), annot = True)"
   ]
  },
  {
   "cell_type": "code",
   "execution_count": null,
   "metadata": {},
   "outputs": [],
   "source": []
  },
  {
   "cell_type": "code",
   "execution_count": null,
   "metadata": {},
   "outputs": [],
   "source": []
  },
  {
   "cell_type": "code",
   "execution_count": null,
   "metadata": {},
   "outputs": [],
   "source": []
  },
  {
   "cell_type": "code",
   "execution_count": null,
   "metadata": {},
   "outputs": [],
   "source": []
  },
  {
   "cell_type": "code",
   "execution_count": null,
   "metadata": {},
   "outputs": [],
   "source": []
  },
  {
   "cell_type": "code",
   "execution_count": null,
   "metadata": {},
   "outputs": [],
   "source": []
  },
  {
   "cell_type": "code",
   "execution_count": null,
   "metadata": {},
   "outputs": [],
   "source": []
  },
  {
   "cell_type": "code",
   "execution_count": null,
   "metadata": {},
   "outputs": [],
   "source": []
  },
  {
   "cell_type": "code",
   "execution_count": null,
   "metadata": {},
   "outputs": [],
   "source": []
  },
  {
   "cell_type": "code",
   "execution_count": null,
   "metadata": {},
   "outputs": [],
   "source": []
  },
  {
   "cell_type": "code",
   "execution_count": null,
   "metadata": {},
   "outputs": [],
   "source": []
  },
  {
   "cell_type": "code",
   "execution_count": null,
   "metadata": {},
   "outputs": [],
   "source": []
  },
  {
   "cell_type": "code",
   "execution_count": null,
   "metadata": {},
   "outputs": [],
   "source": []
  },
  {
   "cell_type": "code",
   "execution_count": null,
   "metadata": {},
   "outputs": [],
   "source": []
  },
  {
   "cell_type": "code",
   "execution_count": null,
   "metadata": {},
   "outputs": [],
   "source": []
  },
  {
   "cell_type": "code",
   "execution_count": null,
   "metadata": {},
   "outputs": [
    {
     "name": "stdout",
     "output_type": "stream",
     "text": [
      "['NVDATRENDS.csv', 'NTESTRENDS.csv', 'NFLXTRENDS.csv', 'MXIMTRENDS.csv', 'MUTRENDS.csv', 'MSFTTRENDS.csv', 'MRVLTRENDS.csv', 'MDLZTRENDS.csv', 'MCHPTRENDS.csv', 'LRCXTRENDS.csv', 'KLACTRENDS.csv', 'ISRGTRENDS.csv', 'INTUTRENDS.csv', 'INTCTRENDS.csv', 'INCYTRENDS.csv', 'ILMNTRENDS.csv', 'IDXXTRENDS.csv', 'GILDTRENDS.csv', 'FISVTRENDS.csv', 'FASTTRENDS.csv', 'EXCTRENDS.csv', 'EBAYTRENDS.csv', 'EATRENDS.csv', 'DLTRTRENDS.csv', 'CTSHTRENDS.csv', 'CTASTRENDS.csv', 'CSXTRENDS.csv', 'CSCOTRENDS.csv', 'CPRTTRENDS.csv', 'COSTTRENDS.csv', 'CMCSATRENDS.csv', 'CHKPTRENDS.csv', 'CERNTRENDS.csv', 'CDNSTRENDS.csv', 'BKNGTRENDS.csv', 'ATVITRENDS.csv', 'ASMLTRENDS.csv', 'ANSSTRENDS.csv', 'AMZNTRENDS.csv', 'AMGNTRENDS.csv', 'AMDTRENDS.csv', 'AMATTRENDS.csv', 'ALXNTRENDS.csv', 'ALGNTRENDS.csv', 'AEPTRENDS.csv', 'ADSKTRENDS.csv', 'ADPTRENDS.csv', 'ADITRENDS.csv', 'ADBETRENDS.csv', 'AAPLTRENDS.csv']\n",
      "START:  NVDATRENDS.csv\n",
      "4338\n"
     ]
    },
    {
     "name": "stderr",
     "output_type": "stream",
     "text": [
      "<ipython-input-2-9522464bd7cc>:16: SettingWithCopyWarning: \n",
      "A value is trying to be set on a copy of a slice from a DataFrame\n",
      "\n",
      "See the caveats in the documentation: https://pandas.pydata.org/pandas-docs/stable/user_guide/indexing.html#returning-a-view-versus-a-copy\n",
      "  ticker['change'][x]= change_m\n"
     ]
    },
    {
     "name": "stdout",
     "output_type": "stream",
     "text": [
      "DONE:  NVDATRENDS.csv\n",
      "START:  NTESTRENDS.csv\n",
      "4338\n",
      "DONE:  NTESTRENDS.csv\n",
      "START:  NFLXTRENDS.csv\n",
      "4338\n",
      "DONE:  NFLXTRENDS.csv\n",
      "START:  MXIMTRENDS.csv\n",
      "4338\n",
      "DONE:  MXIMTRENDS.csv\n",
      "START:  MUTRENDS.csv\n",
      "4338\n",
      "DONE:  MUTRENDS.csv\n",
      "START:  MSFTTRENDS.csv\n",
      "4338\n",
      "DONE:  MSFTTRENDS.csv\n",
      "START:  MRVLTRENDS.csv\n",
      "4338\n",
      "DONE:  MRVLTRENDS.csv\n",
      "START:  MDLZTRENDS.csv\n",
      "4338\n",
      "DONE:  MDLZTRENDS.csv\n",
      "START:  MCHPTRENDS.csv\n",
      "4338\n",
      "DONE:  MCHPTRENDS.csv\n",
      "START:  LRCXTRENDS.csv\n",
      "4338\n",
      "DONE:  LRCXTRENDS.csv\n",
      "START:  KLACTRENDS.csv\n",
      "4338\n",
      "DONE:  KLACTRENDS.csv\n",
      "START:  ISRGTRENDS.csv\n",
      "4338\n"
     ]
    }
   ],
   "source": [
    "import pandas as pd\n",
    "import os\n",
    "gg = []\n",
    "def makeSet(file):\n",
    "    ticker = pd.read_csv('TrendsV3_L/'+file)\n",
    "    print(len(ticker))\n",
    "    for x in range(len(ticker)):\n",
    "        if x != len(ticker)-32:\n",
    "            first_m= ticker['Close'][x]\n",
    "            second_m = ticker['Close'][x+5]\n",
    "            change = (first_m/second_m)*100\n",
    "            if change > 100:\n",
    "                change_m = change-100\n",
    "            else:\n",
    "                change_m = change-100\n",
    "            ticker['change'][x]= change_m\n",
    "            ticker.to_csv('TrendsV3_L/'+file)\n",
    "        else:\n",
    "            break\n",
    "#df_6 = pd.read_csv('nasdaq-100.csv')\n",
    "#spolki = df_6['Symbol'].to_list()\n",
    "spolki = os.listdir('TrendsV3_L')\n",
    "spolki.pop(0)\n",
    "spolki.reverse()\n",
    "for f in range(0,16):\n",
    "    spolki.pop(0)\n",
    "print(spolki)\n",
    "\n",
    "for x in spolki:\n",
    "    print('START: ',x)\n",
    "    makeSet(x)\n",
    "    print('DONE: ',x)"
   ]
  },
  {
   "cell_type": "code",
   "execution_count": null,
   "metadata": {},
   "outputs": [],
   "source": []
  },
  {
   "cell_type": "code",
   "execution_count": null,
   "metadata": {},
   "outputs": [],
   "source": []
  },
  {
   "cell_type": "code",
   "execution_count": null,
   "metadata": {},
   "outputs": [],
   "source": []
  },
  {
   "cell_type": "code",
   "execution_count": null,
   "metadata": {},
   "outputs": [],
   "source": []
  },
  {
   "cell_type": "code",
   "execution_count": null,
   "metadata": {},
   "outputs": [],
   "source": []
  },
  {
   "cell_type": "code",
   "execution_count": null,
   "metadata": {},
   "outputs": [],
   "source": []
  },
  {
   "cell_type": "code",
   "execution_count": null,
   "metadata": {},
   "outputs": [],
   "source": []
  },
  {
   "cell_type": "code",
   "execution_count": null,
   "metadata": {},
   "outputs": [],
   "source": []
  },
  {
   "cell_type": "code",
   "execution_count": null,
   "metadata": {},
   "outputs": [],
   "source": []
  },
  {
   "cell_type": "code",
   "execution_count": null,
   "metadata": {},
   "outputs": [],
   "source": []
  },
  {
   "cell_type": "code",
   "execution_count": null,
   "metadata": {},
   "outputs": [],
   "source": []
  },
  {
   "cell_type": "code",
   "execution_count": null,
   "metadata": {},
   "outputs": [],
   "source": []
  },
  {
   "cell_type": "code",
   "execution_count": null,
   "metadata": {},
   "outputs": [],
   "source": []
  },
  {
   "cell_type": "code",
   "execution_count": 29,
   "metadata": {},
   "outputs": [
    {
     "data": {
      "text/html": [
       "<div>\n",
       "<style scoped>\n",
       "    .dataframe tbody tr th:only-of-type {\n",
       "        vertical-align: middle;\n",
       "    }\n",
       "\n",
       "    .dataframe tbody tr th {\n",
       "        vertical-align: top;\n",
       "    }\n",
       "\n",
       "    .dataframe thead th {\n",
       "        text-align: right;\n",
       "    }\n",
       "</style>\n",
       "<table border=\"1\" class=\"dataframe\">\n",
       "  <thead>\n",
       "    <tr style=\"text-align: right;\">\n",
       "      <th></th>\n",
       "      <th>date</th>\n",
       "      <th>AAPL stock</th>\n",
       "    </tr>\n",
       "  </thead>\n",
       "  <tbody>\n",
       "    <tr>\n",
       "      <th>0</th>\n",
       "      <td>2016-04-10</td>\n",
       "      <td>11.0</td>\n",
       "    </tr>\n",
       "    <tr>\n",
       "      <th>1</th>\n",
       "      <td>2016-04-11</td>\n",
       "      <td>11.0</td>\n",
       "    </tr>\n",
       "    <tr>\n",
       "      <th>2</th>\n",
       "      <td>2016-04-12</td>\n",
       "      <td>11.0</td>\n",
       "    </tr>\n",
       "    <tr>\n",
       "      <th>3</th>\n",
       "      <td>2016-04-13</td>\n",
       "      <td>11.0</td>\n",
       "    </tr>\n",
       "    <tr>\n",
       "      <th>4</th>\n",
       "      <td>2016-04-14</td>\n",
       "      <td>11.0</td>\n",
       "    </tr>\n",
       "  </tbody>\n",
       "</table>\n",
       "</div>"
      ],
      "text/plain": [
       "        date  AAPL stock\n",
       "0 2016-04-10        11.0\n",
       "1 2016-04-11        11.0\n",
       "2 2016-04-12        11.0\n",
       "3 2016-04-13        11.0\n",
       "4 2016-04-14        11.0"
      ]
     },
     "execution_count": 29,
     "metadata": {},
     "output_type": "execute_result"
    },
    {
     "data": {
      "image/png": "[encoded data removed]",
      "text/plain": [
       "<Figure size 432x288 with 1 Axes>"
      ]
     },
     "metadata": {
      "needs_background": "light"
     },
     "output_type": "display_data"
    }
   ],
   "source": [
    "df = pd.read_csv('Trends001')\n",
    "# Make sure dates is treated as datetime \n",
    "df['date'] = pd.to_datetime(df['date'], format = \"%Y-%m-%d\")\n",
    "\n",
    "from pandas.tseries.offsets import DateOffset\n",
    "\n",
    "# Create target dates: all days in the weeks in the original dataframe\n",
    "new_index = pd.date_range(start=df['date'].iloc[0],\n",
    "                          end=df['date'].iloc[-1] + DateOffset(6),\n",
    "                          freq='D')\n",
    "\n",
    "# Temporarily set dates as index, conform to target dates and forward fill data\n",
    "# Finally reset the index as in the original df  \n",
    "out = df.set_index('date')\\\n",
    "        .reindex(new_index).ffill()\\\n",
    "        .reset_index(drop=False)\\\n",
    "        .rename(columns = {'index' : 'date'})\n",
    "out.to_csv('Trends24')\n",
    "out['AAPL stock'].plot()\n",
    "out.head()"
   ]
  },
  {
   "cell_type": "code",
   "execution_count": null,
   "metadata": {},
   "outputs": [],
   "source": []
  },
  {
   "cell_type": "code",
   "execution_count": 9,
   "metadata": {},
   "outputs": [
    {
     "data": {
      "text/plain": [
       "<AxesSubplot:>"
      ]
     },
     "execution_count": 9,
     "metadata": {},
     "output_type": "execute_result"
    },
    {
     "data": {
      "image/png": "[encoded data removed]",
      "text/plain": [
       "<Figure size 432x288 with 1 Axes>"
      ]
     },
     "metadata": {
      "needs_background": "light"
     },
     "output_type": "display_data"
    }
   ],
   "source": [
    "trends = pd.read_csv('Trends001')\n",
    "trends['AAPL stock'].plot()"
   ]
  },
  {
   "cell_type": "code",
   "execution_count": null,
   "metadata": {},
   "outputs": [],
   "source": []
  },
  {
   "cell_type": "code",
   "execution_count": null,
   "metadata": {},
   "outputs": [],
   "source": []
  },
  {
   "cell_type": "code",
   "execution_count": null,
   "metadata": {},
   "outputs": [],
   "source": []
  },
  {
   "cell_type": "code",
   "execution_count": null,
   "metadata": {},
   "outputs": [],
   "source": []
  },
  {
   "cell_type": "code",
   "execution_count": null,
   "metadata": {},
   "outputs": [],
   "source": []
  },
  {
   "cell_type": "code",
   "execution_count": null,
   "metadata": {},
   "outputs": [],
   "source": []
  },
  {
   "cell_type": "code",
   "execution_count": null,
   "metadata": {},
   "outputs": [],
   "source": []
  },
  {
   "cell_type": "code",
   "execution_count": null,
   "metadata": {},
   "outputs": [],
   "source": []
  },
  {
   "cell_type": "code",
   "execution_count": null,
   "metadata": {},
   "outputs": [],
   "source": []
  },
  {
   "cell_type": "code",
   "execution_count": null,
   "metadata": {},
   "outputs": [],
   "source": []
  },
  {
   "cell_type": "code",
   "execution_count": null,
   "metadata": {},
   "outputs": [],
   "source": []
  },
  {
   "cell_type": "code",
   "execution_count": null,
   "metadata": {},
   "outputs": [],
   "source": []
  },
  {
   "cell_type": "code",
   "execution_count": null,
   "metadata": {},
   "outputs": [],
   "source": []
  },
  {
   "cell_type": "code",
   "execution_count": null,
   "metadata": {},
   "outputs": [],
   "source": []
  },
  {
   "cell_type": "code",
   "execution_count": null,
   "metadata": {},
   "outputs": [],
   "source": []
  },
  {
   "cell_type": "code",
   "execution_count": null,
   "metadata": {},
   "outputs": [],
   "source": []
  },
  {
   "cell_type": "code",
   "execution_count": null,
   "metadata": {},
   "outputs": [],
   "source": []
  },
  {
   "cell_type": "code",
   "execution_count": null,
   "metadata": {},
   "outputs": [],
   "source": []
  },
  {
   "cell_type": "code",
   "execution_count": null,
   "metadata": {},
   "outputs": [],
   "source": []
  },
  {
   "cell_type": "code",
   "execution_count": null,
   "metadata": {},
   "outputs": [],
   "source": []
  },
  {
   "cell_type": "code",
   "execution_count": null,
   "metadata": {},
   "outputs": [],
   "source": []
  },
  {
   "cell_type": "code",
   "execution_count": null,
   "metadata": {},
   "outputs": [],
   "source": []
  },
  {
   "cell_type": "code",
   "execution_count": null,
   "metadata": {},
   "outputs": [],
   "source": []
  },
  {
   "cell_type": "code",
   "execution_count": null,
   "metadata": {},
   "outputs": [],
   "source": []
  },
  {
   "cell_type": "code",
   "execution_count": null,
   "metadata": {},
   "outputs": [],
   "source": []
  },
  {
   "cell_type": "code",
   "execution_count": null,
   "metadata": {},
   "outputs": [],
   "source": []
  },
  {
   "cell_type": "code",
   "execution_count": null,
   "metadata": {},
   "outputs": [],
   "source": []
  },
  {
   "cell_type": "code",
   "execution_count": null,
   "metadata": {},
   "outputs": [],
   "source": []
  },
  {
   "cell_type": "code",
   "execution_count": null,
   "metadata": {},
   "outputs": [],
   "source": []
  },
  {
   "cell_type": "code",
   "execution_count": null,
   "metadata": {},
   "outputs": [],
   "source": []
  }
 ],
 "metadata": {
  "kernelspec": {
   "display_name": "Python 3",
   "language": "python",
   "name": "python3"
  },
  "language_info": {
   "codemirror_mode": {
    "name": "ipython",
    "version": 3
   },
   "file_extension": ".py",
   "mimetype": "text/x-python",
   "name": "python",
   "nbconvert_exporter": "python",
   "pygments_lexer": "ipython3",
   "version": "3.8.8"
  }
 },
 "nbformat": 4,
 "nbformat_minor": 4
}
